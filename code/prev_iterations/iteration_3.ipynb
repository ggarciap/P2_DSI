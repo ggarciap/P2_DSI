{
 "cells": [
  {
   "cell_type": "markdown",
   "metadata": {},
   "source": [
    "### Importing Libraries"
   ]
  },
  {
   "cell_type": "code",
   "execution_count": 1,
   "metadata": {},
   "outputs": [],
   "source": [
    "import pandas as pd\n",
    "import numpy as np\n",
    "import matplotlib.pyplot as plt\n",
    "import seaborn as sns\n",
    "from sklearn.linear_model import LinearRegression\n",
    "from sklearn.preprocessing import PolynomialFeatures, StandardScaler\n",
    "from sklearn.model_selection import train_test_split, cross_val_score, cross_val_predict\n",
    "from sklearn.metrics import r2_score"
   ]
  },
  {
   "cell_type": "code",
   "execution_count": 2,
   "metadata": {},
   "outputs": [
    {
     "data": {
      "text/html": [
       "<div>\n",
       "<style scoped>\n",
       "    .dataframe tbody tr th:only-of-type {\n",
       "        vertical-align: middle;\n",
       "    }\n",
       "\n",
       "    .dataframe tbody tr th {\n",
       "        vertical-align: top;\n",
       "    }\n",
       "\n",
       "    .dataframe thead th {\n",
       "        text-align: right;\n",
       "    }\n",
       "</style>\n",
       "<table border=\"1\" class=\"dataframe\">\n",
       "  <thead>\n",
       "    <tr style=\"text-align: right;\">\n",
       "      <th></th>\n",
       "      <th>Id</th>\n",
       "      <th>PID</th>\n",
       "      <th>MS SubClass</th>\n",
       "      <th>MS Zoning</th>\n",
       "      <th>Lot Frontage</th>\n",
       "      <th>Lot Area</th>\n",
       "      <th>Street</th>\n",
       "      <th>Alley</th>\n",
       "      <th>Lot Shape</th>\n",
       "      <th>Land Contour</th>\n",
       "      <th>...</th>\n",
       "      <th>Screen Porch</th>\n",
       "      <th>Pool Area</th>\n",
       "      <th>Pool QC</th>\n",
       "      <th>Fence</th>\n",
       "      <th>Misc Feature</th>\n",
       "      <th>Misc Val</th>\n",
       "      <th>Mo Sold</th>\n",
       "      <th>Yr Sold</th>\n",
       "      <th>Sale Type</th>\n",
       "      <th>SalePrice</th>\n",
       "    </tr>\n",
       "  </thead>\n",
       "  <tbody>\n",
       "    <tr>\n",
       "      <th>0</th>\n",
       "      <td>109</td>\n",
       "      <td>533352170</td>\n",
       "      <td>60</td>\n",
       "      <td>RL</td>\n",
       "      <td>NaN</td>\n",
       "      <td>13517</td>\n",
       "      <td>Pave</td>\n",
       "      <td>NaN</td>\n",
       "      <td>IR1</td>\n",
       "      <td>Lvl</td>\n",
       "      <td>...</td>\n",
       "      <td>0</td>\n",
       "      <td>0</td>\n",
       "      <td>NaN</td>\n",
       "      <td>NaN</td>\n",
       "      <td>NaN</td>\n",
       "      <td>0</td>\n",
       "      <td>3</td>\n",
       "      <td>2010</td>\n",
       "      <td>WD</td>\n",
       "      <td>130500.0</td>\n",
       "    </tr>\n",
       "    <tr>\n",
       "      <th>1</th>\n",
       "      <td>544</td>\n",
       "      <td>531379050</td>\n",
       "      <td>60</td>\n",
       "      <td>RL</td>\n",
       "      <td>43.0</td>\n",
       "      <td>11492</td>\n",
       "      <td>Pave</td>\n",
       "      <td>NaN</td>\n",
       "      <td>IR1</td>\n",
       "      <td>Lvl</td>\n",
       "      <td>...</td>\n",
       "      <td>0</td>\n",
       "      <td>0</td>\n",
       "      <td>NaN</td>\n",
       "      <td>NaN</td>\n",
       "      <td>NaN</td>\n",
       "      <td>0</td>\n",
       "      <td>4</td>\n",
       "      <td>2009</td>\n",
       "      <td>WD</td>\n",
       "      <td>220000.0</td>\n",
       "    </tr>\n",
       "    <tr>\n",
       "      <th>2</th>\n",
       "      <td>153</td>\n",
       "      <td>535304180</td>\n",
       "      <td>20</td>\n",
       "      <td>RL</td>\n",
       "      <td>68.0</td>\n",
       "      <td>7922</td>\n",
       "      <td>Pave</td>\n",
       "      <td>NaN</td>\n",
       "      <td>Reg</td>\n",
       "      <td>Lvl</td>\n",
       "      <td>...</td>\n",
       "      <td>0</td>\n",
       "      <td>0</td>\n",
       "      <td>NaN</td>\n",
       "      <td>NaN</td>\n",
       "      <td>NaN</td>\n",
       "      <td>0</td>\n",
       "      <td>1</td>\n",
       "      <td>2010</td>\n",
       "      <td>WD</td>\n",
       "      <td>109000.0</td>\n",
       "    </tr>\n",
       "    <tr>\n",
       "      <th>3</th>\n",
       "      <td>318</td>\n",
       "      <td>916386060</td>\n",
       "      <td>60</td>\n",
       "      <td>RL</td>\n",
       "      <td>73.0</td>\n",
       "      <td>9802</td>\n",
       "      <td>Pave</td>\n",
       "      <td>NaN</td>\n",
       "      <td>Reg</td>\n",
       "      <td>Lvl</td>\n",
       "      <td>...</td>\n",
       "      <td>0</td>\n",
       "      <td>0</td>\n",
       "      <td>NaN</td>\n",
       "      <td>NaN</td>\n",
       "      <td>NaN</td>\n",
       "      <td>0</td>\n",
       "      <td>4</td>\n",
       "      <td>2010</td>\n",
       "      <td>WD</td>\n",
       "      <td>174000.0</td>\n",
       "    </tr>\n",
       "    <tr>\n",
       "      <th>4</th>\n",
       "      <td>255</td>\n",
       "      <td>906425045</td>\n",
       "      <td>50</td>\n",
       "      <td>RL</td>\n",
       "      <td>82.0</td>\n",
       "      <td>14235</td>\n",
       "      <td>Pave</td>\n",
       "      <td>NaN</td>\n",
       "      <td>IR1</td>\n",
       "      <td>Lvl</td>\n",
       "      <td>...</td>\n",
       "      <td>0</td>\n",
       "      <td>0</td>\n",
       "      <td>NaN</td>\n",
       "      <td>NaN</td>\n",
       "      <td>NaN</td>\n",
       "      <td>0</td>\n",
       "      <td>3</td>\n",
       "      <td>2010</td>\n",
       "      <td>WD</td>\n",
       "      <td>138500.0</td>\n",
       "    </tr>\n",
       "  </tbody>\n",
       "</table>\n",
       "<p>5 rows × 81 columns</p>\n",
       "</div>"
      ],
      "text/plain": [
       "    Id        PID  MS SubClass MS Zoning  Lot Frontage  Lot Area Street Alley  \\\n",
       "0  109  533352170           60        RL           NaN     13517   Pave   NaN   \n",
       "1  544  531379050           60        RL          43.0     11492   Pave   NaN   \n",
       "2  153  535304180           20        RL          68.0      7922   Pave   NaN   \n",
       "3  318  916386060           60        RL          73.0      9802   Pave   NaN   \n",
       "4  255  906425045           50        RL          82.0     14235   Pave   NaN   \n",
       "\n",
       "  Lot Shape Land Contour  ... Screen Porch Pool Area Pool QC Fence  \\\n",
       "0       IR1          Lvl  ...            0         0     NaN   NaN   \n",
       "1       IR1          Lvl  ...            0         0     NaN   NaN   \n",
       "2       Reg          Lvl  ...            0         0     NaN   NaN   \n",
       "3       Reg          Lvl  ...            0         0     NaN   NaN   \n",
       "4       IR1          Lvl  ...            0         0     NaN   NaN   \n",
       "\n",
       "  Misc Feature Misc Val Mo Sold Yr Sold  Sale Type  SalePrice  \n",
       "0          NaN        0       3    2010        WD    130500.0  \n",
       "1          NaN        0       4    2009        WD    220000.0  \n",
       "2          NaN        0       1    2010        WD    109000.0  \n",
       "3          NaN        0       4    2010        WD    174000.0  \n",
       "4          NaN        0       3    2010        WD    138500.0  \n",
       "\n",
       "[5 rows x 81 columns]"
      ]
     },
     "execution_count": 2,
     "metadata": {},
     "output_type": "execute_result"
    }
   ],
   "source": [
    "# By contatenating both training and testint dataset we ensure that\n",
    "# all the feature engineering and preprocesseing is mantained in both\n",
    "# datasets.  \n",
    "df_train = pd.read_csv('./datasets/train.csv')\n",
    "df_test = pd.read_csv('./datasets/test.csv')\n",
    "df = pd.concat([df_train, df_test], ignore_index=True)\n",
    "df.head()"
   ]
  },
  {
   "cell_type": "code",
   "execution_count": 3,
   "metadata": {},
   "outputs": [
    {
     "data": {
      "text/plain": [
       "(878, 80)"
      ]
     },
     "execution_count": 3,
     "metadata": {},
     "output_type": "execute_result"
    }
   ],
   "source": [
    "df_test.shape"
   ]
  },
  {
   "cell_type": "code",
   "execution_count": 4,
   "metadata": {},
   "outputs": [
    {
     "name": "stdout",
     "output_type": "stream",
     "text": [
      "<class 'pandas.core.frame.DataFrame'>\n",
      "RangeIndex: 2929 entries, 0 to 2928\n",
      "Data columns (total 81 columns):\n",
      " #   Column           Non-Null Count  Dtype  \n",
      "---  ------           --------------  -----  \n",
      " 0   Id               2929 non-null   int64  \n",
      " 1   PID              2929 non-null   int64  \n",
      " 2   MS SubClass      2929 non-null   int64  \n",
      " 3   MS Zoning        2929 non-null   object \n",
      " 4   Lot Frontage     2439 non-null   float64\n",
      " 5   Lot Area         2929 non-null   int64  \n",
      " 6   Street           2929 non-null   object \n",
      " 7   Alley            198 non-null    object \n",
      " 8   Lot Shape        2929 non-null   object \n",
      " 9   Land Contour     2929 non-null   object \n",
      " 10  Utilities        2929 non-null   object \n",
      " 11  Lot Config       2929 non-null   object \n",
      " 12  Land Slope       2929 non-null   object \n",
      " 13  Neighborhood     2929 non-null   object \n",
      " 14  Condition 1      2929 non-null   object \n",
      " 15  Condition 2      2929 non-null   object \n",
      " 16  Bldg Type        2929 non-null   object \n",
      " 17  House Style      2929 non-null   object \n",
      " 18  Overall Qual     2929 non-null   int64  \n",
      " 19  Overall Cond     2929 non-null   int64  \n",
      " 20  Year Built       2929 non-null   int64  \n",
      " 21  Year Remod/Add   2929 non-null   int64  \n",
      " 22  Roof Style       2929 non-null   object \n",
      " 23  Roof Matl        2929 non-null   object \n",
      " 24  Exterior 1st     2929 non-null   object \n",
      " 25  Exterior 2nd     2929 non-null   object \n",
      " 26  Mas Vnr Type     2906 non-null   object \n",
      " 27  Mas Vnr Area     2906 non-null   float64\n",
      " 28  Exter Qual       2929 non-null   object \n",
      " 29  Exter Cond       2929 non-null   object \n",
      " 30  Foundation       2929 non-null   object \n",
      " 31  Bsmt Qual        2849 non-null   object \n",
      " 32  Bsmt Cond        2849 non-null   object \n",
      " 33  Bsmt Exposure    2846 non-null   object \n",
      " 34  BsmtFin Type 1   2849 non-null   object \n",
      " 35  BsmtFin SF 1     2928 non-null   float64\n",
      " 36  BsmtFin Type 2   2848 non-null   object \n",
      " 37  BsmtFin SF 2     2928 non-null   float64\n",
      " 38  Bsmt Unf SF      2928 non-null   float64\n",
      " 39  Total Bsmt SF    2928 non-null   float64\n",
      " 40  Heating          2929 non-null   object \n",
      " 41  Heating QC       2929 non-null   object \n",
      " 42  Central Air      2929 non-null   object \n",
      " 43  Electrical       2928 non-null   object \n",
      " 44  1st Flr SF       2929 non-null   int64  \n",
      " 45  2nd Flr SF       2929 non-null   int64  \n",
      " 46  Low Qual Fin SF  2929 non-null   int64  \n",
      " 47  Gr Liv Area      2929 non-null   int64  \n",
      " 48  Bsmt Full Bath   2927 non-null   float64\n",
      " 49  Bsmt Half Bath   2927 non-null   float64\n",
      " 50  Full Bath        2929 non-null   int64  \n",
      " 51  Half Bath        2929 non-null   int64  \n",
      " 52  Bedroom AbvGr    2929 non-null   int64  \n",
      " 53  Kitchen AbvGr    2929 non-null   int64  \n",
      " 54  Kitchen Qual     2929 non-null   object \n",
      " 55  TotRms AbvGrd    2929 non-null   int64  \n",
      " 56  Functional       2929 non-null   object \n",
      " 57  Fireplaces       2929 non-null   int64  \n",
      " 58  Fireplace Qu     1507 non-null   object \n",
      " 59  Garage Type      2772 non-null   object \n",
      " 60  Garage Yr Blt    2770 non-null   float64\n",
      " 61  Garage Finish    2770 non-null   object \n",
      " 62  Garage Cars      2928 non-null   float64\n",
      " 63  Garage Area      2928 non-null   float64\n",
      " 64  Garage Qual      2770 non-null   object \n",
      " 65  Garage Cond      2770 non-null   object \n",
      " 66  Paved Drive      2929 non-null   object \n",
      " 67  Wood Deck SF     2929 non-null   int64  \n",
      " 68  Open Porch SF    2929 non-null   int64  \n",
      " 69  Enclosed Porch   2929 non-null   int64  \n",
      " 70  3Ssn Porch       2929 non-null   int64  \n",
      " 71  Screen Porch     2929 non-null   int64  \n",
      " 72  Pool Area        2929 non-null   int64  \n",
      " 73  Pool QC          13 non-null     object \n",
      " 74  Fence            572 non-null    object \n",
      " 75  Misc Feature     106 non-null    object \n",
      " 76  Misc Val         2929 non-null   int64  \n",
      " 77  Mo Sold          2929 non-null   int64  \n",
      " 78  Yr Sold          2929 non-null   int64  \n",
      " 79  Sale Type        2929 non-null   object \n",
      " 80  SalePrice        2051 non-null   float64\n",
      "dtypes: float64(12), int64(27), object(42)\n",
      "memory usage: 1.8+ MB\n"
     ]
    }
   ],
   "source": [
    "df.info()"
   ]
  },
  {
   "cell_type": "markdown",
   "metadata": {},
   "source": [
    "### Data Cleaning and Feature Engineering"
   ]
  },
  {
   "cell_type": "code",
   "execution_count": 5,
   "metadata": {},
   "outputs": [],
   "source": [
    "# droping columns based on missing nans\n",
    "# print(f'Cols before droping nan\\'s: {df.shape[1]}')\n",
    "# temp = df.dropna(axis='columns')\n",
    "# print(f'Cols after droping nan\\'s: {temp.shape[1]}')\n",
    "# df = temp"
   ]
  },
  {
   "cell_type": "code",
   "execution_count": 6,
   "metadata": {},
   "outputs": [
    {
     "data": {
      "text/plain": [
       "Index(['Id', 'PID', 'MS SubClass', 'MS Zoning', 'Lot Frontage', 'Lot Area',\n",
       "       'Street', 'Alley', 'Lot Shape', 'Land Contour', 'Utilities',\n",
       "       'Lot Config', 'Land Slope', 'Neighborhood', 'Condition 1',\n",
       "       'Condition 2', 'Bldg Type', 'House Style', 'Overall Qual',\n",
       "       'Overall Cond', 'Year Built', 'Year Remod/Add', 'Roof Style',\n",
       "       'Roof Matl', 'Exterior 1st', 'Exterior 2nd', 'Mas Vnr Type',\n",
       "       'Mas Vnr Area', 'Exter Qual', 'Exter Cond', 'Foundation', 'Bsmt Qual',\n",
       "       'Bsmt Cond', 'Bsmt Exposure', 'BsmtFin Type 1', 'BsmtFin SF 1',\n",
       "       'BsmtFin Type 2', 'BsmtFin SF 2', 'Bsmt Unf SF', 'Total Bsmt SF',\n",
       "       'Heating', 'Heating QC', 'Central Air', 'Electrical', '1st Flr SF',\n",
       "       '2nd Flr SF', 'Low Qual Fin SF', 'Gr Liv Area', 'Bsmt Full Bath',\n",
       "       'Bsmt Half Bath', 'Full Bath', 'Half Bath', 'Bedroom AbvGr',\n",
       "       'Kitchen AbvGr', 'Kitchen Qual', 'TotRms AbvGrd', 'Functional',\n",
       "       'Fireplaces', 'Fireplace Qu', 'Garage Type', 'Garage Yr Blt',\n",
       "       'Garage Finish', 'Garage Cars', 'Garage Area', 'Garage Qual',\n",
       "       'Garage Cond', 'Paved Drive', 'Wood Deck SF', 'Open Porch SF',\n",
       "       'Enclosed Porch', '3Ssn Porch', 'Screen Porch', 'Pool Area', 'Pool QC',\n",
       "       'Fence', 'Misc Feature', 'Misc Val', 'Mo Sold', 'Yr Sold', 'Sale Type',\n",
       "       'SalePrice'],\n",
       "      dtype='object')"
      ]
     },
     "execution_count": 6,
     "metadata": {},
     "output_type": "execute_result"
    }
   ],
   "source": [
    "df.columns"
   ]
  },
  {
   "cell_type": "code",
   "execution_count": 7,
   "metadata": {},
   "outputs": [
    {
     "data": {
      "text/plain": [
       "PID               -0.255052\n",
       "Enclosed Porch    -0.135656\n",
       "Kitchen AbvGr     -0.125444\n",
       "Overall Cond      -0.097019\n",
       "MS SubClass       -0.087335\n",
       "Id                -0.051398\n",
       "Bsmt Half Bath    -0.045328\n",
       "Low Qual Fin SF   -0.041594\n",
       "Yr Sold           -0.015203\n",
       "Misc Val          -0.007375\n",
       "BsmtFin SF 2       0.016255\n",
       "Pool Area          0.023106\n",
       "Mo Sold            0.032735\n",
       "3Ssn Porch         0.048732\n",
       "Screen Porch       0.134581\n",
       "Bedroom AbvGr      0.137067\n",
       "Bsmt Unf SF        0.190210\n",
       "2nd Flr SF         0.248452\n",
       "Half Bath          0.283001\n",
       "Bsmt Full Bath     0.283662\n",
       "Lot Area           0.296566\n",
       "Wood Deck SF       0.326490\n",
       "Open Porch SF      0.333476\n",
       "Lot Frontage       0.341842\n",
       "BsmtFin SF 1       0.423519\n",
       "Fireplaces         0.471093\n",
       "TotRms AbvGrd      0.504014\n",
       "Mas Vnr Area       0.512230\n",
       "Garage Yr Blt      0.533922\n",
       "Full Bath          0.537969\n",
       "Year Remod/Add     0.550370\n",
       "Year Built         0.571849\n",
       "1st Flr SF         0.618486\n",
       "Total Bsmt SF      0.628925\n",
       "Garage Cars        0.648220\n",
       "Garage Area        0.650270\n",
       "Gr Liv Area        0.697038\n",
       "Overall Qual       0.800207\n",
       "SalePrice          1.000000\n",
       "Name: SalePrice, dtype: float64"
      ]
     },
     "execution_count": 7,
     "metadata": {},
     "output_type": "execute_result"
    }
   ],
   "source": [
    "df.corr()['SalePrice'].sort_values()"
   ]
  },
  {
   "cell_type": "code",
   "execution_count": 8,
   "metadata": {},
   "outputs": [],
   "source": [
    "# Getting a series of features with significant corr\n",
    "series_sig_corr = df.corr()['SalePrice'] >= .571849"
   ]
  },
  {
   "cell_type": "code",
   "execution_count": 9,
   "metadata": {},
   "outputs": [],
   "source": [
    "# Reference for taking the index values in pandas from \n",
    "# the following stackoverflow post\n",
    "# https://stackoverflow.com/questions/52173161/getting-a-list-of-indices-where-pandas-boolean-series-is-true\n",
    "features_high_corr = series_sig_corr[series_sig_corr].index.values"
   ]
  },
  {
   "cell_type": "code",
   "execution_count": 10,
   "metadata": {},
   "outputs": [
    {
     "data": {
      "text/plain": [
       "Overall Qual       int64\n",
       "Total Bsmt SF    float64\n",
       "1st Flr SF         int64\n",
       "Gr Liv Area        int64\n",
       "Garage Cars      float64\n",
       "Garage Area      float64\n",
       "SalePrice        float64\n",
       "dtype: object"
      ]
     },
     "execution_count": 10,
     "metadata": {},
     "output_type": "execute_result"
    }
   ],
   "source": [
    "df_first_iter = df[features_high_corr]\n",
    "df[features_high_corr].dtypes"
   ]
  },
  {
   "cell_type": "code",
   "execution_count": 11,
   "metadata": {},
   "outputs": [
    {
     "data": {
      "text/html": [
       "<div>\n",
       "<style scoped>\n",
       "    .dataframe tbody tr th:only-of-type {\n",
       "        vertical-align: middle;\n",
       "    }\n",
       "\n",
       "    .dataframe tbody tr th {\n",
       "        vertical-align: top;\n",
       "    }\n",
       "\n",
       "    .dataframe thead th {\n",
       "        text-align: right;\n",
       "    }\n",
       "</style>\n",
       "<table border=\"1\" class=\"dataframe\">\n",
       "  <thead>\n",
       "    <tr style=\"text-align: right;\">\n",
       "      <th></th>\n",
       "      <th>Overall Qual</th>\n",
       "      <th>Total Bsmt SF</th>\n",
       "      <th>1st Flr SF</th>\n",
       "      <th>Gr Liv Area</th>\n",
       "      <th>Garage Cars</th>\n",
       "      <th>Garage Area</th>\n",
       "      <th>SalePrice</th>\n",
       "    </tr>\n",
       "  </thead>\n",
       "  <tbody>\n",
       "    <tr>\n",
       "      <th>0</th>\n",
       "      <td>6</td>\n",
       "      <td>725.0</td>\n",
       "      <td>725</td>\n",
       "      <td>1479</td>\n",
       "      <td>2.0</td>\n",
       "      <td>475.0</td>\n",
       "      <td>130500.0</td>\n",
       "    </tr>\n",
       "    <tr>\n",
       "      <th>1</th>\n",
       "      <td>7</td>\n",
       "      <td>913.0</td>\n",
       "      <td>913</td>\n",
       "      <td>2122</td>\n",
       "      <td>2.0</td>\n",
       "      <td>559.0</td>\n",
       "      <td>220000.0</td>\n",
       "    </tr>\n",
       "    <tr>\n",
       "      <th>2</th>\n",
       "      <td>5</td>\n",
       "      <td>1057.0</td>\n",
       "      <td>1057</td>\n",
       "      <td>1057</td>\n",
       "      <td>1.0</td>\n",
       "      <td>246.0</td>\n",
       "      <td>109000.0</td>\n",
       "    </tr>\n",
       "    <tr>\n",
       "      <th>3</th>\n",
       "      <td>5</td>\n",
       "      <td>384.0</td>\n",
       "      <td>744</td>\n",
       "      <td>1444</td>\n",
       "      <td>2.0</td>\n",
       "      <td>400.0</td>\n",
       "      <td>174000.0</td>\n",
       "    </tr>\n",
       "    <tr>\n",
       "      <th>4</th>\n",
       "      <td>6</td>\n",
       "      <td>676.0</td>\n",
       "      <td>831</td>\n",
       "      <td>1445</td>\n",
       "      <td>2.0</td>\n",
       "      <td>484.0</td>\n",
       "      <td>138500.0</td>\n",
       "    </tr>\n",
       "  </tbody>\n",
       "</table>\n",
       "</div>"
      ],
      "text/plain": [
       "   Overall Qual  Total Bsmt SF  1st Flr SF  Gr Liv Area  Garage Cars  \\\n",
       "0             6          725.0         725         1479          2.0   \n",
       "1             7          913.0         913         2122          2.0   \n",
       "2             5         1057.0        1057         1057          1.0   \n",
       "3             5          384.0         744         1444          2.0   \n",
       "4             6          676.0         831         1445          2.0   \n",
       "\n",
       "   Garage Area  SalePrice  \n",
       "0        475.0   130500.0  \n",
       "1        559.0   220000.0  \n",
       "2        246.0   109000.0  \n",
       "3        400.0   174000.0  \n",
       "4        484.0   138500.0  "
      ]
     },
     "execution_count": 11,
     "metadata": {},
     "output_type": "execute_result"
    }
   ],
   "source": [
    "df_first_iter.head()"
   ]
  },
  {
   "cell_type": "markdown",
   "metadata": {},
   "source": [
    "Note: Decided to drop `Garage Yr Blt` due to the large number of NaN and the fact that imputation makes the model perform worst"
   ]
  },
  {
   "cell_type": "code",
   "execution_count": 13,
   "metadata": {},
   "outputs": [],
   "source": [
    "#df_first_iter = df_first_iter.drop(columns='Garage Yr Blt')"
   ]
  },
  {
   "cell_type": "markdown",
   "metadata": {},
   "source": [
    "### Getting dummies of categorical features "
   ]
  },
  {
   "cell_type": "code",
   "execution_count": 15,
   "metadata": {},
   "outputs": [],
   "source": [
    "#set(df_first_iter['Full Bath'])"
   ]
  },
  {
   "cell_type": "code",
   "execution_count": 16,
   "metadata": {},
   "outputs": [],
   "source": [
    "# df_first_iter = pd.get_dummies(df_first_iter, columns=['Full Bath'], prefix='Full_Bath')"
   ]
  },
  {
   "cell_type": "code",
   "execution_count": 18,
   "metadata": {},
   "outputs": [],
   "source": [
    "# set(df_first_iter['TotRms AbvGrd'])"
   ]
  },
  {
   "cell_type": "code",
   "execution_count": 19,
   "metadata": {},
   "outputs": [],
   "source": [
    "# df_first_iter = pd.get_dummies(df_first_iter, columns=['TotRms AbvGrd'], prefix='TotRms_AbvGrd')"
   ]
  },
  {
   "cell_type": "code",
   "execution_count": 21,
   "metadata": {},
   "outputs": [],
   "source": [
    "# set(df_first_iter['Fireplaces'])"
   ]
  },
  {
   "cell_type": "code",
   "execution_count": 22,
   "metadata": {},
   "outputs": [],
   "source": [
    "#df_first_iter = pd.get_dummies(df_first_iter, columns=['Fireplaces'], prefix='Fireplaces')"
   ]
  },
  {
   "cell_type": "code",
   "execution_count": 23,
   "metadata": {},
   "outputs": [],
   "source": [
    "# set(df_first_iter['Garage Yr Blt'])"
   ]
  },
  {
   "cell_type": "code",
   "execution_count": 24,
   "metadata": {},
   "outputs": [
    {
     "data": {
      "text/plain": [
       "Overall Qual       0\n",
       "Total Bsmt SF      1\n",
       "1st Flr SF         0\n",
       "Gr Liv Area        0\n",
       "Garage Cars        1\n",
       "Garage Area        1\n",
       "SalePrice        878\n",
       "dtype: int64"
      ]
     },
     "execution_count": 24,
     "metadata": {},
     "output_type": "execute_result"
    }
   ],
   "source": [
    "df_first_iter.isna().sum()"
   ]
  },
  {
   "cell_type": "code",
   "execution_count": 25,
   "metadata": {},
   "outputs": [
    {
     "data": {
      "text/plain": [
       "(2929, 7)"
      ]
     },
     "execution_count": 25,
     "metadata": {},
     "output_type": "execute_result"
    }
   ],
   "source": [
    "df_first_iter.shape"
   ]
  },
  {
   "cell_type": "markdown",
   "metadata": {},
   "source": [
    "### Data imputation"
   ]
  },
  {
   "cell_type": "code",
   "execution_count": 26,
   "metadata": {},
   "outputs": [],
   "source": [
    "proc_train = df_first_iter.loc[df['SalePrice'].notna()]\n",
    "proc_test = df_first_iter.loc[df['SalePrice'].isna()]"
   ]
  },
  {
   "cell_type": "code",
   "execution_count": 27,
   "metadata": {},
   "outputs": [
    {
     "name": "stderr",
     "output_type": "stream",
     "text": [
      "/usr/local/anaconda3/lib/python3.8/site-packages/pandas/core/generic.py:6245: SettingWithCopyWarning: \n",
      "A value is trying to be set on a copy of a slice from a DataFrame\n",
      "\n",
      "See the caveats in the documentation: https://pandas.pydata.org/pandas-docs/stable/user_guide/indexing.html#returning-a-view-versus-a-copy\n",
      "  self._update_inplace(new_data)\n"
     ]
    }
   ],
   "source": [
    "# Use basic imputation provided by pandas to columns with no significant number of\n",
    "# of NaN\n",
    "proc_train['Garage Area'].fillna(proc_train['Garage Area'].mean(), inplace = True)\n",
    "proc_train['Garage Cars'].fillna(proc_train['Garage Cars'].mean(), inplace = True)\n",
    "proc_train['Total Bsmt SF'].fillna(proc_train['Total Bsmt SF'].mean(), inplace = True)\n"
   ]
  },
  {
   "cell_type": "code",
   "execution_count": 28,
   "metadata": {},
   "outputs": [],
   "source": [
    "# Use basic imputation provided by pandas to columns with no significant number of\n",
    "# of NaN\n",
    "proc_test['Garage Area'].fillna(proc_test['Garage Area'].mean(), inplace = True)\n",
    "proc_test['Garage Cars'].fillna(proc_test['Garage Cars'].mean(), inplace = True)\n",
    "proc_test['Total Bsmt SF'].fillna(proc_test['Total Bsmt SF'].mean(), inplace = True)\n"
   ]
  },
  {
   "cell_type": "markdown",
   "metadata": {},
   "source": [
    "### Define feature Matrix and Target"
   ]
  },
  {
   "cell_type": "code",
   "execution_count": 30,
   "metadata": {},
   "outputs": [
    {
     "data": {
      "text/plain": [
       "Overall Qual     0\n",
       "Total Bsmt SF    0\n",
       "1st Flr SF       0\n",
       "Gr Liv Area      0\n",
       "Garage Cars      0\n",
       "Garage Area      0\n",
       "SalePrice        0\n",
       "dtype: int64"
      ]
     },
     "execution_count": 30,
     "metadata": {},
     "output_type": "execute_result"
    }
   ],
   "source": [
    "proc_train.isna().sum()"
   ]
  },
  {
   "cell_type": "code",
   "execution_count": 31,
   "metadata": {},
   "outputs": [
    {
     "data": {
      "text/plain": [
       "Overall Qual       0\n",
       "Total Bsmt SF      0\n",
       "1st Flr SF         0\n",
       "Gr Liv Area        0\n",
       "Garage Cars        0\n",
       "Garage Area        0\n",
       "SalePrice        878\n",
       "dtype: int64"
      ]
     },
     "execution_count": 31,
     "metadata": {},
     "output_type": "execute_result"
    }
   ],
   "source": [
    "proc_test.isna().sum()"
   ]
  },
  {
   "cell_type": "code",
   "execution_count": 32,
   "metadata": {},
   "outputs": [],
   "source": [
    "X = proc_train.drop(columns=['SalePrice'])\n",
    "y = proc_train['SalePrice']"
   ]
  },
  {
   "cell_type": "code",
   "execution_count": 33,
   "metadata": {},
   "outputs": [],
   "source": [
    "X_train, X_test, y_train, y_test = train_test_split(X, y, random_state = 30)"
   ]
  },
  {
   "cell_type": "markdown",
   "metadata": {},
   "source": [
    "### Instantiate, Fit and Model "
   ]
  },
  {
   "cell_type": "code",
   "execution_count": 34,
   "metadata": {},
   "outputs": [],
   "source": [
    "lr = LinearRegression()"
   ]
  },
  {
   "cell_type": "code",
   "execution_count": 35,
   "metadata": {},
   "outputs": [
    {
     "data": {
      "text/plain": [
       "LinearRegression()"
      ]
     },
     "execution_count": 35,
     "metadata": {},
     "output_type": "execute_result"
    }
   ],
   "source": [
    "lr.fit(X_train, y_train)"
   ]
  },
  {
   "cell_type": "code",
   "execution_count": 36,
   "metadata": {},
   "outputs": [
    {
     "data": {
      "text/plain": [
       "(0.8265386931706129, 0.5858876568326628)"
      ]
     },
     "execution_count": 36,
     "metadata": {},
     "output_type": "execute_result"
    }
   ],
   "source": [
    "lr.score(X_train, y_train), lr.score(X_test, y_test)"
   ]
  },
  {
   "cell_type": "markdown",
   "metadata": {},
   "source": [
    "### Run model through test.csv"
   ]
  },
  {
   "cell_type": "code",
   "execution_count": null,
   "metadata": {},
   "outputs": [],
   "source": [
    "X_TEST = proc_test.drop(columns=['SalePrice'])"
   ]
  },
  {
   "cell_type": "code",
   "execution_count": null,
   "metadata": {},
   "outputs": [],
   "source": [
    "preds = lr.predict(X_TEST)\n",
    "preds.shape"
   ]
  },
  {
   "cell_type": "code",
   "execution_count": null,
   "metadata": {},
   "outputs": [],
   "source": [
    "df_test.shape"
   ]
  },
  {
   "cell_type": "code",
   "execution_count": null,
   "metadata": {},
   "outputs": [],
   "source": [
    "df_test['y_hat'] = preds"
   ]
  },
  {
   "cell_type": "code",
   "execution_count": null,
   "metadata": {},
   "outputs": [],
   "source": [
    "df.iloc[2051,:]"
   ]
  },
  {
   "cell_type": "code",
   "execution_count": null,
   "metadata": {},
   "outputs": [],
   "source": [
    "proc_test.head()"
   ]
  },
  {
   "cell_type": "code",
   "execution_count": null,
   "metadata": {},
   "outputs": [],
   "source": [
    "df_test.head()"
   ]
  },
  {
   "cell_type": "code",
   "execution_count": null,
   "metadata": {},
   "outputs": [],
   "source": [
    "df_submission = df_test[['Id','y_hat']]"
   ]
  },
  {
   "cell_type": "code",
   "execution_count": null,
   "metadata": {},
   "outputs": [],
   "source": [
    "df_submission = df_submission.rename(columns={'y_hat':'SalePrice'})"
   ]
  },
  {
   "cell_type": "code",
   "execution_count": null,
   "metadata": {},
   "outputs": [],
   "source": [
    "df_submission"
   ]
  },
  {
   "cell_type": "markdown",
   "metadata": {},
   "source": [
    "### Export as CSV"
   ]
  },
  {
   "cell_type": "code",
   "execution_count": null,
   "metadata": {},
   "outputs": [],
   "source": [
    "# df_submission.to_csv('my_submission.csv', index=False)"
   ]
  },
  {
   "cell_type": "code",
   "execution_count": null,
   "metadata": {},
   "outputs": [],
   "source": []
  }
 ],
 "metadata": {
  "kernelspec": {
   "display_name": "Python 3",
   "language": "python",
   "name": "python3"
  },
  "language_info": {
   "codemirror_mode": {
    "name": "ipython",
    "version": 3
   },
   "file_extension": ".py",
   "mimetype": "text/x-python",
   "name": "python",
   "nbconvert_exporter": "python",
   "pygments_lexer": "ipython3",
   "version": "3.8.3"
  }
 },
 "nbformat": 4,
 "nbformat_minor": 4
}
