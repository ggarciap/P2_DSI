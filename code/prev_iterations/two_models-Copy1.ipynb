{
 "cells": [
  {
   "cell_type": "markdown",
   "metadata": {},
   "source": [
    "### Importing Libraries"
   ]
  },
  {
   "cell_type": "code",
   "execution_count": 361,
   "metadata": {},
   "outputs": [],
   "source": [
    "import pandas as pd\n",
    "import numpy as np\n",
    "import matplotlib.pyplot as plt\n",
    "import seaborn as sns\n",
    "from sklearn.linear_model import LinearRegression, LassoCV, RidgeCV, Lasso, LogisticRegression\n",
    "from sklearn.preprocessing import PolynomialFeatures, StandardScaler\n",
    "from sklearn.model_selection import train_test_split, cross_val_score, cross_val_predict, GridSearchCV\n",
    "from sklearn.metrics import r2_score\n",
    "from sklearn.pipeline import Pipeline\n",
    "from sklearn.ensemble import VotingRegressor"
   ]
  },
  {
   "cell_type": "code",
   "execution_count": 294,
   "metadata": {},
   "outputs": [
    {
     "data": {
      "text/html": [
       "<div>\n",
       "<style scoped>\n",
       "    .dataframe tbody tr th:only-of-type {\n",
       "        vertical-align: middle;\n",
       "    }\n",
       "\n",
       "    .dataframe tbody tr th {\n",
       "        vertical-align: top;\n",
       "    }\n",
       "\n",
       "    .dataframe thead th {\n",
       "        text-align: right;\n",
       "    }\n",
       "</style>\n",
       "<table border=\"1\" class=\"dataframe\">\n",
       "  <thead>\n",
       "    <tr style=\"text-align: right;\">\n",
       "      <th></th>\n",
       "      <th>Id</th>\n",
       "      <th>PID</th>\n",
       "      <th>MS SubClass</th>\n",
       "      <th>MS Zoning</th>\n",
       "      <th>Lot Frontage</th>\n",
       "      <th>Lot Area</th>\n",
       "      <th>Street</th>\n",
       "      <th>Alley</th>\n",
       "      <th>Lot Shape</th>\n",
       "      <th>Land Contour</th>\n",
       "      <th>...</th>\n",
       "      <th>Screen Porch</th>\n",
       "      <th>Pool Area</th>\n",
       "      <th>Pool QC</th>\n",
       "      <th>Fence</th>\n",
       "      <th>Misc Feature</th>\n",
       "      <th>Misc Val</th>\n",
       "      <th>Mo Sold</th>\n",
       "      <th>Yr Sold</th>\n",
       "      <th>Sale Type</th>\n",
       "      <th>SalePrice</th>\n",
       "    </tr>\n",
       "  </thead>\n",
       "  <tbody>\n",
       "    <tr>\n",
       "      <th>0</th>\n",
       "      <td>109</td>\n",
       "      <td>533352170</td>\n",
       "      <td>60</td>\n",
       "      <td>RL</td>\n",
       "      <td>NaN</td>\n",
       "      <td>13517</td>\n",
       "      <td>Pave</td>\n",
       "      <td>NaN</td>\n",
       "      <td>IR1</td>\n",
       "      <td>Lvl</td>\n",
       "      <td>...</td>\n",
       "      <td>0</td>\n",
       "      <td>0</td>\n",
       "      <td>NaN</td>\n",
       "      <td>NaN</td>\n",
       "      <td>NaN</td>\n",
       "      <td>0</td>\n",
       "      <td>3</td>\n",
       "      <td>2010</td>\n",
       "      <td>WD</td>\n",
       "      <td>130500.0</td>\n",
       "    </tr>\n",
       "    <tr>\n",
       "      <th>1</th>\n",
       "      <td>544</td>\n",
       "      <td>531379050</td>\n",
       "      <td>60</td>\n",
       "      <td>RL</td>\n",
       "      <td>43.0</td>\n",
       "      <td>11492</td>\n",
       "      <td>Pave</td>\n",
       "      <td>NaN</td>\n",
       "      <td>IR1</td>\n",
       "      <td>Lvl</td>\n",
       "      <td>...</td>\n",
       "      <td>0</td>\n",
       "      <td>0</td>\n",
       "      <td>NaN</td>\n",
       "      <td>NaN</td>\n",
       "      <td>NaN</td>\n",
       "      <td>0</td>\n",
       "      <td>4</td>\n",
       "      <td>2009</td>\n",
       "      <td>WD</td>\n",
       "      <td>220000.0</td>\n",
       "    </tr>\n",
       "    <tr>\n",
       "      <th>2</th>\n",
       "      <td>153</td>\n",
       "      <td>535304180</td>\n",
       "      <td>20</td>\n",
       "      <td>RL</td>\n",
       "      <td>68.0</td>\n",
       "      <td>7922</td>\n",
       "      <td>Pave</td>\n",
       "      <td>NaN</td>\n",
       "      <td>Reg</td>\n",
       "      <td>Lvl</td>\n",
       "      <td>...</td>\n",
       "      <td>0</td>\n",
       "      <td>0</td>\n",
       "      <td>NaN</td>\n",
       "      <td>NaN</td>\n",
       "      <td>NaN</td>\n",
       "      <td>0</td>\n",
       "      <td>1</td>\n",
       "      <td>2010</td>\n",
       "      <td>WD</td>\n",
       "      <td>109000.0</td>\n",
       "    </tr>\n",
       "    <tr>\n",
       "      <th>3</th>\n",
       "      <td>318</td>\n",
       "      <td>916386060</td>\n",
       "      <td>60</td>\n",
       "      <td>RL</td>\n",
       "      <td>73.0</td>\n",
       "      <td>9802</td>\n",
       "      <td>Pave</td>\n",
       "      <td>NaN</td>\n",
       "      <td>Reg</td>\n",
       "      <td>Lvl</td>\n",
       "      <td>...</td>\n",
       "      <td>0</td>\n",
       "      <td>0</td>\n",
       "      <td>NaN</td>\n",
       "      <td>NaN</td>\n",
       "      <td>NaN</td>\n",
       "      <td>0</td>\n",
       "      <td>4</td>\n",
       "      <td>2010</td>\n",
       "      <td>WD</td>\n",
       "      <td>174000.0</td>\n",
       "    </tr>\n",
       "    <tr>\n",
       "      <th>4</th>\n",
       "      <td>255</td>\n",
       "      <td>906425045</td>\n",
       "      <td>50</td>\n",
       "      <td>RL</td>\n",
       "      <td>82.0</td>\n",
       "      <td>14235</td>\n",
       "      <td>Pave</td>\n",
       "      <td>NaN</td>\n",
       "      <td>IR1</td>\n",
       "      <td>Lvl</td>\n",
       "      <td>...</td>\n",
       "      <td>0</td>\n",
       "      <td>0</td>\n",
       "      <td>NaN</td>\n",
       "      <td>NaN</td>\n",
       "      <td>NaN</td>\n",
       "      <td>0</td>\n",
       "      <td>3</td>\n",
       "      <td>2010</td>\n",
       "      <td>WD</td>\n",
       "      <td>138500.0</td>\n",
       "    </tr>\n",
       "  </tbody>\n",
       "</table>\n",
       "<p>5 rows × 81 columns</p>\n",
       "</div>"
      ],
      "text/plain": [
       "    Id        PID  MS SubClass MS Zoning  Lot Frontage  Lot Area Street Alley  \\\n",
       "0  109  533352170           60        RL           NaN     13517   Pave   NaN   \n",
       "1  544  531379050           60        RL          43.0     11492   Pave   NaN   \n",
       "2  153  535304180           20        RL          68.0      7922   Pave   NaN   \n",
       "3  318  916386060           60        RL          73.0      9802   Pave   NaN   \n",
       "4  255  906425045           50        RL          82.0     14235   Pave   NaN   \n",
       "\n",
       "  Lot Shape Land Contour  ... Screen Porch Pool Area Pool QC Fence  \\\n",
       "0       IR1          Lvl  ...            0         0     NaN   NaN   \n",
       "1       IR1          Lvl  ...            0         0     NaN   NaN   \n",
       "2       Reg          Lvl  ...            0         0     NaN   NaN   \n",
       "3       Reg          Lvl  ...            0         0     NaN   NaN   \n",
       "4       IR1          Lvl  ...            0         0     NaN   NaN   \n",
       "\n",
       "  Misc Feature Misc Val Mo Sold Yr Sold  Sale Type  SalePrice  \n",
       "0          NaN        0       3    2010        WD    130500.0  \n",
       "1          NaN        0       4    2009        WD    220000.0  \n",
       "2          NaN        0       1    2010        WD    109000.0  \n",
       "3          NaN        0       4    2010        WD    174000.0  \n",
       "4          NaN        0       3    2010        WD    138500.0  \n",
       "\n",
       "[5 rows x 81 columns]"
      ]
     },
     "execution_count": 294,
     "metadata": {},
     "output_type": "execute_result"
    }
   ],
   "source": [
    "# By contatenating both training and testint dataset we ensure that\n",
    "# all the feature engineering and preprocesseing is mantained in both\n",
    "# datasets.  \n",
    "df_train = pd.read_csv('./datasets/train.csv')\n",
    "df_test = pd.read_csv('./datasets/test.csv')\n",
    "df = pd.concat([df_train, df_test], ignore_index=True)\n",
    "df.head()"
   ]
  },
  {
   "cell_type": "code",
   "execution_count": 295,
   "metadata": {},
   "outputs": [
    {
     "data": {
      "text/plain": [
       "(878, 80)"
      ]
     },
     "execution_count": 295,
     "metadata": {},
     "output_type": "execute_result"
    }
   ],
   "source": [
    "df_test.shape"
   ]
  },
  {
   "cell_type": "code",
   "execution_count": 296,
   "metadata": {},
   "outputs": [
    {
     "name": "stdout",
     "output_type": "stream",
     "text": [
      "<class 'pandas.core.frame.DataFrame'>\n",
      "RangeIndex: 2929 entries, 0 to 2928\n",
      "Data columns (total 81 columns):\n",
      " #   Column           Non-Null Count  Dtype  \n",
      "---  ------           --------------  -----  \n",
      " 0   Id               2929 non-null   int64  \n",
      " 1   PID              2929 non-null   int64  \n",
      " 2   MS SubClass      2929 non-null   int64  \n",
      " 3   MS Zoning        2929 non-null   object \n",
      " 4   Lot Frontage     2439 non-null   float64\n",
      " 5   Lot Area         2929 non-null   int64  \n",
      " 6   Street           2929 non-null   object \n",
      " 7   Alley            198 non-null    object \n",
      " 8   Lot Shape        2929 non-null   object \n",
      " 9   Land Contour     2929 non-null   object \n",
      " 10  Utilities        2929 non-null   object \n",
      " 11  Lot Config       2929 non-null   object \n",
      " 12  Land Slope       2929 non-null   object \n",
      " 13  Neighborhood     2929 non-null   object \n",
      " 14  Condition 1      2929 non-null   object \n",
      " 15  Condition 2      2929 non-null   object \n",
      " 16  Bldg Type        2929 non-null   object \n",
      " 17  House Style      2929 non-null   object \n",
      " 18  Overall Qual     2929 non-null   int64  \n",
      " 19  Overall Cond     2929 non-null   int64  \n",
      " 20  Year Built       2929 non-null   int64  \n",
      " 21  Year Remod/Add   2929 non-null   int64  \n",
      " 22  Roof Style       2929 non-null   object \n",
      " 23  Roof Matl        2929 non-null   object \n",
      " 24  Exterior 1st     2929 non-null   object \n",
      " 25  Exterior 2nd     2929 non-null   object \n",
      " 26  Mas Vnr Type     2906 non-null   object \n",
      " 27  Mas Vnr Area     2906 non-null   float64\n",
      " 28  Exter Qual       2929 non-null   object \n",
      " 29  Exter Cond       2929 non-null   object \n",
      " 30  Foundation       2929 non-null   object \n",
      " 31  Bsmt Qual        2849 non-null   object \n",
      " 32  Bsmt Cond        2849 non-null   object \n",
      " 33  Bsmt Exposure    2846 non-null   object \n",
      " 34  BsmtFin Type 1   2849 non-null   object \n",
      " 35  BsmtFin SF 1     2928 non-null   float64\n",
      " 36  BsmtFin Type 2   2848 non-null   object \n",
      " 37  BsmtFin SF 2     2928 non-null   float64\n",
      " 38  Bsmt Unf SF      2928 non-null   float64\n",
      " 39  Total Bsmt SF    2928 non-null   float64\n",
      " 40  Heating          2929 non-null   object \n",
      " 41  Heating QC       2929 non-null   object \n",
      " 42  Central Air      2929 non-null   object \n",
      " 43  Electrical       2928 non-null   object \n",
      " 44  1st Flr SF       2929 non-null   int64  \n",
      " 45  2nd Flr SF       2929 non-null   int64  \n",
      " 46  Low Qual Fin SF  2929 non-null   int64  \n",
      " 47  Gr Liv Area      2929 non-null   int64  \n",
      " 48  Bsmt Full Bath   2927 non-null   float64\n",
      " 49  Bsmt Half Bath   2927 non-null   float64\n",
      " 50  Full Bath        2929 non-null   int64  \n",
      " 51  Half Bath        2929 non-null   int64  \n",
      " 52  Bedroom AbvGr    2929 non-null   int64  \n",
      " 53  Kitchen AbvGr    2929 non-null   int64  \n",
      " 54  Kitchen Qual     2929 non-null   object \n",
      " 55  TotRms AbvGrd    2929 non-null   int64  \n",
      " 56  Functional       2929 non-null   object \n",
      " 57  Fireplaces       2929 non-null   int64  \n",
      " 58  Fireplace Qu     1507 non-null   object \n",
      " 59  Garage Type      2772 non-null   object \n",
      " 60  Garage Yr Blt    2770 non-null   float64\n",
      " 61  Garage Finish    2770 non-null   object \n",
      " 62  Garage Cars      2928 non-null   float64\n",
      " 63  Garage Area      2928 non-null   float64\n",
      " 64  Garage Qual      2770 non-null   object \n",
      " 65  Garage Cond      2770 non-null   object \n",
      " 66  Paved Drive      2929 non-null   object \n",
      " 67  Wood Deck SF     2929 non-null   int64  \n",
      " 68  Open Porch SF    2929 non-null   int64  \n",
      " 69  Enclosed Porch   2929 non-null   int64  \n",
      " 70  3Ssn Porch       2929 non-null   int64  \n",
      " 71  Screen Porch     2929 non-null   int64  \n",
      " 72  Pool Area        2929 non-null   int64  \n",
      " 73  Pool QC          13 non-null     object \n",
      " 74  Fence            572 non-null    object \n",
      " 75  Misc Feature     106 non-null    object \n",
      " 76  Misc Val         2929 non-null   int64  \n",
      " 77  Mo Sold          2929 non-null   int64  \n",
      " 78  Yr Sold          2929 non-null   int64  \n",
      " 79  Sale Type        2929 non-null   object \n",
      " 80  SalePrice        2051 non-null   float64\n",
      "dtypes: float64(12), int64(27), object(42)\n",
      "memory usage: 1.8+ MB\n"
     ]
    }
   ],
   "source": [
    "df.info()"
   ]
  },
  {
   "cell_type": "markdown",
   "metadata": {},
   "source": [
    "### Data Cleaning and Feature Engineering"
   ]
  },
  {
   "cell_type": "code",
   "execution_count": 297,
   "metadata": {},
   "outputs": [
    {
     "data": {
      "text/plain": [
       "Index(['Id', 'PID', 'MS SubClass', 'MS Zoning', 'Lot Frontage', 'Lot Area',\n",
       "       'Street', 'Alley', 'Lot Shape', 'Land Contour', 'Utilities',\n",
       "       'Lot Config', 'Land Slope', 'Neighborhood', 'Condition 1',\n",
       "       'Condition 2', 'Bldg Type', 'House Style', 'Overall Qual',\n",
       "       'Overall Cond', 'Year Built', 'Year Remod/Add', 'Roof Style',\n",
       "       'Roof Matl', 'Exterior 1st', 'Exterior 2nd', 'Mas Vnr Type',\n",
       "       'Mas Vnr Area', 'Exter Qual', 'Exter Cond', 'Foundation', 'Bsmt Qual',\n",
       "       'Bsmt Cond', 'Bsmt Exposure', 'BsmtFin Type 1', 'BsmtFin SF 1',\n",
       "       'BsmtFin Type 2', 'BsmtFin SF 2', 'Bsmt Unf SF', 'Total Bsmt SF',\n",
       "       'Heating', 'Heating QC', 'Central Air', 'Electrical', '1st Flr SF',\n",
       "       '2nd Flr SF', 'Low Qual Fin SF', 'Gr Liv Area', 'Bsmt Full Bath',\n",
       "       'Bsmt Half Bath', 'Full Bath', 'Half Bath', 'Bedroom AbvGr',\n",
       "       'Kitchen AbvGr', 'Kitchen Qual', 'TotRms AbvGrd', 'Functional',\n",
       "       'Fireplaces', 'Fireplace Qu', 'Garage Type', 'Garage Yr Blt',\n",
       "       'Garage Finish', 'Garage Cars', 'Garage Area', 'Garage Qual',\n",
       "       'Garage Cond', 'Paved Drive', 'Wood Deck SF', 'Open Porch SF',\n",
       "       'Enclosed Porch', '3Ssn Porch', 'Screen Porch', 'Pool Area', 'Pool QC',\n",
       "       'Fence', 'Misc Feature', 'Misc Val', 'Mo Sold', 'Yr Sold', 'Sale Type',\n",
       "       'SalePrice'],\n",
       "      dtype='object')"
      ]
     },
     "execution_count": 297,
     "metadata": {},
     "output_type": "execute_result"
    }
   ],
   "source": [
    "df.columns"
   ]
  },
  {
   "cell_type": "code",
   "execution_count": 298,
   "metadata": {},
   "outputs": [
    {
     "data": {
      "text/plain": [
       "PID               -0.255052\n",
       "Enclosed Porch    -0.135656\n",
       "Kitchen AbvGr     -0.125444\n",
       "Overall Cond      -0.097019\n",
       "MS SubClass       -0.087335\n",
       "Id                -0.051398\n",
       "Bsmt Half Bath    -0.045328\n",
       "Low Qual Fin SF   -0.041594\n",
       "Yr Sold           -0.015203\n",
       "Misc Val          -0.007375\n",
       "BsmtFin SF 2       0.016255\n",
       "Pool Area          0.023106\n",
       "Mo Sold            0.032735\n",
       "3Ssn Porch         0.048732\n",
       "Screen Porch       0.134581\n",
       "Bedroom AbvGr      0.137067\n",
       "Bsmt Unf SF        0.190210\n",
       "2nd Flr SF         0.248452\n",
       "Half Bath          0.283001\n",
       "Bsmt Full Bath     0.283662\n",
       "Lot Area           0.296566\n",
       "Wood Deck SF       0.326490\n",
       "Open Porch SF      0.333476\n",
       "Lot Frontage       0.341842\n",
       "BsmtFin SF 1       0.423519\n",
       "Fireplaces         0.471093\n",
       "TotRms AbvGrd      0.504014\n",
       "Mas Vnr Area       0.512230\n",
       "Garage Yr Blt      0.533922\n",
       "Full Bath          0.537969\n",
       "Year Remod/Add     0.550370\n",
       "Year Built         0.571849\n",
       "1st Flr SF         0.618486\n",
       "Total Bsmt SF      0.628925\n",
       "Garage Cars        0.648220\n",
       "Garage Area        0.650270\n",
       "Gr Liv Area        0.697038\n",
       "Overall Qual       0.800207\n",
       "SalePrice          1.000000\n",
       "Name: SalePrice, dtype: float64"
      ]
     },
     "execution_count": 298,
     "metadata": {},
     "output_type": "execute_result"
    }
   ],
   "source": [
    "df.corr()['SalePrice'].sort_values()"
   ]
  },
  {
   "cell_type": "code",
   "execution_count": 299,
   "metadata": {},
   "outputs": [
    {
     "data": {
      "text/plain": [
       "Overall Qual       int64\n",
       "Gr Liv Area        int64\n",
       "Garage Area      float64\n",
       "Total Bsmt SF    float64\n",
       "1st Flr SF         int64\n",
       "SalePrice        float64\n",
       "Full Bath          int64\n",
       "dtype: object"
      ]
     },
     "execution_count": 299,
     "metadata": {},
     "output_type": "execute_result"
    }
   ],
   "source": [
    "# Selecting top 5 Numerical Features with high corr\n",
    "features_high_corr = ['Overall Qual', 'Gr Liv Area', 'Garage Area', 'Total Bsmt SF', '1st Flr SF', 'SalePrice','Full Bath']\n",
    "df_first_iter = df[features_high_corr]\n",
    "df[features_high_corr].dtypes"
   ]
  },
  {
   "cell_type": "code",
   "execution_count": 300,
   "metadata": {},
   "outputs": [
    {
     "data": {
      "text/html": [
       "<div>\n",
       "<style scoped>\n",
       "    .dataframe tbody tr th:only-of-type {\n",
       "        vertical-align: middle;\n",
       "    }\n",
       "\n",
       "    .dataframe tbody tr th {\n",
       "        vertical-align: top;\n",
       "    }\n",
       "\n",
       "    .dataframe thead th {\n",
       "        text-align: right;\n",
       "    }\n",
       "</style>\n",
       "<table border=\"1\" class=\"dataframe\">\n",
       "  <thead>\n",
       "    <tr style=\"text-align: right;\">\n",
       "      <th></th>\n",
       "      <th>Overall Qual</th>\n",
       "      <th>Gr Liv Area</th>\n",
       "      <th>Garage Area</th>\n",
       "      <th>Total Bsmt SF</th>\n",
       "      <th>1st Flr SF</th>\n",
       "      <th>SalePrice</th>\n",
       "      <th>Full Bath</th>\n",
       "    </tr>\n",
       "  </thead>\n",
       "  <tbody>\n",
       "    <tr>\n",
       "      <th>0</th>\n",
       "      <td>6</td>\n",
       "      <td>1479</td>\n",
       "      <td>475.0</td>\n",
       "      <td>725.0</td>\n",
       "      <td>725</td>\n",
       "      <td>130500.0</td>\n",
       "      <td>2</td>\n",
       "    </tr>\n",
       "    <tr>\n",
       "      <th>1</th>\n",
       "      <td>7</td>\n",
       "      <td>2122</td>\n",
       "      <td>559.0</td>\n",
       "      <td>913.0</td>\n",
       "      <td>913</td>\n",
       "      <td>220000.0</td>\n",
       "      <td>2</td>\n",
       "    </tr>\n",
       "    <tr>\n",
       "      <th>2</th>\n",
       "      <td>5</td>\n",
       "      <td>1057</td>\n",
       "      <td>246.0</td>\n",
       "      <td>1057.0</td>\n",
       "      <td>1057</td>\n",
       "      <td>109000.0</td>\n",
       "      <td>1</td>\n",
       "    </tr>\n",
       "    <tr>\n",
       "      <th>3</th>\n",
       "      <td>5</td>\n",
       "      <td>1444</td>\n",
       "      <td>400.0</td>\n",
       "      <td>384.0</td>\n",
       "      <td>744</td>\n",
       "      <td>174000.0</td>\n",
       "      <td>2</td>\n",
       "    </tr>\n",
       "    <tr>\n",
       "      <th>4</th>\n",
       "      <td>6</td>\n",
       "      <td>1445</td>\n",
       "      <td>484.0</td>\n",
       "      <td>676.0</td>\n",
       "      <td>831</td>\n",
       "      <td>138500.0</td>\n",
       "      <td>2</td>\n",
       "    </tr>\n",
       "    <tr>\n",
       "      <th>...</th>\n",
       "      <td>...</td>\n",
       "      <td>...</td>\n",
       "      <td>...</td>\n",
       "      <td>...</td>\n",
       "      <td>...</td>\n",
       "      <td>...</td>\n",
       "      <td>...</td>\n",
       "    </tr>\n",
       "    <tr>\n",
       "      <th>2924</th>\n",
       "      <td>6</td>\n",
       "      <td>1877</td>\n",
       "      <td>488.0</td>\n",
       "      <td>1084.0</td>\n",
       "      <td>1084</td>\n",
       "      <td>NaN</td>\n",
       "      <td>2</td>\n",
       "    </tr>\n",
       "    <tr>\n",
       "      <th>2925</th>\n",
       "      <td>6</td>\n",
       "      <td>1988</td>\n",
       "      <td>480.0</td>\n",
       "      <td>1104.0</td>\n",
       "      <td>1104</td>\n",
       "      <td>NaN</td>\n",
       "      <td>2</td>\n",
       "    </tr>\n",
       "    <tr>\n",
       "      <th>2926</th>\n",
       "      <td>5</td>\n",
       "      <td>1211</td>\n",
       "      <td>322.0</td>\n",
       "      <td>952.0</td>\n",
       "      <td>1211</td>\n",
       "      <td>NaN</td>\n",
       "      <td>1</td>\n",
       "    </tr>\n",
       "    <tr>\n",
       "      <th>2927</th>\n",
       "      <td>4</td>\n",
       "      <td>864</td>\n",
       "      <td>528.0</td>\n",
       "      <td>864.0</td>\n",
       "      <td>864</td>\n",
       "      <td>NaN</td>\n",
       "      <td>1</td>\n",
       "    </tr>\n",
       "    <tr>\n",
       "      <th>2928</th>\n",
       "      <td>5</td>\n",
       "      <td>925</td>\n",
       "      <td>390.0</td>\n",
       "      <td>923.0</td>\n",
       "      <td>925</td>\n",
       "      <td>NaN</td>\n",
       "      <td>1</td>\n",
       "    </tr>\n",
       "  </tbody>\n",
       "</table>\n",
       "<p>2929 rows × 7 columns</p>\n",
       "</div>"
      ],
      "text/plain": [
       "      Overall Qual  Gr Liv Area  Garage Area  Total Bsmt SF  1st Flr SF  \\\n",
       "0                6         1479        475.0          725.0         725   \n",
       "1                7         2122        559.0          913.0         913   \n",
       "2                5         1057        246.0         1057.0        1057   \n",
       "3                5         1444        400.0          384.0         744   \n",
       "4                6         1445        484.0          676.0         831   \n",
       "...            ...          ...          ...            ...         ...   \n",
       "2924             6         1877        488.0         1084.0        1084   \n",
       "2925             6         1988        480.0         1104.0        1104   \n",
       "2926             5         1211        322.0          952.0        1211   \n",
       "2927             4          864        528.0          864.0         864   \n",
       "2928             5          925        390.0          923.0         925   \n",
       "\n",
       "      SalePrice  Full Bath  \n",
       "0      130500.0          2  \n",
       "1      220000.0          2  \n",
       "2      109000.0          1  \n",
       "3      174000.0          2  \n",
       "4      138500.0          2  \n",
       "...         ...        ...  \n",
       "2924        NaN          2  \n",
       "2925        NaN          2  \n",
       "2926        NaN          1  \n",
       "2927        NaN          1  \n",
       "2928        NaN          1  \n",
       "\n",
       "[2929 rows x 7 columns]"
      ]
     },
     "execution_count": 300,
     "metadata": {},
     "output_type": "execute_result"
    }
   ],
   "source": [
    "df_first_iter"
   ]
  },
  {
   "cell_type": "code",
   "execution_count": 301,
   "metadata": {},
   "outputs": [
    {
     "data": {
      "text/html": [
       "<div>\n",
       "<style scoped>\n",
       "    .dataframe tbody tr th:only-of-type {\n",
       "        vertical-align: middle;\n",
       "    }\n",
       "\n",
       "    .dataframe tbody tr th {\n",
       "        vertical-align: top;\n",
       "    }\n",
       "\n",
       "    .dataframe thead th {\n",
       "        text-align: right;\n",
       "    }\n",
       "</style>\n",
       "<table border=\"1\" class=\"dataframe\">\n",
       "  <thead>\n",
       "    <tr style=\"text-align: right;\">\n",
       "      <th></th>\n",
       "      <th>Overall Qual</th>\n",
       "      <th>Gr Liv Area</th>\n",
       "      <th>Garage Area</th>\n",
       "      <th>Total Bsmt SF</th>\n",
       "      <th>1st Flr SF</th>\n",
       "      <th>SalePrice</th>\n",
       "      <th>Full Bath</th>\n",
       "    </tr>\n",
       "  </thead>\n",
       "  <tbody>\n",
       "    <tr>\n",
       "      <th>0</th>\n",
       "      <td>6</td>\n",
       "      <td>1479</td>\n",
       "      <td>475.0</td>\n",
       "      <td>725.0</td>\n",
       "      <td>725</td>\n",
       "      <td>130500.0</td>\n",
       "      <td>2</td>\n",
       "    </tr>\n",
       "    <tr>\n",
       "      <th>1</th>\n",
       "      <td>7</td>\n",
       "      <td>2122</td>\n",
       "      <td>559.0</td>\n",
       "      <td>913.0</td>\n",
       "      <td>913</td>\n",
       "      <td>220000.0</td>\n",
       "      <td>2</td>\n",
       "    </tr>\n",
       "    <tr>\n",
       "      <th>2</th>\n",
       "      <td>5</td>\n",
       "      <td>1057</td>\n",
       "      <td>246.0</td>\n",
       "      <td>1057.0</td>\n",
       "      <td>1057</td>\n",
       "      <td>109000.0</td>\n",
       "      <td>1</td>\n",
       "    </tr>\n",
       "    <tr>\n",
       "      <th>3</th>\n",
       "      <td>5</td>\n",
       "      <td>1444</td>\n",
       "      <td>400.0</td>\n",
       "      <td>384.0</td>\n",
       "      <td>744</td>\n",
       "      <td>174000.0</td>\n",
       "      <td>2</td>\n",
       "    </tr>\n",
       "    <tr>\n",
       "      <th>4</th>\n",
       "      <td>6</td>\n",
       "      <td>1445</td>\n",
       "      <td>484.0</td>\n",
       "      <td>676.0</td>\n",
       "      <td>831</td>\n",
       "      <td>138500.0</td>\n",
       "      <td>2</td>\n",
       "    </tr>\n",
       "  </tbody>\n",
       "</table>\n",
       "</div>"
      ],
      "text/plain": [
       "   Overall Qual  Gr Liv Area  Garage Area  Total Bsmt SF  1st Flr SF  \\\n",
       "0             6         1479        475.0          725.0         725   \n",
       "1             7         2122        559.0          913.0         913   \n",
       "2             5         1057        246.0         1057.0        1057   \n",
       "3             5         1444        400.0          384.0         744   \n",
       "4             6         1445        484.0          676.0         831   \n",
       "\n",
       "   SalePrice  Full Bath  \n",
       "0   130500.0          2  \n",
       "1   220000.0          2  \n",
       "2   109000.0          1  \n",
       "3   174000.0          2  \n",
       "4   138500.0          2  "
      ]
     },
     "execution_count": 301,
     "metadata": {},
     "output_type": "execute_result"
    }
   ],
   "source": [
    "df_first_iter.head()"
   ]
  },
  {
   "cell_type": "code",
   "execution_count": 302,
   "metadata": {},
   "outputs": [
    {
     "data": {
      "text/html": [
       "<div>\n",
       "<style scoped>\n",
       "    .dataframe tbody tr th:only-of-type {\n",
       "        vertical-align: middle;\n",
       "    }\n",
       "\n",
       "    .dataframe tbody tr th {\n",
       "        vertical-align: top;\n",
       "    }\n",
       "\n",
       "    .dataframe thead th {\n",
       "        text-align: right;\n",
       "    }\n",
       "</style>\n",
       "<table border=\"1\" class=\"dataframe\">\n",
       "  <thead>\n",
       "    <tr style=\"text-align: right;\">\n",
       "      <th></th>\n",
       "      <th>Overall Qual</th>\n",
       "      <th>Gr Liv Area</th>\n",
       "      <th>Garage Area</th>\n",
       "      <th>Total Bsmt SF</th>\n",
       "      <th>1st Flr SF</th>\n",
       "      <th>SalePrice</th>\n",
       "      <th>Full Bath</th>\n",
       "    </tr>\n",
       "  </thead>\n",
       "  <tbody>\n",
       "    <tr>\n",
       "      <th>count</th>\n",
       "      <td>2929.000000</td>\n",
       "      <td>2929.000000</td>\n",
       "      <td>2928.000000</td>\n",
       "      <td>2928.000000</td>\n",
       "      <td>2929.000000</td>\n",
       "      <td>2051.000000</td>\n",
       "      <td>2929.000000</td>\n",
       "    </tr>\n",
       "    <tr>\n",
       "      <th>mean</th>\n",
       "      <td>6.093547</td>\n",
       "      <td>1498.606009</td>\n",
       "      <td>472.679303</td>\n",
       "      <td>1050.901981</td>\n",
       "      <td>1158.882212</td>\n",
       "      <td>181469.701609</td>\n",
       "      <td>1.566064</td>\n",
       "    </tr>\n",
       "    <tr>\n",
       "      <th>std</th>\n",
       "      <td>1.409420</td>\n",
       "      <td>502.174926</td>\n",
       "      <td>214.948914</td>\n",
       "      <td>438.999166</td>\n",
       "      <td>390.248168</td>\n",
       "      <td>79258.659352</td>\n",
       "      <td>0.552400</td>\n",
       "    </tr>\n",
       "    <tr>\n",
       "      <th>min</th>\n",
       "      <td>1.000000</td>\n",
       "      <td>334.000000</td>\n",
       "      <td>0.000000</td>\n",
       "      <td>0.000000</td>\n",
       "      <td>334.000000</td>\n",
       "      <td>12789.000000</td>\n",
       "      <td>0.000000</td>\n",
       "    </tr>\n",
       "    <tr>\n",
       "      <th>25%</th>\n",
       "      <td>5.000000</td>\n",
       "      <td>1126.000000</td>\n",
       "      <td>320.000000</td>\n",
       "      <td>793.000000</td>\n",
       "      <td>876.000000</td>\n",
       "      <td>129825.000000</td>\n",
       "      <td>1.000000</td>\n",
       "    </tr>\n",
       "    <tr>\n",
       "      <th>50%</th>\n",
       "      <td>6.000000</td>\n",
       "      <td>1442.000000</td>\n",
       "      <td>480.000000</td>\n",
       "      <td>990.000000</td>\n",
       "      <td>1084.000000</td>\n",
       "      <td>162500.000000</td>\n",
       "      <td>2.000000</td>\n",
       "    </tr>\n",
       "    <tr>\n",
       "      <th>75%</th>\n",
       "      <td>7.000000</td>\n",
       "      <td>1742.000000</td>\n",
       "      <td>576.000000</td>\n",
       "      <td>1300.500000</td>\n",
       "      <td>1384.000000</td>\n",
       "      <td>214000.000000</td>\n",
       "      <td>2.000000</td>\n",
       "    </tr>\n",
       "    <tr>\n",
       "      <th>max</th>\n",
       "      <td>10.000000</td>\n",
       "      <td>5642.000000</td>\n",
       "      <td>1488.000000</td>\n",
       "      <td>6110.000000</td>\n",
       "      <td>5095.000000</td>\n",
       "      <td>611657.000000</td>\n",
       "      <td>4.000000</td>\n",
       "    </tr>\n",
       "  </tbody>\n",
       "</table>\n",
       "</div>"
      ],
      "text/plain": [
       "       Overall Qual  Gr Liv Area  Garage Area  Total Bsmt SF   1st Flr SF  \\\n",
       "count   2929.000000  2929.000000  2928.000000    2928.000000  2929.000000   \n",
       "mean       6.093547  1498.606009   472.679303    1050.901981  1158.882212   \n",
       "std        1.409420   502.174926   214.948914     438.999166   390.248168   \n",
       "min        1.000000   334.000000     0.000000       0.000000   334.000000   \n",
       "25%        5.000000  1126.000000   320.000000     793.000000   876.000000   \n",
       "50%        6.000000  1442.000000   480.000000     990.000000  1084.000000   \n",
       "75%        7.000000  1742.000000   576.000000    1300.500000  1384.000000   \n",
       "max       10.000000  5642.000000  1488.000000    6110.000000  5095.000000   \n",
       "\n",
       "           SalePrice    Full Bath  \n",
       "count    2051.000000  2929.000000  \n",
       "mean   181469.701609     1.566064  \n",
       "std     79258.659352     0.552400  \n",
       "min     12789.000000     0.000000  \n",
       "25%    129825.000000     1.000000  \n",
       "50%    162500.000000     2.000000  \n",
       "75%    214000.000000     2.000000  \n",
       "max    611657.000000     4.000000  "
      ]
     },
     "execution_count": 302,
     "metadata": {},
     "output_type": "execute_result"
    }
   ],
   "source": [
    "df_first_iter.describe()"
   ]
  },
  {
   "cell_type": "code",
   "execution_count": 303,
   "metadata": {},
   "outputs": [
    {
     "data": {
      "text/plain": [
       "Overall Qual       0\n",
       "Gr Liv Area        0\n",
       "Garage Area        1\n",
       "Total Bsmt SF      1\n",
       "1st Flr SF         0\n",
       "SalePrice        878\n",
       "Full Bath          0\n",
       "dtype: int64"
      ]
     },
     "execution_count": 303,
     "metadata": {},
     "output_type": "execute_result"
    }
   ],
   "source": [
    "df_first_iter.isna().sum()"
   ]
  },
  {
   "cell_type": "code",
   "execution_count": 304,
   "metadata": {},
   "outputs": [
    {
     "data": {
      "text/plain": [
       "(2929, 7)"
      ]
     },
     "execution_count": 304,
     "metadata": {},
     "output_type": "execute_result"
    }
   ],
   "source": [
    "df_first_iter.shape"
   ]
  },
  {
   "cell_type": "code",
   "execution_count": 305,
   "metadata": {},
   "outputs": [],
   "source": [
    "df_first_iter = df_first_iter.dropna(subset=['Garage Area', 'Total Bsmt SF'])"
   ]
  },
  {
   "cell_type": "code",
   "execution_count": 306,
   "metadata": {},
   "outputs": [
    {
     "data": {
      "text/plain": [
       "Overall Qual       0\n",
       "Gr Liv Area        0\n",
       "Garage Area        0\n",
       "Total Bsmt SF      0\n",
       "1st Flr SF         0\n",
       "SalePrice        878\n",
       "Full Bath          0\n",
       "dtype: int64"
      ]
     },
     "execution_count": 306,
     "metadata": {},
     "output_type": "execute_result"
    }
   ],
   "source": [
    "df_first_iter.isna().sum()"
   ]
  },
  {
   "cell_type": "code",
   "execution_count": 307,
   "metadata": {},
   "outputs": [
    {
     "data": {
      "text/plain": [
       "(2927, 7)"
      ]
     },
     "execution_count": 307,
     "metadata": {},
     "output_type": "execute_result"
    }
   ],
   "source": [
    "df_first_iter.shape"
   ]
  },
  {
   "cell_type": "code",
   "execution_count": 308,
   "metadata": {},
   "outputs": [
    {
     "data": {
      "text/plain": [
       "Overall Qual       0\n",
       "Gr Liv Area        0\n",
       "Garage Area        0\n",
       "Total Bsmt SF      0\n",
       "1st Flr SF         0\n",
       "SalePrice        878\n",
       "Full Bath          0\n",
       "dtype: int64"
      ]
     },
     "execution_count": 308,
     "metadata": {},
     "output_type": "execute_result"
    }
   ],
   "source": [
    "df_first_iter.isna().sum()"
   ]
  },
  {
   "cell_type": "markdown",
   "metadata": {},
   "source": [
    "### Define feature Matrix and Target"
   ]
  },
  {
   "cell_type": "code",
   "execution_count": 309,
   "metadata": {},
   "outputs": [],
   "source": [
    "proc_train = df_first_iter.loc[df['SalePrice'].notna()]\n",
    "proc_test = df_first_iter.loc[df['SalePrice'].isna()]"
   ]
  },
  {
   "cell_type": "code",
   "execution_count": 370,
   "metadata": {},
   "outputs": [],
   "source": [
    "X = proc_train.drop(columns=['SalePrice'])\n",
    "y = proc_train['SalePrice']"
   ]
  },
  {
   "cell_type": "code",
   "execution_count": 371,
   "metadata": {},
   "outputs": [],
   "source": [
    "poly = PolynomialFeatures(include_bias=False)"
   ]
  },
  {
   "cell_type": "code",
   "execution_count": 372,
   "metadata": {},
   "outputs": [],
   "source": [
    "X_poly = poly.fit_transform(X)"
   ]
  },
  {
   "cell_type": "markdown",
   "metadata": {},
   "source": [
    "### Instantiate, Fit and Model "
   ]
  },
  {
   "cell_type": "code",
   "execution_count": 373,
   "metadata": {},
   "outputs": [],
   "source": [
    "lr = LassoCV()"
   ]
  },
  {
   "cell_type": "code",
   "execution_count": 374,
   "metadata": {},
   "outputs": [],
   "source": [
    "X_train, X_test, y_train, y_test = train_test_split(X_poly, y, random_state = 42, test_size=.3)"
   ]
  },
  {
   "cell_type": "code",
   "execution_count": 375,
   "metadata": {},
   "outputs": [
    {
     "name": "stderr",
     "output_type": "stream",
     "text": [
      "/usr/local/anaconda3/lib/python3.8/site-packages/sklearn/linear_model/_coordinate_descent.py:525: ConvergenceWarning: Objective did not converge. You might want to increase the number of iterations. Duality gap: 2269000991.376465, tolerance: 1027471908.7268083\n",
      "  model = cd_fast.enet_coordinate_descent_gram(\n",
      "/usr/local/anaconda3/lib/python3.8/site-packages/sklearn/linear_model/_coordinate_descent.py:525: ConvergenceWarning: Objective did not converge. You might want to increase the number of iterations. Duality gap: 2418234104.626465, tolerance: 1027471908.7268083\n",
      "  model = cd_fast.enet_coordinate_descent_gram(\n",
      "/usr/local/anaconda3/lib/python3.8/site-packages/sklearn/linear_model/_coordinate_descent.py:525: ConvergenceWarning: Objective did not converge. You might want to increase the number of iterations. Duality gap: 2371587273.774414, tolerance: 1027471908.7268083\n",
      "  model = cd_fast.enet_coordinate_descent_gram(\n",
      "/usr/local/anaconda3/lib/python3.8/site-packages/sklearn/linear_model/_coordinate_descent.py:525: ConvergenceWarning: Objective did not converge. You might want to increase the number of iterations. Duality gap: 2294493906.8964844, tolerance: 1027471908.7268083\n",
      "  model = cd_fast.enet_coordinate_descent_gram(\n",
      "/usr/local/anaconda3/lib/python3.8/site-packages/sklearn/linear_model/_coordinate_descent.py:525: ConvergenceWarning: Objective did not converge. You might want to increase the number of iterations. Duality gap: 2214052015.1953125, tolerance: 1027471908.7268083\n",
      "  model = cd_fast.enet_coordinate_descent_gram(\n",
      "/usr/local/anaconda3/lib/python3.8/site-packages/sklearn/linear_model/_coordinate_descent.py:525: ConvergenceWarning: Objective did not converge. You might want to increase the number of iterations. Duality gap: 2116991339.395996, tolerance: 1040895638.8095477\n",
      "  model = cd_fast.enet_coordinate_descent_gram(\n",
      "/usr/local/anaconda3/lib/python3.8/site-packages/sklearn/linear_model/_coordinate_descent.py:525: ConvergenceWarning: Objective did not converge. You might want to increase the number of iterations. Duality gap: 2282787652.116211, tolerance: 1040895638.8095477\n",
      "  model = cd_fast.enet_coordinate_descent_gram(\n",
      "/usr/local/anaconda3/lib/python3.8/site-packages/sklearn/linear_model/_coordinate_descent.py:525: ConvergenceWarning: Objective did not converge. You might want to increase the number of iterations. Duality gap: 2234286036.3671875, tolerance: 1040895638.8095477\n",
      "  model = cd_fast.enet_coordinate_descent_gram(\n",
      "/usr/local/anaconda3/lib/python3.8/site-packages/sklearn/linear_model/_coordinate_descent.py:525: ConvergenceWarning: Objective did not converge. You might want to increase the number of iterations. Duality gap: 2157844756.7929688, tolerance: 1040895638.8095477\n",
      "  model = cd_fast.enet_coordinate_descent_gram(\n",
      "/usr/local/anaconda3/lib/python3.8/site-packages/sklearn/linear_model/_coordinate_descent.py:525: ConvergenceWarning: Objective did not converge. You might want to increase the number of iterations. Duality gap: 2078087518.1083984, tolerance: 1040895638.8095477\n",
      "  model = cd_fast.enet_coordinate_descent_gram(\n",
      "/usr/local/anaconda3/lib/python3.8/site-packages/sklearn/linear_model/_coordinate_descent.py:525: ConvergenceWarning: Objective did not converge. You might want to increase the number of iterations. Duality gap: 1998697127.5581055, tolerance: 1040895638.8095477\n",
      "  model = cd_fast.enet_coordinate_descent_gram(\n",
      "/usr/local/anaconda3/lib/python3.8/site-packages/sklearn/linear_model/_coordinate_descent.py:525: ConvergenceWarning: Objective did not converge. You might want to increase the number of iterations. Duality gap: 1920597548.584961, tolerance: 1040895638.8095477\n",
      "  model = cd_fast.enet_coordinate_descent_gram(\n",
      "/usr/local/anaconda3/lib/python3.8/site-packages/sklearn/linear_model/_coordinate_descent.py:525: ConvergenceWarning: Objective did not converge. You might want to increase the number of iterations. Duality gap: 1844267797.6889648, tolerance: 1040895638.8095477\n",
      "  model = cd_fast.enet_coordinate_descent_gram(\n",
      "/usr/local/anaconda3/lib/python3.8/site-packages/sklearn/linear_model/_coordinate_descent.py:525: ConvergenceWarning: Objective did not converge. You might want to increase the number of iterations. Duality gap: 1770048340.7636719, tolerance: 1040895638.8095477\n",
      "  model = cd_fast.enet_coordinate_descent_gram(\n",
      "/usr/local/anaconda3/lib/python3.8/site-packages/sklearn/linear_model/_coordinate_descent.py:525: ConvergenceWarning: Objective did not converge. You might want to increase the number of iterations. Duality gap: 2679592680.2529297, tolerance: 1053639476.1657999\n",
      "  model = cd_fast.enet_coordinate_descent_gram(\n",
      "/usr/local/anaconda3/lib/python3.8/site-packages/sklearn/linear_model/_coordinate_descent.py:525: ConvergenceWarning: Objective did not converge. You might want to increase the number of iterations. Duality gap: 2888094211.7539062, tolerance: 1053639476.1657999\n",
      "  model = cd_fast.enet_coordinate_descent_gram(\n",
      "/usr/local/anaconda3/lib/python3.8/site-packages/sklearn/linear_model/_coordinate_descent.py:525: ConvergenceWarning: Objective did not converge. You might want to increase the number of iterations. Duality gap: 2846916473.395508, tolerance: 1053639476.1657999\n",
      "  model = cd_fast.enet_coordinate_descent_gram(\n",
      "/usr/local/anaconda3/lib/python3.8/site-packages/sklearn/linear_model/_coordinate_descent.py:525: ConvergenceWarning: Objective did not converge. You might want to increase the number of iterations. Duality gap: 2764356462.3500977, tolerance: 1053639476.1657999\n",
      "  model = cd_fast.enet_coordinate_descent_gram(\n",
      "/usr/local/anaconda3/lib/python3.8/site-packages/sklearn/linear_model/_coordinate_descent.py:525: ConvergenceWarning: Objective did not converge. You might want to increase the number of iterations. Duality gap: 2674109954.2529297, tolerance: 1053639476.1657999\n",
      "  model = cd_fast.enet_coordinate_descent_gram(\n",
      "/usr/local/anaconda3/lib/python3.8/site-packages/sklearn/linear_model/_coordinate_descent.py:525: ConvergenceWarning: Objective did not converge. You might want to increase the number of iterations. Duality gap: 2582245227.182617, tolerance: 1053639476.1657999\n",
      "  model = cd_fast.enet_coordinate_descent_gram(\n",
      "/usr/local/anaconda3/lib/python3.8/site-packages/sklearn/linear_model/_coordinate_descent.py:525: ConvergenceWarning: Objective did not converge. You might want to increase the number of iterations. Duality gap: 2490400820.2695312, tolerance: 1053639476.1657999\n",
      "  model = cd_fast.enet_coordinate_descent_gram(\n",
      "/usr/local/anaconda3/lib/python3.8/site-packages/sklearn/linear_model/_coordinate_descent.py:525: ConvergenceWarning: Objective did not converge. You might want to increase the number of iterations. Duality gap: 2399352002.1777344, tolerance: 1053639476.1657999\n",
      "  model = cd_fast.enet_coordinate_descent_gram(\n",
      "/usr/local/anaconda3/lib/python3.8/site-packages/sklearn/linear_model/_coordinate_descent.py:525: ConvergenceWarning: Objective did not converge. You might want to increase the number of iterations. Duality gap: 2309534540.6293945, tolerance: 1053639476.1657999\n",
      "  model = cd_fast.enet_coordinate_descent_gram(\n",
      "/usr/local/anaconda3/lib/python3.8/site-packages/sklearn/linear_model/_coordinate_descent.py:525: ConvergenceWarning: Objective did not converge. You might want to increase the number of iterations. Duality gap: 2221098213.267578, tolerance: 1053639476.1657999\n",
      "  model = cd_fast.enet_coordinate_descent_gram(\n",
      "/usr/local/anaconda3/lib/python3.8/site-packages/sklearn/linear_model/_coordinate_descent.py:525: ConvergenceWarning: Objective did not converge. You might want to increase the number of iterations. Duality gap: 2063821967.5771484, tolerance: 1001359114.4401989\n",
      "  model = cd_fast.enet_coordinate_descent_gram(\n",
      "/usr/local/anaconda3/lib/python3.8/site-packages/sklearn/linear_model/_coordinate_descent.py:525: ConvergenceWarning: Objective did not converge. You might want to increase the number of iterations. Duality gap: 2153646630.4438477, tolerance: 1001359114.4401989\n",
      "  model = cd_fast.enet_coordinate_descent_gram(\n",
      "/usr/local/anaconda3/lib/python3.8/site-packages/sklearn/linear_model/_coordinate_descent.py:525: ConvergenceWarning: Objective did not converge. You might want to increase the number of iterations. Duality gap: 2124111641.0664062, tolerance: 1001359114.4401989\n",
      "  model = cd_fast.enet_coordinate_descent_gram(\n",
      "/usr/local/anaconda3/lib/python3.8/site-packages/sklearn/linear_model/_coordinate_descent.py:525: ConvergenceWarning: Objective did not converge. You might want to increase the number of iterations. Duality gap: 2074736109.8554688, tolerance: 1001359114.4401989\n",
      "  model = cd_fast.enet_coordinate_descent_gram(\n",
      "/usr/local/anaconda3/lib/python3.8/site-packages/sklearn/linear_model/_coordinate_descent.py:525: ConvergenceWarning: Objective did not converge. You might want to increase the number of iterations. Duality gap: 2017903954.1674805, tolerance: 1001359114.4401989\n",
      "  model = cd_fast.enet_coordinate_descent_gram(\n",
      "/usr/local/anaconda3/lib/python3.8/site-packages/sklearn/linear_model/_coordinate_descent.py:525: ConvergenceWarning: Objective did not converge. You might want to increase the number of iterations. Duality gap: 1956389967.8374023, tolerance: 1001359114.4401989\n",
      "  model = cd_fast.enet_coordinate_descent_gram(\n",
      "/usr/local/anaconda3/lib/python3.8/site-packages/sklearn/linear_model/_coordinate_descent.py:525: ConvergenceWarning: Objective did not converge. You might want to increase the number of iterations. Duality gap: 1891709731.8310547, tolerance: 1001359114.4401989\n",
      "  model = cd_fast.enet_coordinate_descent_gram(\n",
      "/usr/local/anaconda3/lib/python3.8/site-packages/sklearn/linear_model/_coordinate_descent.py:525: ConvergenceWarning: Objective did not converge. You might want to increase the number of iterations. Duality gap: 1825038627.6552734, tolerance: 1001359114.4401989\n",
      "  model = cd_fast.enet_coordinate_descent_gram(\n",
      "/usr/local/anaconda3/lib/python3.8/site-packages/sklearn/linear_model/_coordinate_descent.py:525: ConvergenceWarning: Objective did not converge. You might want to increase the number of iterations. Duality gap: 1757338942.2578125, tolerance: 1001359114.4401989\n",
      "  model = cd_fast.enet_coordinate_descent_gram(\n",
      "/usr/local/anaconda3/lib/python3.8/site-packages/sklearn/linear_model/_coordinate_descent.py:525: ConvergenceWarning: Objective did not converge. You might want to increase the number of iterations. Duality gap: 1689399348.8710938, tolerance: 1001359114.4401989\n",
      "  model = cd_fast.enet_coordinate_descent_gram(\n",
      "/usr/local/anaconda3/lib/python3.8/site-packages/sklearn/linear_model/_coordinate_descent.py:525: ConvergenceWarning: Objective did not converge. You might want to increase the number of iterations. Duality gap: 1621861575.296875, tolerance: 1001359114.4401989\n",
      "  model = cd_fast.enet_coordinate_descent_gram(\n",
      "/usr/local/anaconda3/lib/python3.8/site-packages/sklearn/linear_model/_coordinate_descent.py:525: ConvergenceWarning: Objective did not converge. You might want to increase the number of iterations. Duality gap: 1555242610.114746, tolerance: 1001359114.4401989\n",
      "  model = cd_fast.enet_coordinate_descent_gram(\n",
      "/usr/local/anaconda3/lib/python3.8/site-packages/sklearn/linear_model/_coordinate_descent.py:525: ConvergenceWarning: Objective did not converge. You might want to increase the number of iterations. Duality gap: 1489953733.8032227, tolerance: 1001359114.4401989\n",
      "  model = cd_fast.enet_coordinate_descent_gram(\n",
      "/usr/local/anaconda3/lib/python3.8/site-packages/sklearn/linear_model/_coordinate_descent.py:525: ConvergenceWarning: Objective did not converge. You might want to increase the number of iterations. Duality gap: 1426316867.9667969, tolerance: 1001359114.4401989\n",
      "  model = cd_fast.enet_coordinate_descent_gram(\n"
     ]
    },
    {
     "data": {
      "text/plain": [
       "LassoCV()"
      ]
     },
     "execution_count": 375,
     "metadata": {},
     "output_type": "execute_result"
    }
   ],
   "source": [
    "lr.fit(X_poly, y)"
   ]
  },
  {
   "cell_type": "code",
   "execution_count": 376,
   "metadata": {},
   "outputs": [],
   "source": [
    "#lr.score(X_train, y_train), lr.score(X_test, y_test)"
   ]
  },
  {
   "cell_type": "code",
   "execution_count": 377,
   "metadata": {},
   "outputs": [],
   "source": [
    "#cross_val_score(lr, X_poly, y, cv=5).mean()"
   ]
  },
  {
   "cell_type": "markdown",
   "metadata": {},
   "source": [
    "### Categorical model implementation"
   ]
  },
  {
   "cell_type": "code",
   "execution_count": 378,
   "metadata": {},
   "outputs": [],
   "source": [
    "temp_set = None\n",
    "categorical_features = []\n",
    "for i in df.columns:\n",
    "    add_col = True\n",
    "    if df[i].dtypes == 'object':\n",
    "        # print(f'Column name: {i}\\n set: {set(df[i])}')\n",
    "        temp_set = set(df[i])\n",
    "        for x in temp_set:\n",
    "            if x != x:\n",
    "                add_col = False\n",
    "                break\n",
    "        if add_col:\n",
    "            categorical_features.append(i)\n",
    "\n",
    "categorical_features.append('SalePrice')"
   ]
  },
  {
   "cell_type": "code",
   "execution_count": 379,
   "metadata": {},
   "outputs": [],
   "source": [
    "def dummies_list_df(list_cols, df):\n",
    "    for i in list_cols:\n",
    "        pd.get_dummies(df, columns=[i], prefix=i, inplace=True)"
   ]
  },
  {
   "cell_type": "code",
   "execution_count": 380,
   "metadata": {},
   "outputs": [
    {
     "data": {
      "text/plain": [
       "MS Zoning        object\n",
       "Street           object\n",
       "Lot Shape        object\n",
       "Land Contour     object\n",
       "Utilities        object\n",
       "Lot Config       object\n",
       "Land Slope       object\n",
       "Neighborhood     object\n",
       "Condition 1      object\n",
       "Condition 2      object\n",
       "Bldg Type        object\n",
       "House Style      object\n",
       "Roof Style       object\n",
       "Roof Matl        object\n",
       "Exterior 1st     object\n",
       "Exterior 2nd     object\n",
       "Exter Qual       object\n",
       "Exter Cond       object\n",
       "Foundation       object\n",
       "Heating          object\n",
       "Heating QC       object\n",
       "Central Air      object\n",
       "Kitchen Qual     object\n",
       "Functional       object\n",
       "Paved Drive      object\n",
       "Sale Type        object\n",
       "SalePrice       float64\n",
       "dtype: object"
      ]
     },
     "execution_count": 380,
     "metadata": {},
     "output_type": "execute_result"
    }
   ],
   "source": [
    "df_sec_mod = df[categorical_features]\n",
    "df_sec_mod.dtypes"
   ]
  },
  {
   "cell_type": "code",
   "execution_count": 381,
   "metadata": {},
   "outputs": [],
   "source": [
    "df_sec_mod = pd.get_dummies(df_sec_mod, columns=categorical_features)"
   ]
  },
  {
   "cell_type": "code",
   "execution_count": 382,
   "metadata": {},
   "outputs": [
    {
     "data": {
      "text/plain": [
       "MS Zoning_A (agr)     uint8\n",
       "MS Zoning_C (all)     uint8\n",
       "MS Zoning_FV          uint8\n",
       "MS Zoning_I (all)     uint8\n",
       "MS Zoning_RH          uint8\n",
       "                      ...  \n",
       "SalePrice_556581.0    uint8\n",
       "SalePrice_582933.0    uint8\n",
       "SalePrice_584500.0    uint8\n",
       "SalePrice_591587.0    uint8\n",
       "SalePrice_611657.0    uint8\n",
       "Length: 1015, dtype: object"
      ]
     },
     "execution_count": 382,
     "metadata": {},
     "output_type": "execute_result"
    }
   ],
   "source": [
    "df_sec_mod.dtypes"
   ]
  },
  {
   "cell_type": "code",
   "execution_count": 383,
   "metadata": {},
   "outputs": [
    {
     "data": {
      "text/plain": [
       "MS Zoning_A (agr)     0\n",
       "SalePrice_202900.0    0\n",
       "SalePrice_203000.0    0\n",
       "SalePrice_203135.0    0\n",
       "SalePrice_203160.0    0\n",
       "                     ..\n",
       "SalePrice_118900.0    0\n",
       "SalePrice_119000.0    0\n",
       "SalePrice_119164.0    0\n",
       "SalePrice_115400.0    0\n",
       "SalePrice_611657.0    0\n",
       "Length: 1015, dtype: int64"
      ]
     },
     "execution_count": 383,
     "metadata": {},
     "output_type": "execute_result"
    }
   ],
   "source": [
    "df_sec_mod.isna().sum().sort_values()"
   ]
  },
  {
   "cell_type": "markdown",
   "metadata": {},
   "source": [
    "pipe_2_params = {'ss__': [1, 2], \n",
    "                 'knn__weights': ['uniform', 'distance'],\n",
    "                 'knn__n_neighbors': [3, 5, 10]}"
   ]
  },
  {
   "cell_type": "code",
   "execution_count": 384,
   "metadata": {},
   "outputs": [],
   "source": [
    "pipe = Pipeline([\n",
    "    ('ss', StandardScaler()),\n",
    "    ('lasso', LassoCV())\n",
    "])\n"
   ]
  },
  {
   "cell_type": "markdown",
   "metadata": {},
   "source": [
    "alphas = np.logspace(-5, 2, 30)\n",
    "grid = GridSearchCV(estimator=Lasso(),\n",
    "param_grid=dict(alpha=alphas), cv = ShuffleSplit(n=len(X), n_iter=10, test_size=.3), scoring='r2')\n",
    "grid.fit(self.X, self.Y)"
   ]
  },
  {
   "cell_type": "code",
   "execution_count": 385,
   "metadata": {},
   "outputs": [
    {
     "name": "stderr",
     "output_type": "stream",
     "text": [
      "/usr/local/anaconda3/lib/python3.8/site-packages/sklearn/linear_model/_coordinate_descent.py:525: ConvergenceWarning: Objective did not converge. You might want to increase the number of iterations. Duality gap: 1545668732.7172852, tolerance: 1027471908.7268083\n",
      "  model = cd_fast.enet_coordinate_descent_gram(\n",
      "/usr/local/anaconda3/lib/python3.8/site-packages/sklearn/linear_model/_coordinate_descent.py:525: ConvergenceWarning: Objective did not converge. You might want to increase the number of iterations. Duality gap: 1328371854.4345703, tolerance: 1027471908.7268083\n",
      "  model = cd_fast.enet_coordinate_descent_gram(\n",
      "/usr/local/anaconda3/lib/python3.8/site-packages/sklearn/linear_model/_coordinate_descent.py:525: ConvergenceWarning: Objective did not converge. You might want to increase the number of iterations. Duality gap: 2484040302.069336, tolerance: 1053639476.1657999\n",
      "  model = cd_fast.enet_coordinate_descent_gram(\n",
      "/usr/local/anaconda3/lib/python3.8/site-packages/sklearn/linear_model/_coordinate_descent.py:525: ConvergenceWarning: Objective did not converge. You might want to increase the number of iterations. Duality gap: 1189059965.3222656, tolerance: 1053639476.1657999\n",
      "  model = cd_fast.enet_coordinate_descent_gram(\n",
      "/usr/local/anaconda3/lib/python3.8/site-packages/sklearn/linear_model/_coordinate_descent.py:525: ConvergenceWarning: Objective did not converge. You might want to increase the number of iterations. Duality gap: 1123970696.2607422, tolerance: 1053639476.1657999\n",
      "  model = cd_fast.enet_coordinate_descent_gram(\n",
      "/usr/local/anaconda3/lib/python3.8/site-packages/sklearn/linear_model/_coordinate_descent.py:525: ConvergenceWarning: Objective did not converge. You might want to increase the number of iterations. Duality gap: 1071691650.2753906, tolerance: 1053639476.1657999\n",
      "  model = cd_fast.enet_coordinate_descent_gram(\n",
      "/usr/local/anaconda3/lib/python3.8/site-packages/sklearn/linear_model/_coordinate_descent.py:525: ConvergenceWarning: Objective did not converge. You might want to increase the number of iterations. Duality gap: 1337364999.9472656, tolerance: 1001359114.4401989\n",
      "  model = cd_fast.enet_coordinate_descent_gram(\n",
      "/usr/local/anaconda3/lib/python3.8/site-packages/sklearn/linear_model/_coordinate_descent.py:525: ConvergenceWarning: Objective did not converge. You might want to increase the number of iterations. Duality gap: 1316962109.7893066, tolerance: 1001359114.4401989\n",
      "  model = cd_fast.enet_coordinate_descent_gram(\n",
      "/usr/local/anaconda3/lib/python3.8/site-packages/sklearn/linear_model/_coordinate_descent.py:529: ConvergenceWarning: Objective did not converge. You might want to increase the number of iterations. Duality gap: 41789817863.52783, tolerance: 1286652428.5615637\n",
      "  model = cd_fast.enet_coordinate_descent(\n"
     ]
    },
    {
     "data": {
      "text/plain": [
       "Pipeline(steps=[('ss', StandardScaler()), ('lasso', LassoCV())])"
      ]
     },
     "execution_count": 385,
     "metadata": {},
     "output_type": "execute_result"
    }
   ],
   "source": [
    "pipe.fit(X_poly, y)"
   ]
  },
  {
   "cell_type": "code",
   "execution_count": 386,
   "metadata": {},
   "outputs": [],
   "source": [
    "#pipe.score(X_test, y_test)"
   ]
  },
  {
   "cell_type": "code",
   "execution_count": 387,
   "metadata": {},
   "outputs": [],
   "source": [
    "#pipe.score(X_train, y_train)"
   ]
  },
  {
   "cell_type": "markdown",
   "metadata": {},
   "source": [
    "### Piping 3rd model "
   ]
  },
  {
   "cell_type": "code",
   "execution_count": 388,
   "metadata": {},
   "outputs": [
    {
     "data": {
      "text/plain": [
       "\"\\npipe2 = Pipeline(steps = [\\n    ('ss', StandardScaler()),\\n    ('lr', LogisticRegression())])\\n\\npipe_params = { 'lr__C': [0.1, 0.3], \\n              'lr__penalty': ['l1', 'l2']}\\n\""
      ]
     },
     "execution_count": 388,
     "metadata": {},
     "output_type": "execute_result"
    }
   ],
   "source": [
    "'''\n",
    "pipe2 = Pipeline(steps = [\n",
    "    ('ss', StandardScaler()),\n",
    "    ('lr', LogisticRegression())])\n",
    "\n",
    "pipe_params = { 'lr__C': [0.1, 0.3], \n",
    "              'lr__penalty': ['l1', 'l2']}\n",
    "'''\n"
   ]
  },
  {
   "cell_type": "code",
   "execution_count": 389,
   "metadata": {},
   "outputs": [],
   "source": [
    "#gs = GridSearchCV(pipe2, pipe_params, cv = 3)"
   ]
  },
  {
   "cell_type": "code",
   "execution_count": 390,
   "metadata": {},
   "outputs": [],
   "source": [
    "#gs.fit(X_poly, y)"
   ]
  },
  {
   "cell_type": "markdown",
   "metadata": {},
   "source": [
    "### Voting Classifier "
   ]
  },
  {
   "cell_type": "code",
   "execution_count": 391,
   "metadata": {},
   "outputs": [],
   "source": [
    "#create a dictionary of our models\n",
    "\n",
    "ensamble = VotingRegressor([('lasso_1', lr), ('lasso_2', pipe)])"
   ]
  },
  {
   "cell_type": "code",
   "execution_count": 392,
   "metadata": {},
   "outputs": [
    {
     "name": "stderr",
     "output_type": "stream",
     "text": [
      "/usr/local/anaconda3/lib/python3.8/site-packages/sklearn/linear_model/_coordinate_descent.py:525: ConvergenceWarning: Objective did not converge. You might want to increase the number of iterations. Duality gap: 2447410544.525879, tolerance: 728551181.7590104\n",
      "  model = cd_fast.enet_coordinate_descent_gram(\n",
      "/usr/local/anaconda3/lib/python3.8/site-packages/sklearn/linear_model/_coordinate_descent.py:525: ConvergenceWarning: Objective did not converge. You might want to increase the number of iterations. Duality gap: 2716032554.07666, tolerance: 728551181.7590104\n",
      "  model = cd_fast.enet_coordinate_descent_gram(\n",
      "/usr/local/anaconda3/lib/python3.8/site-packages/sklearn/linear_model/_coordinate_descent.py:525: ConvergenceWarning: Objective did not converge. You might want to increase the number of iterations. Duality gap: 2684563648.324707, tolerance: 728551181.7590104\n",
      "  model = cd_fast.enet_coordinate_descent_gram(\n",
      "/usr/local/anaconda3/lib/python3.8/site-packages/sklearn/linear_model/_coordinate_descent.py:525: ConvergenceWarning: Objective did not converge. You might want to increase the number of iterations. Duality gap: 2493302103.158203, tolerance: 728551181.7590104\n",
      "  model = cd_fast.enet_coordinate_descent_gram(\n",
      "/usr/local/anaconda3/lib/python3.8/site-packages/sklearn/linear_model/_coordinate_descent.py:525: ConvergenceWarning: Objective did not converge. You might want to increase the number of iterations. Duality gap: 2380691868.4765625, tolerance: 728551181.7590104\n",
      "  model = cd_fast.enet_coordinate_descent_gram(\n",
      "/usr/local/anaconda3/lib/python3.8/site-packages/sklearn/linear_model/_coordinate_descent.py:525: ConvergenceWarning: Objective did not converge. You might want to increase the number of iterations. Duality gap: 2289770511.4033203, tolerance: 728551181.7590104\n",
      "  model = cd_fast.enet_coordinate_descent_gram(\n",
      "/usr/local/anaconda3/lib/python3.8/site-packages/sklearn/linear_model/_coordinate_descent.py:525: ConvergenceWarning: Objective did not converge. You might want to increase the number of iterations. Duality gap: 2204154103.14209, tolerance: 728551181.7590104\n",
      "  model = cd_fast.enet_coordinate_descent_gram(\n",
      "/usr/local/anaconda3/lib/python3.8/site-packages/sklearn/linear_model/_coordinate_descent.py:525: ConvergenceWarning: Objective did not converge. You might want to increase the number of iterations. Duality gap: 2349279102.0737305, tolerance: 728551181.7590104\n",
      "  model = cd_fast.enet_coordinate_descent_gram(\n",
      "/usr/local/anaconda3/lib/python3.8/site-packages/sklearn/linear_model/_coordinate_descent.py:525: ConvergenceWarning: Objective did not converge. You might want to increase the number of iterations. Duality gap: 2376810351.645996, tolerance: 728551181.7590104\n",
      "  model = cd_fast.enet_coordinate_descent_gram(\n",
      "/usr/local/anaconda3/lib/python3.8/site-packages/sklearn/linear_model/_coordinate_descent.py:525: ConvergenceWarning: Objective did not converge. You might want to increase the number of iterations. Duality gap: 2313217321.5566406, tolerance: 728551181.7590104\n",
      "  model = cd_fast.enet_coordinate_descent_gram(\n",
      "/usr/local/anaconda3/lib/python3.8/site-packages/sklearn/linear_model/_coordinate_descent.py:525: ConvergenceWarning: Objective did not converge. You might want to increase the number of iterations. Duality gap: 2240447006.8125, tolerance: 718168868.5354267\n",
      "  model = cd_fast.enet_coordinate_descent_gram(\n",
      "/usr/local/anaconda3/lib/python3.8/site-packages/sklearn/linear_model/_coordinate_descent.py:525: ConvergenceWarning: Objective did not converge. You might want to increase the number of iterations. Duality gap: 2537582858.805664, tolerance: 718168868.5354267\n",
      "  model = cd_fast.enet_coordinate_descent_gram(\n",
      "/usr/local/anaconda3/lib/python3.8/site-packages/sklearn/linear_model/_coordinate_descent.py:525: ConvergenceWarning: Objective did not converge. You might want to increase the number of iterations. Duality gap: 2529376893.4467773, tolerance: 718168868.5354267\n",
      "  model = cd_fast.enet_coordinate_descent_gram(\n",
      "/usr/local/anaconda3/lib/python3.8/site-packages/sklearn/linear_model/_coordinate_descent.py:525: ConvergenceWarning: Objective did not converge. You might want to increase the number of iterations. Duality gap: 2456740338.7558594, tolerance: 718168868.5354267\n",
      "  model = cd_fast.enet_coordinate_descent_gram(\n",
      "/usr/local/anaconda3/lib/python3.8/site-packages/sklearn/linear_model/_coordinate_descent.py:525: ConvergenceWarning: Objective did not converge. You might want to increase the number of iterations. Duality gap: 2372485322.8149414, tolerance: 718168868.5354267\n",
      "  model = cd_fast.enet_coordinate_descent_gram(\n",
      "/usr/local/anaconda3/lib/python3.8/site-packages/sklearn/linear_model/_coordinate_descent.py:525: ConvergenceWarning: Objective did not converge. You might want to increase the number of iterations. Duality gap: 2287965977.229492, tolerance: 718168868.5354267\n",
      "  model = cd_fast.enet_coordinate_descent_gram(\n",
      "/usr/local/anaconda3/lib/python3.8/site-packages/sklearn/linear_model/_coordinate_descent.py:525: ConvergenceWarning: Objective did not converge. You might want to increase the number of iterations. Duality gap: 1370288820.0024414, tolerance: 679295989.2178783\n",
      "  model = cd_fast.enet_coordinate_descent_gram(\n",
      "/usr/local/anaconda3/lib/python3.8/site-packages/sklearn/linear_model/_coordinate_descent.py:525: ConvergenceWarning: Objective did not converge. You might want to increase the number of iterations. Duality gap: 3417082555.754883, tolerance: 679295989.2178783\n",
      "  model = cd_fast.enet_coordinate_descent_gram(\n",
      "/usr/local/anaconda3/lib/python3.8/site-packages/sklearn/linear_model/_coordinate_descent.py:525: ConvergenceWarning: Objective did not converge. You might want to increase the number of iterations. Duality gap: 3754950528.398926, tolerance: 679295989.2178783\n",
      "  model = cd_fast.enet_coordinate_descent_gram(\n",
      "/usr/local/anaconda3/lib/python3.8/site-packages/sklearn/linear_model/_coordinate_descent.py:525: ConvergenceWarning: Objective did not converge. You might want to increase the number of iterations. Duality gap: 3703688233.9750977, tolerance: 679295989.2178783\n",
      "  model = cd_fast.enet_coordinate_descent_gram(\n",
      "/usr/local/anaconda3/lib/python3.8/site-packages/sklearn/linear_model/_coordinate_descent.py:525: ConvergenceWarning: Objective did not converge. You might want to increase the number of iterations. Duality gap: 3589837336.732422, tolerance: 679295989.2178783\n",
      "  model = cd_fast.enet_coordinate_descent_gram(\n",
      "/usr/local/anaconda3/lib/python3.8/site-packages/sklearn/linear_model/_coordinate_descent.py:525: ConvergenceWarning: Objective did not converge. You might want to increase the number of iterations. Duality gap: 3468374443.689453, tolerance: 679295989.2178783\n",
      "  model = cd_fast.enet_coordinate_descent_gram(\n",
      "/usr/local/anaconda3/lib/python3.8/site-packages/sklearn/linear_model/_coordinate_descent.py:525: ConvergenceWarning: Objective did not converge. You might want to increase the number of iterations. Duality gap: 3201492278.4091797, tolerance: 679295989.2178783\n",
      "  model = cd_fast.enet_coordinate_descent_gram(\n",
      "/usr/local/anaconda3/lib/python3.8/site-packages/sklearn/linear_model/_coordinate_descent.py:525: ConvergenceWarning: Objective did not converge. You might want to increase the number of iterations. Duality gap: 3003959800.3129883, tolerance: 679295989.2178783\n",
      "  model = cd_fast.enet_coordinate_descent_gram(\n",
      "/usr/local/anaconda3/lib/python3.8/site-packages/sklearn/linear_model/_coordinate_descent.py:525: ConvergenceWarning: Objective did not converge. You might want to increase the number of iterations. Duality gap: 2871746938.399414, tolerance: 679295989.2178783\n",
      "  model = cd_fast.enet_coordinate_descent_gram(\n",
      "/usr/local/anaconda3/lib/python3.8/site-packages/sklearn/linear_model/_coordinate_descent.py:525: ConvergenceWarning: Objective did not converge. You might want to increase the number of iterations. Duality gap: 2761628038.8725586, tolerance: 679295989.2178783\n",
      "  model = cd_fast.enet_coordinate_descent_gram(\n",
      "/usr/local/anaconda3/lib/python3.8/site-packages/sklearn/linear_model/_coordinate_descent.py:525: ConvergenceWarning: Objective did not converge. You might want to increase the number of iterations. Duality gap: 2343554562.131836, tolerance: 643157274.7358749\n",
      "  model = cd_fast.enet_coordinate_descent_gram(\n",
      "/usr/local/anaconda3/lib/python3.8/site-packages/sklearn/linear_model/_coordinate_descent.py:525: ConvergenceWarning: Objective did not converge. You might want to increase the number of iterations. Duality gap: 2988239573.251709, tolerance: 643157274.7358749\n",
      "  model = cd_fast.enet_coordinate_descent_gram(\n",
      "/usr/local/anaconda3/lib/python3.8/site-packages/sklearn/linear_model/_coordinate_descent.py:525: ConvergenceWarning: Objective did not converge. You might want to increase the number of iterations. Duality gap: 3037194906.05542, tolerance: 643157274.7358749\n",
      "  model = cd_fast.enet_coordinate_descent_gram(\n",
      "/usr/local/anaconda3/lib/python3.8/site-packages/sklearn/linear_model/_coordinate_descent.py:525: ConvergenceWarning: Objective did not converge. You might want to increase the number of iterations. Duality gap: 5152314811.645996, tolerance: 643157274.7358749\n",
      "  model = cd_fast.enet_coordinate_descent_gram(\n",
      "/usr/local/anaconda3/lib/python3.8/site-packages/sklearn/linear_model/_coordinate_descent.py:525: ConvergenceWarning: Objective did not converge. You might want to increase the number of iterations. Duality gap: 5906227808.490234, tolerance: 643157274.7358749\n",
      "  model = cd_fast.enet_coordinate_descent_gram(\n",
      "/usr/local/anaconda3/lib/python3.8/site-packages/sklearn/linear_model/_coordinate_descent.py:525: ConvergenceWarning: Objective did not converge. You might want to increase the number of iterations. Duality gap: 5589445932.604004, tolerance: 643157274.7358749\n",
      "  model = cd_fast.enet_coordinate_descent_gram(\n",
      "/usr/local/anaconda3/lib/python3.8/site-packages/sklearn/linear_model/_coordinate_descent.py:525: ConvergenceWarning: Objective did not converge. You might want to increase the number of iterations. Duality gap: 5392036689.426758, tolerance: 643157274.7358749\n",
      "  model = cd_fast.enet_coordinate_descent_gram(\n",
      "/usr/local/anaconda3/lib/python3.8/site-packages/sklearn/linear_model/_coordinate_descent.py:525: ConvergenceWarning: Objective did not converge. You might want to increase the number of iterations. Duality gap: 5215802117.611328, tolerance: 643157274.7358749\n",
      "  model = cd_fast.enet_coordinate_descent_gram(\n",
      "/usr/local/anaconda3/lib/python3.8/site-packages/sklearn/linear_model/_coordinate_descent.py:525: ConvergenceWarning: Objective did not converge. You might want to increase the number of iterations. Duality gap: 5039128437.652344, tolerance: 643157274.7358749\n",
      "  model = cd_fast.enet_coordinate_descent_gram(\n",
      "/usr/local/anaconda3/lib/python3.8/site-packages/sklearn/linear_model/_coordinate_descent.py:525: ConvergenceWarning: Objective did not converge. You might want to increase the number of iterations. Duality gap: 4861767732.170166, tolerance: 643157274.7358749\n",
      "  model = cd_fast.enet_coordinate_descent_gram(\n",
      "/usr/local/anaconda3/lib/python3.8/site-packages/sklearn/linear_model/_coordinate_descent.py:525: ConvergenceWarning: Objective did not converge. You might want to increase the number of iterations. Duality gap: 4685324610.821533, tolerance: 643157274.7358749\n",
      "  model = cd_fast.enet_coordinate_descent_gram(\n",
      "/usr/local/anaconda3/lib/python3.8/site-packages/sklearn/linear_model/_coordinate_descent.py:525: ConvergenceWarning: Objective did not converge. You might want to increase the number of iterations. Duality gap: 4511180312.599609, tolerance: 643157274.7358749\n",
      "  model = cd_fast.enet_coordinate_descent_gram(\n",
      "/usr/local/anaconda3/lib/python3.8/site-packages/sklearn/linear_model/_coordinate_descent.py:525: ConvergenceWarning: Objective did not converge. You might want to increase the number of iterations. Duality gap: 4340430857.632324, tolerance: 643157274.7358749\n",
      "  model = cd_fast.enet_coordinate_descent_gram(\n",
      "/usr/local/anaconda3/lib/python3.8/site-packages/sklearn/linear_model/_coordinate_descent.py:525: ConvergenceWarning: Objective did not converge. You might want to increase the number of iterations. Duality gap: 4173934129.5878906, tolerance: 643157274.7358749\n",
      "  model = cd_fast.enet_coordinate_descent_gram(\n",
      "/usr/local/anaconda3/lib/python3.8/site-packages/sklearn/linear_model/_coordinate_descent.py:525: ConvergenceWarning: Objective did not converge. You might want to increase the number of iterations. Duality gap: 4012348518.595215, tolerance: 643157274.7358749\n",
      "  model = cd_fast.enet_coordinate_descent_gram(\n",
      "/usr/local/anaconda3/lib/python3.8/site-packages/sklearn/linear_model/_coordinate_descent.py:525: ConvergenceWarning: Objective did not converge. You might want to increase the number of iterations. Duality gap: 862796369.7285156, tolerance: 728551181.7590104\n",
      "  model = cd_fast.enet_coordinate_descent_gram(\n",
      "/usr/local/anaconda3/lib/python3.8/site-packages/sklearn/linear_model/_coordinate_descent.py:525: ConvergenceWarning: Objective did not converge. You might want to increase the number of iterations. Duality gap: 879004077.2178955, tolerance: 728551181.7590104\n",
      "  model = cd_fast.enet_coordinate_descent_gram(\n",
      "/usr/local/anaconda3/lib/python3.8/site-packages/sklearn/linear_model/_coordinate_descent.py:525: ConvergenceWarning: Objective did not converge. You might want to increase the number of iterations. Duality gap: 842165271.5736084, tolerance: 728551181.7590104\n",
      "  model = cd_fast.enet_coordinate_descent_gram(\n",
      "/usr/local/anaconda3/lib/python3.8/site-packages/sklearn/linear_model/_coordinate_descent.py:525: ConvergenceWarning: Objective did not converge. You might want to increase the number of iterations. Duality gap: 802756394.3374023, tolerance: 728551181.7590104\n",
      "  model = cd_fast.enet_coordinate_descent_gram(\n",
      "/usr/local/anaconda3/lib/python3.8/site-packages/sklearn/linear_model/_coordinate_descent.py:525: ConvergenceWarning: Objective did not converge. You might want to increase the number of iterations. Duality gap: 797399043.8083496, tolerance: 643157274.7358749\n",
      "  model = cd_fast.enet_coordinate_descent_gram(\n",
      "/usr/local/anaconda3/lib/python3.8/site-packages/sklearn/linear_model/_coordinate_descent.py:525: ConvergenceWarning: Objective did not converge. You might want to increase the number of iterations. Duality gap: 770728422.7770996, tolerance: 643157274.7358749\n",
      "  model = cd_fast.enet_coordinate_descent_gram(\n",
      "/usr/local/anaconda3/lib/python3.8/site-packages/sklearn/linear_model/_coordinate_descent.py:525: ConvergenceWarning: Objective did not converge. You might want to increase the number of iterations. Duality gap: 819968856.9799805, tolerance: 643157274.7358749\n",
      "  model = cd_fast.enet_coordinate_descent_gram(\n",
      "/usr/local/anaconda3/lib/python3.8/site-packages/sklearn/linear_model/_coordinate_descent.py:525: ConvergenceWarning: Objective did not converge. You might want to increase the number of iterations. Duality gap: 755138549.5756836, tolerance: 643157274.7358749\n",
      "  model = cd_fast.enet_coordinate_descent_gram(\n",
      "/usr/local/anaconda3/lib/python3.8/site-packages/sklearn/linear_model/_coordinate_descent.py:525: ConvergenceWarning: Objective did not converge. You might want to increase the number of iterations. Duality gap: 720993934.1939697, tolerance: 643157274.7358749\n",
      "  model = cd_fast.enet_coordinate_descent_gram(\n",
      "/usr/local/anaconda3/lib/python3.8/site-packages/sklearn/linear_model/_coordinate_descent.py:525: ConvergenceWarning: Objective did not converge. You might want to increase the number of iterations. Duality gap: 690570702.866333, tolerance: 643157274.7358749\n",
      "  model = cd_fast.enet_coordinate_descent_gram(\n",
      "/usr/local/anaconda3/lib/python3.8/site-packages/sklearn/linear_model/_coordinate_descent.py:525: ConvergenceWarning: Objective did not converge. You might want to increase the number of iterations. Duality gap: 779888461.1992188, tolerance: 643157274.7358749\n",
      "  model = cd_fast.enet_coordinate_descent_gram(\n",
      "/usr/local/anaconda3/lib/python3.8/site-packages/sklearn/linear_model/_coordinate_descent.py:525: ConvergenceWarning: Objective did not converge. You might want to increase the number of iterations. Duality gap: 767868801.4304199, tolerance: 643157274.7358749\n",
      "  model = cd_fast.enet_coordinate_descent_gram(\n",
      "/usr/local/anaconda3/lib/python3.8/site-packages/sklearn/linear_model/_coordinate_descent.py:529: ConvergenceWarning: Objective did not converge. You might want to increase the number of iterations. Duality gap: 2560368784.5913086, tolerance: 878531943.8519696\n",
      "  model = cd_fast.enet_coordinate_descent(\n"
     ]
    },
    {
     "data": {
      "text/plain": [
       "0.8106641540199717"
      ]
     },
     "execution_count": 392,
     "metadata": {},
     "output_type": "execute_result"
    }
   ],
   "source": [
    "#fit model to training data\n",
    "ensamble.fit(X_train, y_train) #test our model on the test data\n",
    "ensamble.score(X_test, y_test)"
   ]
  },
  {
   "cell_type": "code",
   "execution_count": null,
   "metadata": {},
   "outputs": [],
   "source": []
  },
  {
   "cell_type": "code",
   "execution_count": null,
   "metadata": {},
   "outputs": [],
   "source": []
  },
  {
   "cell_type": "markdown",
   "metadata": {},
   "source": [
    "### Run model through test.csv"
   ]
  },
  {
   "cell_type": "code",
   "execution_count": 404,
   "metadata": {},
   "outputs": [],
   "source": [
    "X_TEST = proc_test.drop(columns=['SalePrice'])"
   ]
  },
  {
   "cell_type": "code",
   "execution_count": 405,
   "metadata": {},
   "outputs": [],
   "source": [
    "poly_TEST = PolynomialFeatures(include_bias=False)\n",
    "X_TEST_poly  = poly_TEST.fit_transform(X_TEST)"
   ]
  },
  {
   "cell_type": "code",
   "execution_count": 415,
   "metadata": {},
   "outputs": [],
   "source": [
    "preds = pipe.predict(X_TEST_poly)"
   ]
  },
  {
   "cell_type": "code",
   "execution_count": 416,
   "metadata": {},
   "outputs": [],
   "source": [
    "df_test['y_hat'] = preds"
   ]
  },
  {
   "cell_type": "code",
   "execution_count": 417,
   "metadata": {},
   "outputs": [
    {
     "data": {
      "text/plain": [
       "Id                   2658\n",
       "PID             902301120\n",
       "MS SubClass           190\n",
       "MS Zoning              RM\n",
       "Lot Frontage           69\n",
       "                  ...    \n",
       "Misc Val                0\n",
       "Mo Sold                 4\n",
       "Yr Sold              2006\n",
       "Sale Type             WD \n",
       "SalePrice             NaN\n",
       "Name: 2051, Length: 81, dtype: object"
      ]
     },
     "execution_count": 417,
     "metadata": {},
     "output_type": "execute_result"
    }
   ],
   "source": [
    "df.iloc[2051,:]"
   ]
  },
  {
   "cell_type": "code",
   "execution_count": 418,
   "metadata": {},
   "outputs": [
    {
     "data": {
      "text/html": [
       "<div>\n",
       "<style scoped>\n",
       "    .dataframe tbody tr th:only-of-type {\n",
       "        vertical-align: middle;\n",
       "    }\n",
       "\n",
       "    .dataframe tbody tr th {\n",
       "        vertical-align: top;\n",
       "    }\n",
       "\n",
       "    .dataframe thead th {\n",
       "        text-align: right;\n",
       "    }\n",
       "</style>\n",
       "<table border=\"1\" class=\"dataframe\">\n",
       "  <thead>\n",
       "    <tr style=\"text-align: right;\">\n",
       "      <th></th>\n",
       "      <th>Overall Qual</th>\n",
       "      <th>Gr Liv Area</th>\n",
       "      <th>Garage Area</th>\n",
       "      <th>Total Bsmt SF</th>\n",
       "      <th>1st Flr SF</th>\n",
       "      <th>SalePrice</th>\n",
       "      <th>Full Bath</th>\n",
       "    </tr>\n",
       "  </thead>\n",
       "  <tbody>\n",
       "    <tr>\n",
       "      <th>2051</th>\n",
       "      <td>6</td>\n",
       "      <td>1928</td>\n",
       "      <td>440.0</td>\n",
       "      <td>1020.0</td>\n",
       "      <td>908</td>\n",
       "      <td>NaN</td>\n",
       "      <td>2</td>\n",
       "    </tr>\n",
       "    <tr>\n",
       "      <th>2052</th>\n",
       "      <td>5</td>\n",
       "      <td>1967</td>\n",
       "      <td>580.0</td>\n",
       "      <td>1967.0</td>\n",
       "      <td>1967</td>\n",
       "      <td>NaN</td>\n",
       "      <td>2</td>\n",
       "    </tr>\n",
       "    <tr>\n",
       "      <th>2053</th>\n",
       "      <td>7</td>\n",
       "      <td>1496</td>\n",
       "      <td>426.0</td>\n",
       "      <td>654.0</td>\n",
       "      <td>664</td>\n",
       "      <td>NaN</td>\n",
       "      <td>2</td>\n",
       "    </tr>\n",
       "    <tr>\n",
       "      <th>2054</th>\n",
       "      <td>5</td>\n",
       "      <td>968</td>\n",
       "      <td>480.0</td>\n",
       "      <td>968.0</td>\n",
       "      <td>968</td>\n",
       "      <td>NaN</td>\n",
       "      <td>1</td>\n",
       "    </tr>\n",
       "    <tr>\n",
       "      <th>2055</th>\n",
       "      <td>6</td>\n",
       "      <td>1394</td>\n",
       "      <td>514.0</td>\n",
       "      <td>1394.0</td>\n",
       "      <td>1394</td>\n",
       "      <td>NaN</td>\n",
       "      <td>1</td>\n",
       "    </tr>\n",
       "  </tbody>\n",
       "</table>\n",
       "</div>"
      ],
      "text/plain": [
       "      Overall Qual  Gr Liv Area  Garage Area  Total Bsmt SF  1st Flr SF  \\\n",
       "2051             6         1928        440.0         1020.0         908   \n",
       "2052             5         1967        580.0         1967.0        1967   \n",
       "2053             7         1496        426.0          654.0         664   \n",
       "2054             5          968        480.0          968.0         968   \n",
       "2055             6         1394        514.0         1394.0        1394   \n",
       "\n",
       "      SalePrice  Full Bath  \n",
       "2051        NaN          2  \n",
       "2052        NaN          2  \n",
       "2053        NaN          2  \n",
       "2054        NaN          1  \n",
       "2055        NaN          1  "
      ]
     },
     "execution_count": 418,
     "metadata": {},
     "output_type": "execute_result"
    }
   ],
   "source": [
    "proc_test.head()"
   ]
  },
  {
   "cell_type": "code",
   "execution_count": 419,
   "metadata": {},
   "outputs": [
    {
     "data": {
      "text/html": [
       "<div>\n",
       "<style scoped>\n",
       "    .dataframe tbody tr th:only-of-type {\n",
       "        vertical-align: middle;\n",
       "    }\n",
       "\n",
       "    .dataframe tbody tr th {\n",
       "        vertical-align: top;\n",
       "    }\n",
       "\n",
       "    .dataframe thead th {\n",
       "        text-align: right;\n",
       "    }\n",
       "</style>\n",
       "<table border=\"1\" class=\"dataframe\">\n",
       "  <thead>\n",
       "    <tr style=\"text-align: right;\">\n",
       "      <th></th>\n",
       "      <th>Id</th>\n",
       "      <th>PID</th>\n",
       "      <th>MS SubClass</th>\n",
       "      <th>MS Zoning</th>\n",
       "      <th>Lot Frontage</th>\n",
       "      <th>Lot Area</th>\n",
       "      <th>Street</th>\n",
       "      <th>Alley</th>\n",
       "      <th>Lot Shape</th>\n",
       "      <th>Land Contour</th>\n",
       "      <th>...</th>\n",
       "      <th>Screen Porch</th>\n",
       "      <th>Pool Area</th>\n",
       "      <th>Pool QC</th>\n",
       "      <th>Fence</th>\n",
       "      <th>Misc Feature</th>\n",
       "      <th>Misc Val</th>\n",
       "      <th>Mo Sold</th>\n",
       "      <th>Yr Sold</th>\n",
       "      <th>Sale Type</th>\n",
       "      <th>y_hat</th>\n",
       "    </tr>\n",
       "  </thead>\n",
       "  <tbody>\n",
       "    <tr>\n",
       "      <th>0</th>\n",
       "      <td>2658</td>\n",
       "      <td>902301120</td>\n",
       "      <td>190</td>\n",
       "      <td>RM</td>\n",
       "      <td>69.0</td>\n",
       "      <td>9142</td>\n",
       "      <td>Pave</td>\n",
       "      <td>Grvl</td>\n",
       "      <td>Reg</td>\n",
       "      <td>Lvl</td>\n",
       "      <td>...</td>\n",
       "      <td>0</td>\n",
       "      <td>0</td>\n",
       "      <td>NaN</td>\n",
       "      <td>NaN</td>\n",
       "      <td>NaN</td>\n",
       "      <td>0</td>\n",
       "      <td>4</td>\n",
       "      <td>2006</td>\n",
       "      <td>WD</td>\n",
       "      <td>195781.272856</td>\n",
       "    </tr>\n",
       "    <tr>\n",
       "      <th>1</th>\n",
       "      <td>2718</td>\n",
       "      <td>905108090</td>\n",
       "      <td>90</td>\n",
       "      <td>RL</td>\n",
       "      <td>NaN</td>\n",
       "      <td>9662</td>\n",
       "      <td>Pave</td>\n",
       "      <td>NaN</td>\n",
       "      <td>IR1</td>\n",
       "      <td>Lvl</td>\n",
       "      <td>...</td>\n",
       "      <td>0</td>\n",
       "      <td>0</td>\n",
       "      <td>NaN</td>\n",
       "      <td>NaN</td>\n",
       "      <td>NaN</td>\n",
       "      <td>0</td>\n",
       "      <td>8</td>\n",
       "      <td>2006</td>\n",
       "      <td>WD</td>\n",
       "      <td>165979.884203</td>\n",
       "    </tr>\n",
       "    <tr>\n",
       "      <th>2</th>\n",
       "      <td>2414</td>\n",
       "      <td>528218130</td>\n",
       "      <td>60</td>\n",
       "      <td>RL</td>\n",
       "      <td>58.0</td>\n",
       "      <td>17104</td>\n",
       "      <td>Pave</td>\n",
       "      <td>NaN</td>\n",
       "      <td>IR1</td>\n",
       "      <td>Lvl</td>\n",
       "      <td>...</td>\n",
       "      <td>0</td>\n",
       "      <td>0</td>\n",
       "      <td>NaN</td>\n",
       "      <td>NaN</td>\n",
       "      <td>NaN</td>\n",
       "      <td>0</td>\n",
       "      <td>9</td>\n",
       "      <td>2006</td>\n",
       "      <td>New</td>\n",
       "      <td>161338.803422</td>\n",
       "    </tr>\n",
       "    <tr>\n",
       "      <th>3</th>\n",
       "      <td>1989</td>\n",
       "      <td>902207150</td>\n",
       "      <td>30</td>\n",
       "      <td>RM</td>\n",
       "      <td>60.0</td>\n",
       "      <td>8520</td>\n",
       "      <td>Pave</td>\n",
       "      <td>NaN</td>\n",
       "      <td>Reg</td>\n",
       "      <td>Lvl</td>\n",
       "      <td>...</td>\n",
       "      <td>0</td>\n",
       "      <td>0</td>\n",
       "      <td>NaN</td>\n",
       "      <td>NaN</td>\n",
       "      <td>NaN</td>\n",
       "      <td>0</td>\n",
       "      <td>7</td>\n",
       "      <td>2007</td>\n",
       "      <td>WD</td>\n",
       "      <td>128938.548978</td>\n",
       "    </tr>\n",
       "    <tr>\n",
       "      <th>4</th>\n",
       "      <td>625</td>\n",
       "      <td>535105100</td>\n",
       "      <td>20</td>\n",
       "      <td>RL</td>\n",
       "      <td>NaN</td>\n",
       "      <td>9500</td>\n",
       "      <td>Pave</td>\n",
       "      <td>NaN</td>\n",
       "      <td>IR1</td>\n",
       "      <td>Lvl</td>\n",
       "      <td>...</td>\n",
       "      <td>185</td>\n",
       "      <td>0</td>\n",
       "      <td>NaN</td>\n",
       "      <td>NaN</td>\n",
       "      <td>NaN</td>\n",
       "      <td>0</td>\n",
       "      <td>7</td>\n",
       "      <td>2009</td>\n",
       "      <td>WD</td>\n",
       "      <td>184273.795315</td>\n",
       "    </tr>\n",
       "  </tbody>\n",
       "</table>\n",
       "<p>5 rows × 81 columns</p>\n",
       "</div>"
      ],
      "text/plain": [
       "     Id        PID  MS SubClass MS Zoning  Lot Frontage  Lot Area Street  \\\n",
       "0  2658  902301120          190        RM          69.0      9142   Pave   \n",
       "1  2718  905108090           90        RL           NaN      9662   Pave   \n",
       "2  2414  528218130           60        RL          58.0     17104   Pave   \n",
       "3  1989  902207150           30        RM          60.0      8520   Pave   \n",
       "4   625  535105100           20        RL           NaN      9500   Pave   \n",
       "\n",
       "  Alley Lot Shape Land Contour  ... Screen Porch Pool Area Pool QC Fence  \\\n",
       "0  Grvl       Reg          Lvl  ...            0         0     NaN   NaN   \n",
       "1   NaN       IR1          Lvl  ...            0         0     NaN   NaN   \n",
       "2   NaN       IR1          Lvl  ...            0         0     NaN   NaN   \n",
       "3   NaN       Reg          Lvl  ...            0         0     NaN   NaN   \n",
       "4   NaN       IR1          Lvl  ...          185         0     NaN   NaN   \n",
       "\n",
       "  Misc Feature Misc Val Mo Sold Yr Sold  Sale Type          y_hat  \n",
       "0          NaN        0       4    2006        WD   195781.272856  \n",
       "1          NaN        0       8    2006        WD   165979.884203  \n",
       "2          NaN        0       9    2006        New  161338.803422  \n",
       "3          NaN        0       7    2007        WD   128938.548978  \n",
       "4          NaN        0       7    2009        WD   184273.795315  \n",
       "\n",
       "[5 rows x 81 columns]"
      ]
     },
     "execution_count": 419,
     "metadata": {},
     "output_type": "execute_result"
    }
   ],
   "source": [
    "df_test.head()"
   ]
  },
  {
   "cell_type": "code",
   "execution_count": 420,
   "metadata": {},
   "outputs": [],
   "source": [
    "df_submission = df_test[['Id','y_hat']]"
   ]
  },
  {
   "cell_type": "code",
   "execution_count": 421,
   "metadata": {},
   "outputs": [],
   "source": [
    "df_submission = df_submission.rename(columns={'y_hat':'SalePrice'})"
   ]
  },
  {
   "cell_type": "code",
   "execution_count": 422,
   "metadata": {},
   "outputs": [
    {
     "data": {
      "text/html": [
       "<div>\n",
       "<style scoped>\n",
       "    .dataframe tbody tr th:only-of-type {\n",
       "        vertical-align: middle;\n",
       "    }\n",
       "\n",
       "    .dataframe tbody tr th {\n",
       "        vertical-align: top;\n",
       "    }\n",
       "\n",
       "    .dataframe thead th {\n",
       "        text-align: right;\n",
       "    }\n",
       "</style>\n",
       "<table border=\"1\" class=\"dataframe\">\n",
       "  <thead>\n",
       "    <tr style=\"text-align: right;\">\n",
       "      <th></th>\n",
       "      <th>Id</th>\n",
       "      <th>SalePrice</th>\n",
       "    </tr>\n",
       "  </thead>\n",
       "  <tbody>\n",
       "    <tr>\n",
       "      <th>0</th>\n",
       "      <td>2658</td>\n",
       "      <td>195781.272856</td>\n",
       "    </tr>\n",
       "    <tr>\n",
       "      <th>1</th>\n",
       "      <td>2718</td>\n",
       "      <td>165979.884203</td>\n",
       "    </tr>\n",
       "    <tr>\n",
       "      <th>2</th>\n",
       "      <td>2414</td>\n",
       "      <td>161338.803422</td>\n",
       "    </tr>\n",
       "    <tr>\n",
       "      <th>3</th>\n",
       "      <td>1989</td>\n",
       "      <td>128938.548978</td>\n",
       "    </tr>\n",
       "    <tr>\n",
       "      <th>4</th>\n",
       "      <td>625</td>\n",
       "      <td>184273.795315</td>\n",
       "    </tr>\n",
       "    <tr>\n",
       "      <th>...</th>\n",
       "      <td>...</td>\n",
       "      <td>...</td>\n",
       "    </tr>\n",
       "    <tr>\n",
       "      <th>873</th>\n",
       "      <td>1662</td>\n",
       "      <td>197295.353267</td>\n",
       "    </tr>\n",
       "    <tr>\n",
       "      <th>874</th>\n",
       "      <td>1234</td>\n",
       "      <td>202733.440541</td>\n",
       "    </tr>\n",
       "    <tr>\n",
       "      <th>875</th>\n",
       "      <td>1373</td>\n",
       "      <td>133793.632103</td>\n",
       "    </tr>\n",
       "    <tr>\n",
       "      <th>876</th>\n",
       "      <td>1672</td>\n",
       "      <td>107254.902543</td>\n",
       "    </tr>\n",
       "    <tr>\n",
       "      <th>877</th>\n",
       "      <td>1939</td>\n",
       "      <td>122148.595730</td>\n",
       "    </tr>\n",
       "  </tbody>\n",
       "</table>\n",
       "<p>878 rows × 2 columns</p>\n",
       "</div>"
      ],
      "text/plain": [
       "       Id      SalePrice\n",
       "0    2658  195781.272856\n",
       "1    2718  165979.884203\n",
       "2    2414  161338.803422\n",
       "3    1989  128938.548978\n",
       "4     625  184273.795315\n",
       "..    ...            ...\n",
       "873  1662  197295.353267\n",
       "874  1234  202733.440541\n",
       "875  1373  133793.632103\n",
       "876  1672  107254.902543\n",
       "877  1939  122148.595730\n",
       "\n",
       "[878 rows x 2 columns]"
      ]
     },
     "execution_count": 422,
     "metadata": {},
     "output_type": "execute_result"
    }
   ],
   "source": [
    "df_submission"
   ]
  },
  {
   "cell_type": "markdown",
   "metadata": {},
   "source": [
    "### Export as CSV"
   ]
  },
  {
   "cell_type": "code",
   "execution_count": 424,
   "metadata": {},
   "outputs": [],
   "source": [
    "# df_submission.to_csv('my_submission_v17.csv', index=False)"
   ]
  },
  {
   "cell_type": "code",
   "execution_count": null,
   "metadata": {},
   "outputs": [],
   "source": []
  }
 ],
 "metadata": {
  "kernelspec": {
   "display_name": "Python 3",
   "language": "python",
   "name": "python3"
  },
  "language_info": {
   "codemirror_mode": {
    "name": "ipython",
    "version": 3
   },
   "file_extension": ".py",
   "mimetype": "text/x-python",
   "name": "python",
   "nbconvert_exporter": "python",
   "pygments_lexer": "ipython3",
   "version": "3.8.3"
  }
 },
 "nbformat": 4,
 "nbformat_minor": 4
}
