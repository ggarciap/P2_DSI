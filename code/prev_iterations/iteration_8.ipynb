{
 "cells": [
  {
   "cell_type": "markdown",
   "metadata": {},
   "source": [
    "### Importing Libraries"
   ]
  },
  {
   "cell_type": "code",
   "execution_count": 280,
   "metadata": {},
   "outputs": [],
   "source": [
    "import pandas as pd\n",
    "import numpy as np\n",
    "import matplotlib.pyplot as plt\n",
    "import seaborn as sns\n",
    "from sklearn.linear_model import LinearRegression, LassoCV, RidgeCV, Lasso\n",
    "from sklearn.preprocessing import PolynomialFeatures, StandardScaler\n",
    "from sklearn.model_selection import train_test_split, cross_val_score, cross_val_predict, GridSearchCV\n",
    "from sklearn.metrics import r2_score, mean_squared_error"
   ]
  },
  {
   "cell_type": "code",
   "execution_count": 281,
   "metadata": {},
   "outputs": [
    {
     "data": {
      "text/html": [
       "<div>\n",
       "<style scoped>\n",
       "    .dataframe tbody tr th:only-of-type {\n",
       "        vertical-align: middle;\n",
       "    }\n",
       "\n",
       "    .dataframe tbody tr th {\n",
       "        vertical-align: top;\n",
       "    }\n",
       "\n",
       "    .dataframe thead th {\n",
       "        text-align: right;\n",
       "    }\n",
       "</style>\n",
       "<table border=\"1\" class=\"dataframe\">\n",
       "  <thead>\n",
       "    <tr style=\"text-align: right;\">\n",
       "      <th></th>\n",
       "      <th>Id</th>\n",
       "      <th>PID</th>\n",
       "      <th>MS SubClass</th>\n",
       "      <th>MS Zoning</th>\n",
       "      <th>Lot Frontage</th>\n",
       "      <th>Lot Area</th>\n",
       "      <th>Street</th>\n",
       "      <th>Alley</th>\n",
       "      <th>Lot Shape</th>\n",
       "      <th>Land Contour</th>\n",
       "      <th>...</th>\n",
       "      <th>Screen Porch</th>\n",
       "      <th>Pool Area</th>\n",
       "      <th>Pool QC</th>\n",
       "      <th>Fence</th>\n",
       "      <th>Misc Feature</th>\n",
       "      <th>Misc Val</th>\n",
       "      <th>Mo Sold</th>\n",
       "      <th>Yr Sold</th>\n",
       "      <th>Sale Type</th>\n",
       "      <th>SalePrice</th>\n",
       "    </tr>\n",
       "  </thead>\n",
       "  <tbody>\n",
       "    <tr>\n",
       "      <th>0</th>\n",
       "      <td>109</td>\n",
       "      <td>533352170</td>\n",
       "      <td>60</td>\n",
       "      <td>RL</td>\n",
       "      <td>NaN</td>\n",
       "      <td>13517</td>\n",
       "      <td>Pave</td>\n",
       "      <td>NaN</td>\n",
       "      <td>IR1</td>\n",
       "      <td>Lvl</td>\n",
       "      <td>...</td>\n",
       "      <td>0</td>\n",
       "      <td>0</td>\n",
       "      <td>NaN</td>\n",
       "      <td>NaN</td>\n",
       "      <td>NaN</td>\n",
       "      <td>0</td>\n",
       "      <td>3</td>\n",
       "      <td>2010</td>\n",
       "      <td>WD</td>\n",
       "      <td>130500.0</td>\n",
       "    </tr>\n",
       "    <tr>\n",
       "      <th>1</th>\n",
       "      <td>544</td>\n",
       "      <td>531379050</td>\n",
       "      <td>60</td>\n",
       "      <td>RL</td>\n",
       "      <td>43.0</td>\n",
       "      <td>11492</td>\n",
       "      <td>Pave</td>\n",
       "      <td>NaN</td>\n",
       "      <td>IR1</td>\n",
       "      <td>Lvl</td>\n",
       "      <td>...</td>\n",
       "      <td>0</td>\n",
       "      <td>0</td>\n",
       "      <td>NaN</td>\n",
       "      <td>NaN</td>\n",
       "      <td>NaN</td>\n",
       "      <td>0</td>\n",
       "      <td>4</td>\n",
       "      <td>2009</td>\n",
       "      <td>WD</td>\n",
       "      <td>220000.0</td>\n",
       "    </tr>\n",
       "    <tr>\n",
       "      <th>2</th>\n",
       "      <td>153</td>\n",
       "      <td>535304180</td>\n",
       "      <td>20</td>\n",
       "      <td>RL</td>\n",
       "      <td>68.0</td>\n",
       "      <td>7922</td>\n",
       "      <td>Pave</td>\n",
       "      <td>NaN</td>\n",
       "      <td>Reg</td>\n",
       "      <td>Lvl</td>\n",
       "      <td>...</td>\n",
       "      <td>0</td>\n",
       "      <td>0</td>\n",
       "      <td>NaN</td>\n",
       "      <td>NaN</td>\n",
       "      <td>NaN</td>\n",
       "      <td>0</td>\n",
       "      <td>1</td>\n",
       "      <td>2010</td>\n",
       "      <td>WD</td>\n",
       "      <td>109000.0</td>\n",
       "    </tr>\n",
       "    <tr>\n",
       "      <th>3</th>\n",
       "      <td>318</td>\n",
       "      <td>916386060</td>\n",
       "      <td>60</td>\n",
       "      <td>RL</td>\n",
       "      <td>73.0</td>\n",
       "      <td>9802</td>\n",
       "      <td>Pave</td>\n",
       "      <td>NaN</td>\n",
       "      <td>Reg</td>\n",
       "      <td>Lvl</td>\n",
       "      <td>...</td>\n",
       "      <td>0</td>\n",
       "      <td>0</td>\n",
       "      <td>NaN</td>\n",
       "      <td>NaN</td>\n",
       "      <td>NaN</td>\n",
       "      <td>0</td>\n",
       "      <td>4</td>\n",
       "      <td>2010</td>\n",
       "      <td>WD</td>\n",
       "      <td>174000.0</td>\n",
       "    </tr>\n",
       "    <tr>\n",
       "      <th>4</th>\n",
       "      <td>255</td>\n",
       "      <td>906425045</td>\n",
       "      <td>50</td>\n",
       "      <td>RL</td>\n",
       "      <td>82.0</td>\n",
       "      <td>14235</td>\n",
       "      <td>Pave</td>\n",
       "      <td>NaN</td>\n",
       "      <td>IR1</td>\n",
       "      <td>Lvl</td>\n",
       "      <td>...</td>\n",
       "      <td>0</td>\n",
       "      <td>0</td>\n",
       "      <td>NaN</td>\n",
       "      <td>NaN</td>\n",
       "      <td>NaN</td>\n",
       "      <td>0</td>\n",
       "      <td>3</td>\n",
       "      <td>2010</td>\n",
       "      <td>WD</td>\n",
       "      <td>138500.0</td>\n",
       "    </tr>\n",
       "  </tbody>\n",
       "</table>\n",
       "<p>5 rows × 81 columns</p>\n",
       "</div>"
      ],
      "text/plain": [
       "    Id        PID  MS SubClass MS Zoning  Lot Frontage  Lot Area Street Alley  \\\n",
       "0  109  533352170           60        RL           NaN     13517   Pave   NaN   \n",
       "1  544  531379050           60        RL          43.0     11492   Pave   NaN   \n",
       "2  153  535304180           20        RL          68.0      7922   Pave   NaN   \n",
       "3  318  916386060           60        RL          73.0      9802   Pave   NaN   \n",
       "4  255  906425045           50        RL          82.0     14235   Pave   NaN   \n",
       "\n",
       "  Lot Shape Land Contour  ... Screen Porch Pool Area Pool QC Fence  \\\n",
       "0       IR1          Lvl  ...            0         0     NaN   NaN   \n",
       "1       IR1          Lvl  ...            0         0     NaN   NaN   \n",
       "2       Reg          Lvl  ...            0         0     NaN   NaN   \n",
       "3       Reg          Lvl  ...            0         0     NaN   NaN   \n",
       "4       IR1          Lvl  ...            0         0     NaN   NaN   \n",
       "\n",
       "  Misc Feature Misc Val Mo Sold Yr Sold  Sale Type  SalePrice  \n",
       "0          NaN        0       3    2010        WD    130500.0  \n",
       "1          NaN        0       4    2009        WD    220000.0  \n",
       "2          NaN        0       1    2010        WD    109000.0  \n",
       "3          NaN        0       4    2010        WD    174000.0  \n",
       "4          NaN        0       3    2010        WD    138500.0  \n",
       "\n",
       "[5 rows x 81 columns]"
      ]
     },
     "execution_count": 281,
     "metadata": {},
     "output_type": "execute_result"
    }
   ],
   "source": [
    "# By contatenating both training and testint dataset we ensure that\n",
    "# all the feature engineering and preprocesseing is mantained in both\n",
    "# datasets.  \n",
    "df_train = pd.read_csv('./datasets/train.csv')\n",
    "df_test = pd.read_csv('./datasets/test.csv')\n",
    "df = pd.concat([df_train, df_test], ignore_index=True)\n",
    "df.head()"
   ]
  },
  {
   "cell_type": "code",
   "execution_count": 282,
   "metadata": {},
   "outputs": [
    {
     "data": {
      "text/plain": [
       "(878, 80)"
      ]
     },
     "execution_count": 282,
     "metadata": {},
     "output_type": "execute_result"
    }
   ],
   "source": [
    "df_test.shape"
   ]
  },
  {
   "cell_type": "code",
   "execution_count": 283,
   "metadata": {},
   "outputs": [
    {
     "data": {
      "text/plain": [
       "{'A (agr)', 'C (all)', 'FV', 'I (all)', 'RH', 'RL', 'RM'}"
      ]
     },
     "execution_count": 283,
     "metadata": {},
     "output_type": "execute_result"
    }
   ],
   "source": [
    "set(df['MS Zoning'])"
   ]
  },
  {
   "cell_type": "code",
   "execution_count": 284,
   "metadata": {},
   "outputs": [
    {
     "name": "stdout",
     "output_type": "stream",
     "text": [
      "Column name: MS Zoning\n",
      " set: {'RM', 'C (all)', 'RL', 'RH', 'A (agr)', 'I (all)', 'FV'}\n",
      "Column name: Street\n",
      " set: {'Pave', 'Grvl'}\n",
      "Column name: Alley\n",
      " set: {nan, 'Pave', 'Grvl'}\n",
      "Column name: Lot Shape\n",
      " set: {'IR2', 'IR1', 'Reg', 'IR3'}\n",
      "Column name: Land Contour\n",
      " set: {'Lvl', 'Bnk', 'Low', 'HLS'}\n",
      "Column name: Utilities\n",
      " set: {'AllPub', 'NoSeWa', 'NoSewr'}\n",
      "Column name: Lot Config\n",
      " set: {'Inside', 'FR2', 'Corner', 'FR3', 'CulDSac'}\n",
      "Column name: Land Slope\n",
      " set: {'Mod', 'Sev', 'Gtl'}\n",
      "Column name: Neighborhood\n",
      " set: {'NWAmes', 'Timber', 'Landmrk', 'Sawyer', 'Edwards', 'IDOTRR', 'Somerst', 'Mitchel', 'NoRidge', 'BrkSide', 'CollgCr', 'SWISU', 'NAmes', 'NridgHt', 'Blmngtn', 'GrnHill', 'Blueste', 'BrDale', 'Greens', 'MeadowV', 'Gilbert', 'StoneBr', 'OldTown', 'NPkVill', 'Veenker', 'Crawfor', 'ClearCr', 'SawyerW'}\n",
      "Column name: Condition 1\n",
      " set: {'Norm', 'PosA', 'RRNe', 'RRAn', 'Feedr', 'Artery', 'PosN', 'RRAe', 'RRNn'}\n",
      "Column name: Condition 2\n",
      " set: {'Norm', 'PosA', 'RRAn', 'Feedr', 'Artery', 'PosN', 'RRAe', 'RRNn'}\n",
      "Column name: Bldg Type\n",
      " set: {'1Fam', 'TwnhsE', 'Duplex', 'Twnhs', '2fmCon'}\n",
      "Column name: House Style\n",
      " set: {'2.5Fin', '1.5Fin', '1.5Unf', 'SLvl', 'SFoyer', '2Story', '2.5Unf', '1Story'}\n",
      "Column name: Roof Style\n",
      " set: {'Hip', 'Shed', 'Mansard', 'Gable', 'Gambrel', 'Flat'}\n",
      "Column name: Roof Matl\n",
      " set: {'Membran', 'CompShg', 'Metal', 'WdShake', 'Tar&Grv', 'WdShngl', 'ClyTile', 'Roll'}\n",
      "Column name: Exterior 1st\n",
      " set: {'BrkComm', 'VinylSd', 'BrkFace', 'HdBoard', 'AsphShn', 'AsbShng', 'PreCast', 'CBlock', 'WdShing', 'ImStucc', 'Stucco', 'Stone', 'Plywood', 'MetalSd', 'CemntBd', 'Wd Sdng'}\n",
      "Column name: Exterior 2nd\n",
      " set: {'VinylSd', 'Wd Shng', 'BrkFace', 'HdBoard', 'Brk Cmn', 'AsbShng', 'AsphShn', 'Other', 'PreCast', 'CBlock', 'ImStucc', 'Stucco', 'Stone', 'Plywood', 'MetalSd', 'CmentBd', 'Wd Sdng'}\n",
      "Column name: Mas Vnr Type\n",
      " set: {nan, 'BrkFace', 'BrkCmn', 'None', 'CBlock', 'Stone'}\n",
      "Column name: Exter Qual\n",
      " set: {'TA', 'Gd', 'Ex', 'Fa'}\n",
      "Column name: Exter Cond\n",
      " set: {'Gd', 'Ex', 'Po', 'Fa', 'TA'}\n",
      "Column name: Foundation\n",
      " set: {'Wood', 'CBlock', 'PConc', 'BrkTil', 'Stone', 'Slab'}\n",
      "Column name: Bsmt Qual\n",
      " set: {nan, 'Gd', 'Ex', 'Po', 'Fa', 'TA'}\n",
      "Column name: Bsmt Cond\n",
      " set: {nan, 'Gd', 'Ex', 'Po', 'Fa', 'TA'}\n",
      "Column name: Bsmt Exposure\n",
      " set: {nan, 'Mn', 'Gd', 'No', 'Av'}\n",
      "Column name: BsmtFin Type 1\n",
      " set: {nan, 'GLQ', 'BLQ', 'ALQ', 'LwQ', 'Rec', 'Unf'}\n",
      "Column name: BsmtFin Type 2\n",
      " set: {nan, 'GLQ', 'BLQ', 'ALQ', 'LwQ', 'Rec', 'Unf'}\n",
      "Column name: Heating\n",
      " set: {'Wall', 'Grav', 'GasA', 'GasW', 'Floor', 'OthW'}\n",
      "Column name: Heating QC\n",
      " set: {'Gd', 'Ex', 'Po', 'Fa', 'TA'}\n",
      "Column name: Central Air\n",
      " set: {'N', 'Y'}\n",
      "Column name: Electrical\n",
      " set: {nan, 'FuseA', 'FuseP', 'Mix', 'SBrkr', 'FuseF'}\n",
      "Column name: Kitchen Qual\n",
      " set: {'Gd', 'Ex', 'Po', 'Fa', 'TA'}\n",
      "Column name: Functional\n",
      " set: {'Typ', 'Maj2', 'Min2', 'Sev', 'Mod', 'Min1', 'Sal', 'Maj1'}\n",
      "Column name: Fireplace Qu\n",
      " set: {nan, 'Gd', 'Ex', 'Po', 'Fa', 'TA'}\n",
      "Column name: Garage Type\n",
      " set: {nan, 'BuiltIn', 'CarPort', 'Attchd', 'Detchd', '2Types', 'Basment'}\n",
      "Column name: Garage Finish\n",
      " set: {'RFn', nan, 'Unf', 'Fin'}\n",
      "Column name: Garage Qual\n",
      " set: {nan, 'Gd', 'Ex', 'Po', 'Fa', 'TA'}\n",
      "Column name: Garage Cond\n",
      " set: {nan, 'Gd', 'Ex', 'Po', 'Fa', 'TA'}\n",
      "Column name: Paved Drive\n",
      " set: {'N', 'Y', 'P'}\n",
      "Column name: Pool QC\n",
      " set: {nan, 'Gd', 'Ex', 'Fa', 'TA'}\n",
      "Column name: Fence\n",
      " set: {nan, 'GdPrv', 'MnWw', 'MnPrv', 'GdWo'}\n",
      "Column name: Misc Feature\n",
      " set: {nan, 'Othr', 'Shed', 'TenC', 'Gar2', 'Elev'}\n",
      "Column name: Sale Type\n",
      " set: {'New', 'COD', 'Oth', 'ConLD', 'Con', 'CWD', 'WD ', 'ConLI', 'ConLw', 'VWD'}\n"
     ]
    }
   ],
   "source": [
    "temp_set = None\n",
    "obj_to_hot = []\n",
    "for i in df.columns:\n",
    "    add_col = True\n",
    "    if df[i].dtypes == 'object':\n",
    "        print(f'Column name: {i}\\n set: {set(df[i])}')\n",
    "        temp_set = set(df[i])\n",
    "        for x in temp_set:\n",
    "            if x != x:\n",
    "                add_col = False\n",
    "                break\n",
    "        if add_col:\n",
    "            obj_to_hot.append(i)"
   ]
  },
  {
   "cell_type": "code",
   "execution_count": 285,
   "metadata": {},
   "outputs": [
    {
     "data": {
      "text/plain": [
       "['MS Zoning',\n",
       " 'Street',\n",
       " 'Lot Shape',\n",
       " 'Land Contour',\n",
       " 'Utilities',\n",
       " 'Lot Config',\n",
       " 'Land Slope',\n",
       " 'Neighborhood',\n",
       " 'Condition 1',\n",
       " 'Condition 2',\n",
       " 'Bldg Type',\n",
       " 'House Style',\n",
       " 'Roof Style',\n",
       " 'Roof Matl',\n",
       " 'Exterior 1st',\n",
       " 'Exterior 2nd',\n",
       " 'Exter Qual',\n",
       " 'Exter Cond',\n",
       " 'Foundation',\n",
       " 'Heating',\n",
       " 'Heating QC',\n",
       " 'Central Air',\n",
       " 'Kitchen Qual',\n",
       " 'Functional',\n",
       " 'Paved Drive',\n",
       " 'Sale Type']"
      ]
     },
     "execution_count": 285,
     "metadata": {},
     "output_type": "execute_result"
    }
   ],
   "source": [
    "obj_to_hot"
   ]
  },
  {
   "cell_type": "code",
   "execution_count": 286,
   "metadata": {},
   "outputs": [],
   "source": [
    "def dummies_list_df(list_cols, df):\n",
    "    for i in list_cols:\n",
    "        pd.get_dummies(df, columns=[i], prefix=i, inplace=True)"
   ]
  },
  {
   "cell_type": "code",
   "execution_count": 287,
   "metadata": {},
   "outputs": [
    {
     "data": {
      "text/plain": [
       "(2929, 81)"
      ]
     },
     "execution_count": 287,
     "metadata": {},
     "output_type": "execute_result"
    }
   ],
   "source": [
    "df.shape"
   ]
  },
  {
   "cell_type": "code",
   "execution_count": 350,
   "metadata": {},
   "outputs": [],
   "source": [
    "features_high_corr = ['Overall Qual', 'Gr Liv Area', 'Garage Area', \n",
    "                      'Total Bsmt SF', '1st Flr SF', 'SalePrice','Full Bath']"
   ]
  },
  {
   "cell_type": "code",
   "execution_count": 351,
   "metadata": {},
   "outputs": [],
   "source": [
    "total_features = features_high_corr + obj_to_hot"
   ]
  },
  {
   "cell_type": "code",
   "execution_count": 352,
   "metadata": {},
   "outputs": [
    {
     "data": {
      "text/plain": [
       "Overall Qual       int64\n",
       "Gr Liv Area        int64\n",
       "Garage Area      float64\n",
       "Total Bsmt SF    float64\n",
       "1st Flr SF         int64\n",
       "SalePrice        float64\n",
       "Full Bath          int64\n",
       "MS Zoning         object\n",
       "Street            object\n",
       "Lot Shape         object\n",
       "Land Contour      object\n",
       "Utilities         object\n",
       "Lot Config        object\n",
       "Land Slope        object\n",
       "Neighborhood      object\n",
       "Condition 1       object\n",
       "Condition 2       object\n",
       "Bldg Type         object\n",
       "House Style       object\n",
       "Roof Style        object\n",
       "Roof Matl         object\n",
       "Exterior 1st      object\n",
       "Exterior 2nd      object\n",
       "Exter Qual        object\n",
       "Exter Cond        object\n",
       "Foundation        object\n",
       "Heating           object\n",
       "Heating QC        object\n",
       "Central Air       object\n",
       "Kitchen Qual      object\n",
       "Functional        object\n",
       "Paved Drive       object\n",
       "Sale Type         object\n",
       "dtype: object"
      ]
     },
     "execution_count": 352,
     "metadata": {},
     "output_type": "execute_result"
    }
   ],
   "source": [
    "df_first_iter = df[total_features]\n",
    "df_first_iter.dtypes"
   ]
  },
  {
   "cell_type": "code",
   "execution_count": 355,
   "metadata": {},
   "outputs": [],
   "source": [
    "df_first_iter = pd.get_dummies(df_first_iter, columns=obj_to_hot)"
   ]
  },
  {
   "cell_type": "code",
   "execution_count": 356,
   "metadata": {},
   "outputs": [
    {
     "data": {
      "text/plain": [
       "Overall Qual         int64\n",
       "Gr Liv Area          int64\n",
       "Garage Area        float64\n",
       "Total Bsmt SF      float64\n",
       "1st Flr SF           int64\n",
       "                    ...   \n",
       "Sale Type_ConLw      uint8\n",
       "Sale Type_New        uint8\n",
       "Sale Type_Oth        uint8\n",
       "Sale Type_VWD        uint8\n",
       "Sale Type_WD         uint8\n",
       "Length: 194, dtype: object"
      ]
     },
     "execution_count": 356,
     "metadata": {},
     "output_type": "execute_result"
    }
   ],
   "source": [
    "df_first_iter.dtypes"
   ]
  },
  {
   "cell_type": "code",
   "execution_count": 357,
   "metadata": {},
   "outputs": [
    {
     "data": {
      "text/plain": [
       "Overall Qual              0\n",
       "Exterior 2nd_AsbShng      0\n",
       "Exterior 2nd_AsphShn      0\n",
       "Exterior 2nd_Brk Cmn      0\n",
       "Exterior 2nd_BrkFace      0\n",
       "                       ... \n",
       "Neighborhood_Timber       0\n",
       "Sale Type_WD              0\n",
       "Total Bsmt SF             1\n",
       "Garage Area               1\n",
       "SalePrice               878\n",
       "Length: 194, dtype: int64"
      ]
     },
     "execution_count": 357,
     "metadata": {},
     "output_type": "execute_result"
    }
   ],
   "source": [
    "df_first_iter.isna().sum().sort_values()"
   ]
  },
  {
   "cell_type": "markdown",
   "metadata": {},
   "source": [
    "### Data Cleaning and Feature Engineering"
   ]
  },
  {
   "cell_type": "code",
   "execution_count": 388,
   "metadata": {},
   "outputs": [],
   "source": [
    "var_t = df_first_iter.corr()['SalePrice'].sort_values(ascending=False).to_numpy()\n",
    "names_arr = df_first_iter.corr()['SalePrice'].sort_values(ascending=False).index.values"
   ]
  },
  {
   "cell_type": "code",
   "execution_count": 389,
   "metadata": {},
   "outputs": [
    {
     "data": {
      "text/plain": [
       "numpy.ndarray"
      ]
     },
     "execution_count": 389,
     "metadata": {},
     "output_type": "execute_result"
    }
   ],
   "source": [
    "type(var_t)"
   ]
  },
  {
   "cell_type": "code",
   "execution_count": 390,
   "metadata": {},
   "outputs": [],
   "source": [
    "stacked_arr_corr = np.dstack((var_t,names_arr))"
   ]
  },
  {
   "cell_type": "code",
   "execution_count": 391,
   "metadata": {},
   "outputs": [
    {
     "data": {
      "text/plain": [
       "array([[[1.0, 'SalePrice'],\n",
       "        [0.8002068702531417, 'Overall Qual'],\n",
       "        [0.6970384443056628, 'Gr Liv Area'],\n",
       "        [0.6502700352166217, 'Garage Area'],\n",
       "        [0.6289247057344542, 'Total Bsmt SF'],\n",
       "        [0.6184861410533946, '1st Flr SF'],\n",
       "        [0.5512844949973916, 'Kitchen Qual_Ex'],\n",
       "        [0.5379691021121198, 'Full Bath'],\n",
       "        [0.5290468529844219, 'Foundation_PConc'],\n",
       "        [0.4938610166826227, 'Exter Qual_Ex'],\n",
       "        [0.45325535292868097, 'Heating QC_Ex'],\n",
       "        [0.44864681340299645, 'Neighborhood_NridgHt'],\n",
       "        [0.4466854983075194, 'Exter Qual_Gd'],\n",
       "        [0.3581019691173542, 'Sale Type_New'],\n",
       "        [0.34214555855939704, 'Exterior 1st_VinylSd'],\n",
       "        [0.3375625324636504, 'Exterior 2nd_VinylSd'],\n",
       "        [0.3062455312154595, 'Kitchen Qual_Gd'],\n",
       "        [0.2892096014539416, 'Paved Drive_Y'],\n",
       "        [0.2773778061451669, 'Central Air_Y'],\n",
       "        [0.27357444442084283, 'Lot Shape_IR1'],\n",
       "        [0.2652241868015608, 'Roof Style_Hip'],\n",
       "        [0.2633952224131199, 'Neighborhood_NoRidge'],\n",
       "        [0.2569774278175852, 'Neighborhood_StoneBr'],\n",
       "        [0.23146818258809546, 'MS Zoning_RL'],\n",
       "        [0.2122451419168345, 'Land Contour_HLS'],\n",
       "        [0.20191126665443787, 'House Style_2Story'],\n",
       "        [0.16751309000457887, 'Exterior 1st_CemntBd'],\n",
       "        [0.16243059023438794, 'Lot Config_CulDSac'],\n",
       "        [0.1569991094269595, 'Exterior 2nd_CmentBd'],\n",
       "        [0.15007843077381008, 'Neighborhood_Somerst'],\n",
       "        [0.12201440972201735, 'Exter Cond_TA'],\n",
       "        [0.11768167700802536, 'Functional_Typ'],\n",
       "        [0.11639970142249166, 'Neighborhood_Timber'],\n",
       "        [0.11135970035835893, 'Condition 1_Norm'],\n",
       "        [0.10995014798703719, 'Lot Shape_IR2'],\n",
       "        [0.10687730068639778, 'Condition 1_PosN'],\n",
       "        [0.10669527525723697, 'MS Zoning_FV'],\n",
       "        [0.10570537457013793, 'Bldg Type_1Fam'],\n",
       "        [0.10345896796564137, 'Condition 2_PosN'],\n",
       "        [0.10104392515824669, 'Condition 2_PosA'],\n",
       "        [0.09852735428656652, 'Roof Matl_WdShngl'],\n",
       "        [0.09402713158457693, 'Heating_GasA'],\n",
       "        [0.08318571796372055, 'Neighborhood_Veenker'],\n",
       "        [0.082308841508156, 'Neighborhood_CollgCr'],\n",
       "        [0.07092994626982135, 'Condition 1_PosA'],\n",
       "        [0.06984144401803405, 'Street_Pave'],\n",
       "        [0.06203719892029521, 'Bldg Type_TwnhsE'],\n",
       "        [0.06191016760411519, 'Land Slope_Mod'],\n",
       "        [0.05838564204438474, 'Neighborhood_Crawfor'],\n",
       "        [0.05250298614271529, 'Neighborhood_ClearCr'],\n",
       "        [0.04618035206067006, 'Roof Matl_WdShake'],\n",
       "        [0.04263112888786642, 'Exterior 2nd_ImStucc'],\n",
       "        [0.04251648378645925, 'House Style_2.5Fin'],\n",
       "        [0.04046709137551936, 'Exter Cond_Ex'],\n",
       "        [0.038848387253144843, 'Neighborhood_GrnHill'],\n",
       "        [0.034926205275145325, 'Neighborhood_NWAmes'],\n",
       "        [0.033660434021405373, 'Sale Type_Con'],\n",
       "        [0.03308281325300241, 'Utilities_AllPub'],\n",
       "        [0.03295258731881054, 'Land Contour_Low'],\n",
       "        [0.030371397539505064, 'Exterior 1st_Stone'],\n",
       "        [0.02623982711987379, 'Exterior 1st_BrkFace'],\n",
       "        [0.024899602668029215, 'Neighborhood_Blmngtn'],\n",
       "        [0.023973744999377485, 'Neighborhood_Gilbert'],\n",
       "        [0.022446134213300186, 'Exterior 1st_ImStucc'],\n",
       "        [0.019588128480110063, 'Sale Type_ConLI'],\n",
       "        [0.01673218852371215, 'Roof Matl_Membran'],\n",
       "        [0.01670822902677112, 'Neighborhood_SawyerW'],\n",
       "        [0.014352167406570238, 'Lot Config_FR3'],\n",
       "        [0.013136366969106271, 'Roof Style_Shed'],\n",
       "        [0.011597012210420561, 'Land Slope_Sev'],\n",
       "        [0.011442162228594361, 'Condition 1_RRNn'],\n",
       "        [0.010792934665853088, 'House Style_2.5Unf'],\n",
       "        [0.010687827448596861, 'Exterior 2nd_BrkFace'],\n",
       "        [0.010223774431189053, 'Roof Style_Flat'],\n",
       "        [0.009813025596934045, 'Lot Shape_IR3'],\n",
       "        [0.0070184212731663675, 'Roof Matl_Tar&Grv'],\n",
       "        [0.004562817413729714, 'Sale Type_CWD'],\n",
       "        [0.0034761957395305332, 'Neighborhood_Greens'],\n",
       "        [0.0023776420352350277, 'Condition 2_RRAe'],\n",
       "        [-0.0030437130758892037, 'Foundation_Wood'],\n",
       "        [-0.004792669170791108, 'Lot Config_Corner'],\n",
       "        [-0.005984229705625414, 'Roof Matl_ClyTile'],\n",
       "        [-0.009759291033829285, 'Condition 2_Norm'],\n",
       "        [-0.01225563351127077, 'Utilities_NoSeWa'],\n",
       "        [-0.012394998040285123, 'Neighborhood_Landmrk'],\n",
       "        [-0.012421477300797798, 'Condition 2_RRAn'],\n",
       "        [-0.014823053915271242, 'Lot Config_FR2'],\n",
       "        [-0.014953674092414663, 'Condition 1_RRAn'],\n",
       "        [-0.017778596503134417, 'Functional_Maj1'],\n",
       "        [-0.0212894703406227, 'Roof Style_Mansard'],\n",
       "        [-0.021651702681708105, 'House Style_1Story'],\n",
       "        [-0.021969085459829302, 'Heating_OthW'],\n",
       "        [-0.023833913340749358, 'Exterior 2nd_AsphShn'],\n",
       "        [-0.02385320818346178, 'Foundation_Stone'],\n",
       "        [-0.024377297972412903, 'Exterior 1st_BrkComm'],\n",
       "        [-0.024642331152657654, 'Exterior 2nd_Stone'],\n",
       "        [-0.02504545981579206, 'Condition 1_RRNe'],\n",
       "        [-0.02522610685811117, 'Neighborhood_Blueste'],\n",
       "        [-0.027620572835101796, 'Exterior 1st_AsphShn'],\n",
       "        [-0.030109141609156717, 'Sale Type_Oth'],\n",
       "        [-0.033403164608459684, 'Condition 2_RRNn'],\n",
       "        [-0.03379744319979182, 'Functional_Sev'],\n",
       "        [-0.034117736717742826, 'MS Zoning_RH'],\n",
       "        [-0.034519117021311725, 'MS Zoning_I (all)'],\n",
       "        [-0.034519117021311725, 'Utilities_NoSewr'],\n",
       "        [-0.03478313967812193, 'Exterior 1st_CBlock'],\n",
       "        [-0.035275987917286984, 'Exterior 2nd_CBlock'],\n",
       "        [-0.03547907713518738, 'Sale Type_ConLw'],\n",
       "        [-0.03557386708595462, 'Neighborhood_Mitchel'],\n",
       "        [-0.03781376805062957, 'Heating_GasW'],\n",
       "        [-0.038941533812984354, 'Condition 2_Artery'],\n",
       "        [-0.03912547298073022, 'Exterior 1st_Plywood'],\n",
       "        [-0.04188335269666473, 'Roof Style_Gambrel'],\n",
       "        [-0.04209811664698673, 'House Style_SLvl'],\n",
       "        [-0.0472955536841853, 'Neighborhood_NPkVill'],\n",
       "        [-0.047892784096388336, 'Exterior 2nd_Brk Cmn'],\n",
       "        [-0.04845532365522023, 'Condition 2_Feedr'],\n",
       "        [-0.048866236238635855, 'Exterior 1st_WdShing'],\n",
       "        [-0.049340048640348896, 'Functional_Min1'],\n",
       "        [-0.050420409416252275, 'Functional_Mod'],\n",
       "        [-0.051884537574290124, 'Exterior 2nd_Stucco'],\n",
       "        [-0.05290024094983149, 'MS Zoning_A (agr)'],\n",
       "        [-0.05363282672319313, 'Condition 1_RRAe'],\n",
       "        [-0.0538859374281617, 'Exter Cond_Po'],\n",
       "        [-0.05430772849871459, 'Heating QC_Po'],\n",
       "        [-0.05664835979306698, 'Functional_Min2'],\n",
       "        [-0.05911012876331181, 'Functional_Sal'],\n",
       "        [-0.05954107088378598, 'Exterior 2nd_Plywood'],\n",
       "        [-0.059798139661552556, 'Exter Cond_Gd'],\n",
       "        [-0.06043102579676047, 'Sale Type_ConLD'],\n",
       "        [-0.060864264316543, 'Exterior 1st_Stucco'],\n",
       "        [-0.061163630081260224, 'Exterior 2nd_Wd Shng'],\n",
       "        [-0.0626035885298289, 'Land Slope_Gtl'],\n",
       "        [-0.06408764870625015, 'House Style_SFoyer'],\n",
       "        [-0.06680506338160065, 'House Style_1.5Unf'],\n",
       "        [-0.06910826711093149, 'Roof Matl_CompShg'],\n",
       "        [-0.06965216949929734, 'Functional_Maj2'],\n",
       "        [-0.069841444018034, 'Street_Grvl'],\n",
       "        [-0.07131066440222145, 'Heating_Wall'],\n",
       "        [-0.07254919889999381, 'Heating_Grav'],\n",
       "        [-0.07421361041349141, 'Neighborhood_SWISU'],\n",
       "        [-0.08219355563031999, 'Lot Config_Inside'],\n",
       "        [-0.09074188432914988, 'Paved Drive_P'],\n",
       "        [-0.09282970290788241, 'Land Contour_Lvl'],\n",
       "        [-0.09530543049480082, 'Neighborhood_BrDale'],\n",
       "        [-0.09814283271293497, 'Land Contour_Bnk'],\n",
       "        [-0.10246196185025433, 'Exterior 2nd_HdBoard'],\n",
       "        [-0.10368946353434273, 'Bldg Type_Duplex'],\n",
       "        [-0.10760019344899023, 'Sale Type_COD'],\n",
       "        [-0.11040383207552237, 'Exterior 2nd_AsbShng'],\n",
       "        [-0.11142266635521937, 'Bldg Type_2fmCon'],\n",
       "        [-0.11155770246119054, 'Neighborhood_MeadowV'],\n",
       "        [-0.11389516973745095, 'Bldg Type_Twnhs'],\n",
       "        [-0.11433192069874579, 'Exterior 1st_HdBoard'],\n",
       "        [-0.11434967267832884, 'Condition 1_Feedr'],\n",
       "        [-0.11533797878535135, 'Heating QC_Gd'],\n",
       "        [-0.11905160471330954, 'Foundation_Slab'],\n",
       "        [-0.1250303131024968, 'Condition 1_Artery'],\n",
       "        [-0.1262529666842383, 'MS Zoning_C (all)'],\n",
       "        [-0.12634024452341402, 'Exterior 1st_AsbShng'],\n",
       "        [-0.13108515345417382, 'Exter Qual_Fa'],\n",
       "        [-0.1336915097934482, 'Neighborhood_Sawyer'],\n",
       "        [-0.13478960883185506, 'Neighborhood_BrkSide'],\n",
       "        [-0.13933926266388996, 'Exterior 2nd_MetalSd'],\n",
       "        [-0.14922710144349136, 'Heating QC_Fa'],\n",
       "        [-0.1498509690275735, 'Exterior 1st_MetalSd'],\n",
       "        [-0.15487456612545222, 'Kitchen Qual_Fa'],\n",
       "        [-0.15589901221140393, 'Exter Cond_Fa'],\n",
       "        [-0.1729710026317135, 'Exterior 2nd_Wd Sdng'],\n",
       "        [-0.17611881350860115, 'Neighborhood_Edwards'],\n",
       "        [-0.18923742256009599, 'Neighborhood_IDOTRR'],\n",
       "        [-0.18938685934090543, 'Neighborhood_NAmes'],\n",
       "        [-0.19173446228827223, 'Exterior 1st_Wd Sdng'],\n",
       "        [-0.19580258408890933, 'House Style_1.5Fin'],\n",
       "        [-0.20837101275410982, 'Neighborhood_OldTown'],\n",
       "        [-0.21254174769346357, 'Sale Type_WD '],\n",
       "        [-0.22989140766305763, 'Foundation_BrkTil'],\n",
       "        [-0.24932901330453372, 'Roof Style_Gable'],\n",
       "        [-0.27361254693516796, 'Paved Drive_N'],\n",
       "        [-0.27737780614516694, 'Central Air_N'],\n",
       "        [-0.28195143189242516, 'MS Zoning_RM'],\n",
       "        [-0.30629082600102003, 'Lot Shape_Reg'],\n",
       "        [-0.3435415579170811, 'Heating QC_TA'],\n",
       "        [-0.35553521520011516, 'Foundation_CBlock'],\n",
       "        [-0.5408600571106292, 'Kitchen Qual_TA'],\n",
       "        [-0.60036204387852, 'Exter Qual_TA'],\n",
       "        [nan, 'Roof Matl_Metal'],\n",
       "        [nan, 'Roof Matl_Roll'],\n",
       "        [nan, 'Exterior 1st_PreCast'],\n",
       "        [nan, 'Exterior 2nd_Other'],\n",
       "        [nan, 'Exterior 2nd_PreCast'],\n",
       "        [nan, 'Heating_Floor'],\n",
       "        [nan, 'Kitchen Qual_Po'],\n",
       "        [nan, 'Sale Type_VWD']]], dtype=object)"
      ]
     },
     "execution_count": 391,
     "metadata": {},
     "output_type": "execute_result"
    }
   ],
   "source": [
    "stacked_arr_corr"
   ]
  },
  {
   "cell_type": "code",
   "execution_count": 392,
   "metadata": {},
   "outputs": [
    {
     "data": {
      "text/html": [
       "<div>\n",
       "<style scoped>\n",
       "    .dataframe tbody tr th:only-of-type {\n",
       "        vertical-align: middle;\n",
       "    }\n",
       "\n",
       "    .dataframe tbody tr th {\n",
       "        vertical-align: top;\n",
       "    }\n",
       "\n",
       "    .dataframe thead th {\n",
       "        text-align: right;\n",
       "    }\n",
       "</style>\n",
       "<table border=\"1\" class=\"dataframe\">\n",
       "  <thead>\n",
       "    <tr style=\"text-align: right;\">\n",
       "      <th></th>\n",
       "      <th>Overall Qual</th>\n",
       "      <th>Gr Liv Area</th>\n",
       "      <th>Garage Area</th>\n",
       "      <th>Total Bsmt SF</th>\n",
       "      <th>1st Flr SF</th>\n",
       "      <th>SalePrice</th>\n",
       "      <th>Full Bath</th>\n",
       "      <th>MS Zoning_A (agr)</th>\n",
       "      <th>MS Zoning_C (all)</th>\n",
       "      <th>MS Zoning_FV</th>\n",
       "      <th>...</th>\n",
       "      <th>Sale Type_COD</th>\n",
       "      <th>Sale Type_CWD</th>\n",
       "      <th>Sale Type_Con</th>\n",
       "      <th>Sale Type_ConLD</th>\n",
       "      <th>Sale Type_ConLI</th>\n",
       "      <th>Sale Type_ConLw</th>\n",
       "      <th>Sale Type_New</th>\n",
       "      <th>Sale Type_Oth</th>\n",
       "      <th>Sale Type_VWD</th>\n",
       "      <th>Sale Type_WD</th>\n",
       "    </tr>\n",
       "  </thead>\n",
       "  <tbody>\n",
       "    <tr>\n",
       "      <th>0</th>\n",
       "      <td>6</td>\n",
       "      <td>1479</td>\n",
       "      <td>475.0</td>\n",
       "      <td>725.0</td>\n",
       "      <td>725</td>\n",
       "      <td>130500.0</td>\n",
       "      <td>2</td>\n",
       "      <td>0</td>\n",
       "      <td>0</td>\n",
       "      <td>0</td>\n",
       "      <td>...</td>\n",
       "      <td>0</td>\n",
       "      <td>0</td>\n",
       "      <td>0</td>\n",
       "      <td>0</td>\n",
       "      <td>0</td>\n",
       "      <td>0</td>\n",
       "      <td>0</td>\n",
       "      <td>0</td>\n",
       "      <td>0</td>\n",
       "      <td>1</td>\n",
       "    </tr>\n",
       "    <tr>\n",
       "      <th>1</th>\n",
       "      <td>7</td>\n",
       "      <td>2122</td>\n",
       "      <td>559.0</td>\n",
       "      <td>913.0</td>\n",
       "      <td>913</td>\n",
       "      <td>220000.0</td>\n",
       "      <td>2</td>\n",
       "      <td>0</td>\n",
       "      <td>0</td>\n",
       "      <td>0</td>\n",
       "      <td>...</td>\n",
       "      <td>0</td>\n",
       "      <td>0</td>\n",
       "      <td>0</td>\n",
       "      <td>0</td>\n",
       "      <td>0</td>\n",
       "      <td>0</td>\n",
       "      <td>0</td>\n",
       "      <td>0</td>\n",
       "      <td>0</td>\n",
       "      <td>1</td>\n",
       "    </tr>\n",
       "    <tr>\n",
       "      <th>2</th>\n",
       "      <td>5</td>\n",
       "      <td>1057</td>\n",
       "      <td>246.0</td>\n",
       "      <td>1057.0</td>\n",
       "      <td>1057</td>\n",
       "      <td>109000.0</td>\n",
       "      <td>1</td>\n",
       "      <td>0</td>\n",
       "      <td>0</td>\n",
       "      <td>0</td>\n",
       "      <td>...</td>\n",
       "      <td>0</td>\n",
       "      <td>0</td>\n",
       "      <td>0</td>\n",
       "      <td>0</td>\n",
       "      <td>0</td>\n",
       "      <td>0</td>\n",
       "      <td>0</td>\n",
       "      <td>0</td>\n",
       "      <td>0</td>\n",
       "      <td>1</td>\n",
       "    </tr>\n",
       "    <tr>\n",
       "      <th>3</th>\n",
       "      <td>5</td>\n",
       "      <td>1444</td>\n",
       "      <td>400.0</td>\n",
       "      <td>384.0</td>\n",
       "      <td>744</td>\n",
       "      <td>174000.0</td>\n",
       "      <td>2</td>\n",
       "      <td>0</td>\n",
       "      <td>0</td>\n",
       "      <td>0</td>\n",
       "      <td>...</td>\n",
       "      <td>0</td>\n",
       "      <td>0</td>\n",
       "      <td>0</td>\n",
       "      <td>0</td>\n",
       "      <td>0</td>\n",
       "      <td>0</td>\n",
       "      <td>0</td>\n",
       "      <td>0</td>\n",
       "      <td>0</td>\n",
       "      <td>1</td>\n",
       "    </tr>\n",
       "    <tr>\n",
       "      <th>4</th>\n",
       "      <td>6</td>\n",
       "      <td>1445</td>\n",
       "      <td>484.0</td>\n",
       "      <td>676.0</td>\n",
       "      <td>831</td>\n",
       "      <td>138500.0</td>\n",
       "      <td>2</td>\n",
       "      <td>0</td>\n",
       "      <td>0</td>\n",
       "      <td>0</td>\n",
       "      <td>...</td>\n",
       "      <td>0</td>\n",
       "      <td>0</td>\n",
       "      <td>0</td>\n",
       "      <td>0</td>\n",
       "      <td>0</td>\n",
       "      <td>0</td>\n",
       "      <td>0</td>\n",
       "      <td>0</td>\n",
       "      <td>0</td>\n",
       "      <td>1</td>\n",
       "    </tr>\n",
       "  </tbody>\n",
       "</table>\n",
       "<p>5 rows × 194 columns</p>\n",
       "</div>"
      ],
      "text/plain": [
       "   Overall Qual  Gr Liv Area  Garage Area  Total Bsmt SF  1st Flr SF  \\\n",
       "0             6         1479        475.0          725.0         725   \n",
       "1             7         2122        559.0          913.0         913   \n",
       "2             5         1057        246.0         1057.0        1057   \n",
       "3             5         1444        400.0          384.0         744   \n",
       "4             6         1445        484.0          676.0         831   \n",
       "\n",
       "   SalePrice  Full Bath  MS Zoning_A (agr)  MS Zoning_C (all)  MS Zoning_FV  \\\n",
       "0   130500.0          2                  0                  0             0   \n",
       "1   220000.0          2                  0                  0             0   \n",
       "2   109000.0          1                  0                  0             0   \n",
       "3   174000.0          2                  0                  0             0   \n",
       "4   138500.0          2                  0                  0             0   \n",
       "\n",
       "   ...  Sale Type_COD  Sale Type_CWD  Sale Type_Con  Sale Type_ConLD  \\\n",
       "0  ...              0              0              0                0   \n",
       "1  ...              0              0              0                0   \n",
       "2  ...              0              0              0                0   \n",
       "3  ...              0              0              0                0   \n",
       "4  ...              0              0              0                0   \n",
       "\n",
       "   Sale Type_ConLI  Sale Type_ConLw  Sale Type_New  Sale Type_Oth  \\\n",
       "0                0                0              0              0   \n",
       "1                0                0              0              0   \n",
       "2                0                0              0              0   \n",
       "3                0                0              0              0   \n",
       "4                0                0              0              0   \n",
       "\n",
       "   Sale Type_VWD  Sale Type_WD   \n",
       "0              0              1  \n",
       "1              0              1  \n",
       "2              0              1  \n",
       "3              0              1  \n",
       "4              0              1  \n",
       "\n",
       "[5 rows x 194 columns]"
      ]
     },
     "execution_count": 392,
     "metadata": {},
     "output_type": "execute_result"
    }
   ],
   "source": [
    "df_first_iter.head()"
   ]
  },
  {
   "cell_type": "code",
   "execution_count": 393,
   "metadata": {},
   "outputs": [],
   "source": [
    "df_first_iter = df_first_iter.dropna(subset=['Garage Area', 'Total Bsmt SF'])"
   ]
  },
  {
   "cell_type": "code",
   "execution_count": 394,
   "metadata": {},
   "outputs": [
    {
     "data": {
      "text/plain": [
       "Overall Qual              0\n",
       "Exterior 2nd_AsbShng      0\n",
       "Exterior 2nd_AsphShn      0\n",
       "Exterior 2nd_Brk Cmn      0\n",
       "Exterior 2nd_BrkFace      0\n",
       "                       ... \n",
       "Condition 1_RRAn          0\n",
       "Condition 1_RRNe          0\n",
       "Neighborhood_StoneBr      0\n",
       "Sale Type_WD              0\n",
       "SalePrice               878\n",
       "Length: 194, dtype: int64"
      ]
     },
     "execution_count": 394,
     "metadata": {},
     "output_type": "execute_result"
    }
   ],
   "source": [
    "df_first_iter.isna().sum().sort_values()"
   ]
  },
  {
   "cell_type": "code",
   "execution_count": 395,
   "metadata": {},
   "outputs": [
    {
     "data": {
      "text/plain": [
       "(2927, 194)"
      ]
     },
     "execution_count": 395,
     "metadata": {},
     "output_type": "execute_result"
    }
   ],
   "source": [
    "df_first_iter.shape"
   ]
  },
  {
   "cell_type": "code",
   "execution_count": 396,
   "metadata": {},
   "outputs": [
    {
     "data": {
      "text/plain": [
       "Overall Qual          int64\n",
       "Gr Liv Area           int64\n",
       "Garage Area         float64\n",
       "Total Bsmt SF       float64\n",
       "1st Flr SF            int64\n",
       "SalePrice           float64\n",
       "Full Bath             int64\n",
       "Kitchen Qual_Ex       uint8\n",
       "Foundation_PConc      uint8\n",
       "Kitchen Qual_TA       uint8\n",
       "Exter Qual_TA         uint8\n",
       "dtype: object"
      ]
     },
     "execution_count": 396,
     "metadata": {},
     "output_type": "execute_result"
    }
   ],
   "source": [
    "\n",
    "features_high_corr = ['Overall Qual', 'Gr Liv Area', 'Garage Area', \n",
    "                      'Total Bsmt SF', '1st Flr SF', 'SalePrice','Full Bath',\n",
    "                      'Kitchen Qual_Ex','Foundation_PConc','Kitchen Qual_TA',\n",
    "                      'Exter Qual_TA']\n",
    "\n",
    "df_second_iter = df_first_iter[features_high_corr]\n",
    "df_second_iter.dtypes"
   ]
  },
  {
   "cell_type": "markdown",
   "metadata": {},
   "source": [
    "### Define feature Matrix and Target"
   ]
  },
  {
   "cell_type": "code",
   "execution_count": 397,
   "metadata": {},
   "outputs": [],
   "source": [
    "proc_train = df_second_iter.loc[df['SalePrice'].notna()]\n",
    "proc_test = df_second_iter.loc[df['SalePrice'].isna()]"
   ]
  },
  {
   "cell_type": "code",
   "execution_count": 398,
   "metadata": {},
   "outputs": [
    {
     "data": {
      "text/plain": [
       "Overall Qual        0\n",
       "Gr Liv Area         0\n",
       "Garage Area         0\n",
       "Total Bsmt SF       0\n",
       "1st Flr SF          0\n",
       "SalePrice           0\n",
       "Full Bath           0\n",
       "Kitchen Qual_Ex     0\n",
       "Foundation_PConc    0\n",
       "Kitchen Qual_TA     0\n",
       "Exter Qual_TA       0\n",
       "dtype: int64"
      ]
     },
     "execution_count": 398,
     "metadata": {},
     "output_type": "execute_result"
    }
   ],
   "source": [
    "proc_train.isna().sum()"
   ]
  },
  {
   "cell_type": "code",
   "execution_count": 399,
   "metadata": {},
   "outputs": [
    {
     "data": {
      "text/plain": [
       "Overall Qual          0\n",
       "Gr Liv Area           0\n",
       "Garage Area           0\n",
       "Total Bsmt SF         0\n",
       "1st Flr SF            0\n",
       "SalePrice           878\n",
       "Full Bath             0\n",
       "Kitchen Qual_Ex       0\n",
       "Foundation_PConc      0\n",
       "Kitchen Qual_TA       0\n",
       "Exter Qual_TA         0\n",
       "dtype: int64"
      ]
     },
     "execution_count": 399,
     "metadata": {},
     "output_type": "execute_result"
    }
   ],
   "source": [
    "proc_test.isna().sum()"
   ]
  },
  {
   "cell_type": "code",
   "execution_count": 400,
   "metadata": {},
   "outputs": [],
   "source": [
    "X = proc_train.drop(columns=['SalePrice'])\n",
    "y = proc_train['SalePrice']"
   ]
  },
  {
   "cell_type": "code",
   "execution_count": 401,
   "metadata": {},
   "outputs": [],
   "source": [
    "poly = PolynomialFeatures(include_bias=False)"
   ]
  },
  {
   "cell_type": "code",
   "execution_count": 402,
   "metadata": {},
   "outputs": [],
   "source": [
    "X_poly = poly.fit_transform(X)"
   ]
  },
  {
   "cell_type": "markdown",
   "metadata": {},
   "source": [
    "### Instantiate, Fit and Model "
   ]
  },
  {
   "cell_type": "code",
   "execution_count": 403,
   "metadata": {},
   "outputs": [],
   "source": [
    "lr = LinearRegression()"
   ]
  },
  {
   "cell_type": "code",
   "execution_count": 404,
   "metadata": {},
   "outputs": [],
   "source": [
    "X_train, X_test, y_train, y_test = train_test_split(X_poly, y, random_state = 30)"
   ]
  },
  {
   "cell_type": "code",
   "execution_count": 405,
   "metadata": {},
   "outputs": [],
   "source": [
    "ss = StandardScaler()\n",
    "ss.fit(X_train)\n",
    "X_train = ss.transform(X_train)\n",
    "X_test = ss.transform(X_test)"
   ]
  },
  {
   "cell_type": "code",
   "execution_count": 406,
   "metadata": {},
   "outputs": [
    {
     "data": {
      "text/plain": [
       "LinearRegression()"
      ]
     },
     "execution_count": 406,
     "metadata": {},
     "output_type": "execute_result"
    }
   ],
   "source": [
    "lr.fit(X_train, y_train)"
   ]
  },
  {
   "cell_type": "code",
   "execution_count": 407,
   "metadata": {},
   "outputs": [
    {
     "data": {
      "text/plain": [
       "(0.890708659738612, 0.849815277481508)"
      ]
     },
     "execution_count": 407,
     "metadata": {},
     "output_type": "execute_result"
    }
   ],
   "source": [
    "lr.score(X_train, y_train), lr.score(X_test, y_test)"
   ]
  },
  {
   "cell_type": "code",
   "execution_count": 408,
   "metadata": {},
   "outputs": [
    {
     "data": {
      "text/plain": [
       "0.8674151763138942"
      ]
     },
     "execution_count": 408,
     "metadata": {},
     "output_type": "execute_result"
    }
   ],
   "source": [
    "cross_val_score(lr, X_poly, y, cv=5).mean()"
   ]
  },
  {
   "cell_type": "code",
   "execution_count": 409,
   "metadata": {},
   "outputs": [],
   "source": [
    "pred_temp = lr.predict(X_test)"
   ]
  },
  {
   "cell_type": "code",
   "execution_count": 410,
   "metadata": {},
   "outputs": [
    {
     "data": {
      "text/plain": [
       "29475.678811838647"
      ]
     },
     "execution_count": 410,
     "metadata": {},
     "output_type": "execute_result"
    }
   ],
   "source": [
    "np.sqrt(mean_squared_error(y_test, pred_temp))"
   ]
  },
  {
   "cell_type": "markdown",
   "metadata": {},
   "source": [
    "### Ridge model"
   ]
  },
  {
   "cell_type": "code",
   "execution_count": 411,
   "metadata": {},
   "outputs": [],
   "source": [
    "ridge = RidgeCV(alphas=np.linspace(.1, 10, 100))"
   ]
  },
  {
   "cell_type": "code",
   "execution_count": 412,
   "metadata": {},
   "outputs": [
    {
     "data": {
      "text/plain": [
       "0.7746116901567569"
      ]
     },
     "execution_count": 412,
     "metadata": {},
     "output_type": "execute_result"
    }
   ],
   "source": [
    "ridge_scores = cross_val_score(ridge, X_train, y_train, cv=3)\n",
    "ridge_scores.mean()"
   ]
  },
  {
   "cell_type": "code",
   "execution_count": 413,
   "metadata": {},
   "outputs": [
    {
     "data": {
      "text/plain": [
       "0.6486337236684955"
      ]
     },
     "execution_count": 413,
     "metadata": {},
     "output_type": "execute_result"
    }
   ],
   "source": [
    "ridge_scores = cross_val_score(ridge, X_test, y_test, cv=3)\n",
    "ridge_scores.mean()"
   ]
  },
  {
   "cell_type": "markdown",
   "metadata": {},
   "source": [
    "### Lasso "
   ]
  },
  {
   "cell_type": "code",
   "execution_count": 414,
   "metadata": {},
   "outputs": [],
   "source": [
    "#lasso = LassoCV(n_alphas=200)"
   ]
  },
  {
   "cell_type": "code",
   "execution_count": 415,
   "metadata": {},
   "outputs": [],
   "source": [
    "#lasso_scores = cross_val_score(lasso, X_train, y_train, cv=3)\n",
    "#lasso_scores.mean()"
   ]
  },
  {
   "cell_type": "code",
   "execution_count": 416,
   "metadata": {},
   "outputs": [],
   "source": [
    "#lasso_scores = cross_val_score(lasso,  X_test, y_test, cv=3)\n",
    "#lasso_scores.mean()"
   ]
  },
  {
   "cell_type": "markdown",
   "metadata": {},
   "source": [
    "### Lasso Grid "
   ]
  },
  {
   "cell_type": "code",
   "execution_count": 417,
   "metadata": {},
   "outputs": [],
   "source": [
    "lasso = Lasso()"
   ]
  },
  {
   "cell_type": "code",
   "execution_count": 418,
   "metadata": {},
   "outputs": [
    {
     "data": {
      "text/plain": [
       "\"\\nparameters = {'alpha':[1e-15, 1e-10, 1e-8, 1e-4, 1e-3, 1e-2, 1, 5, 10, 20]}\\nlasso_regressor = GridSearchCV(lasso, parameters, scoring='r2', cv=5)\\nlasso_regressor.fit(X_train, y_train)\\nprint(lasso_regressor.best_params_)\\nprint(lasso_regressor.best_score_)\\n\""
      ]
     },
     "execution_count": 418,
     "metadata": {},
     "output_type": "execute_result"
    }
   ],
   "source": [
    "'''\n",
    "parameters = {'alpha':[1e-15, 1e-10, 1e-8, 1e-4, 1e-3, 1e-2, 1, 5, 10, 20]}\n",
    "lasso_regressor = GridSearchCV(lasso, parameters, scoring='r2', cv=5)\n",
    "lasso_regressor.fit(X_train, y_train)\n",
    "print(lasso_regressor.best_params_)\n",
    "print(lasso_regressor.best_score_)\n",
    "'''\n"
   ]
  },
  {
   "cell_type": "markdown",
   "metadata": {},
   "source": [
    "### Run model through test.csv"
   ]
  },
  {
   "cell_type": "code",
   "execution_count": 419,
   "metadata": {},
   "outputs": [],
   "source": [
    "X_TEST = proc_test.drop(columns=['SalePrice'])"
   ]
  },
  {
   "cell_type": "code",
   "execution_count": 424,
   "metadata": {},
   "outputs": [],
   "source": [
    "poly_TEST = PolynomialFeatures(include_bias=False)\n",
    "X_TEST_poly  = poly_TEST.fit_transform(X_TEST)\n",
    "\n",
    "ss_TEST = StandardScaler()\n",
    "ss.fit(X_TEST_poly)\n",
    "X_TEST_poly = ss.transform(X_TEST_poly)\n"
   ]
  },
  {
   "cell_type": "code",
   "execution_count": 425,
   "metadata": {},
   "outputs": [],
   "source": [
    "preds = lr.predict(X_TEST_poly)"
   ]
  },
  {
   "cell_type": "code",
   "execution_count": 426,
   "metadata": {},
   "outputs": [],
   "source": [
    "df_test['y_hat'] = preds"
   ]
  },
  {
   "cell_type": "code",
   "execution_count": 427,
   "metadata": {},
   "outputs": [
    {
     "data": {
      "text/html": [
       "<div>\n",
       "<style scoped>\n",
       "    .dataframe tbody tr th:only-of-type {\n",
       "        vertical-align: middle;\n",
       "    }\n",
       "\n",
       "    .dataframe tbody tr th {\n",
       "        vertical-align: top;\n",
       "    }\n",
       "\n",
       "    .dataframe thead th {\n",
       "        text-align: right;\n",
       "    }\n",
       "</style>\n",
       "<table border=\"1\" class=\"dataframe\">\n",
       "  <thead>\n",
       "    <tr style=\"text-align: right;\">\n",
       "      <th></th>\n",
       "      <th>Overall Qual</th>\n",
       "      <th>Gr Liv Area</th>\n",
       "      <th>Garage Area</th>\n",
       "      <th>Total Bsmt SF</th>\n",
       "      <th>1st Flr SF</th>\n",
       "      <th>SalePrice</th>\n",
       "      <th>Full Bath</th>\n",
       "      <th>Kitchen Qual_Ex</th>\n",
       "      <th>Foundation_PConc</th>\n",
       "      <th>Kitchen Qual_TA</th>\n",
       "      <th>Exter Qual_TA</th>\n",
       "    </tr>\n",
       "  </thead>\n",
       "  <tbody>\n",
       "    <tr>\n",
       "      <th>2051</th>\n",
       "      <td>6</td>\n",
       "      <td>1928</td>\n",
       "      <td>440.0</td>\n",
       "      <td>1020.0</td>\n",
       "      <td>908</td>\n",
       "      <td>NaN</td>\n",
       "      <td>2</td>\n",
       "      <td>0</td>\n",
       "      <td>0</td>\n",
       "      <td>0</td>\n",
       "      <td>1</td>\n",
       "    </tr>\n",
       "    <tr>\n",
       "      <th>2052</th>\n",
       "      <td>5</td>\n",
       "      <td>1967</td>\n",
       "      <td>580.0</td>\n",
       "      <td>1967.0</td>\n",
       "      <td>1967</td>\n",
       "      <td>NaN</td>\n",
       "      <td>2</td>\n",
       "      <td>0</td>\n",
       "      <td>0</td>\n",
       "      <td>1</td>\n",
       "      <td>1</td>\n",
       "    </tr>\n",
       "    <tr>\n",
       "      <th>2053</th>\n",
       "      <td>7</td>\n",
       "      <td>1496</td>\n",
       "      <td>426.0</td>\n",
       "      <td>654.0</td>\n",
       "      <td>664</td>\n",
       "      <td>NaN</td>\n",
       "      <td>2</td>\n",
       "      <td>0</td>\n",
       "      <td>1</td>\n",
       "      <td>0</td>\n",
       "      <td>0</td>\n",
       "    </tr>\n",
       "    <tr>\n",
       "      <th>2054</th>\n",
       "      <td>5</td>\n",
       "      <td>968</td>\n",
       "      <td>480.0</td>\n",
       "      <td>968.0</td>\n",
       "      <td>968</td>\n",
       "      <td>NaN</td>\n",
       "      <td>1</td>\n",
       "      <td>0</td>\n",
       "      <td>0</td>\n",
       "      <td>1</td>\n",
       "      <td>0</td>\n",
       "    </tr>\n",
       "    <tr>\n",
       "      <th>2055</th>\n",
       "      <td>6</td>\n",
       "      <td>1394</td>\n",
       "      <td>514.0</td>\n",
       "      <td>1394.0</td>\n",
       "      <td>1394</td>\n",
       "      <td>NaN</td>\n",
       "      <td>1</td>\n",
       "      <td>0</td>\n",
       "      <td>0</td>\n",
       "      <td>1</td>\n",
       "      <td>1</td>\n",
       "    </tr>\n",
       "  </tbody>\n",
       "</table>\n",
       "</div>"
      ],
      "text/plain": [
       "      Overall Qual  Gr Liv Area  Garage Area  Total Bsmt SF  1st Flr SF  \\\n",
       "2051             6         1928        440.0         1020.0         908   \n",
       "2052             5         1967        580.0         1967.0        1967   \n",
       "2053             7         1496        426.0          654.0         664   \n",
       "2054             5          968        480.0          968.0         968   \n",
       "2055             6         1394        514.0         1394.0        1394   \n",
       "\n",
       "      SalePrice  Full Bath  Kitchen Qual_Ex  Foundation_PConc  \\\n",
       "2051        NaN          2                0                 0   \n",
       "2052        NaN          2                0                 0   \n",
       "2053        NaN          2                0                 1   \n",
       "2054        NaN          1                0                 0   \n",
       "2055        NaN          1                0                 0   \n",
       "\n",
       "      Kitchen Qual_TA  Exter Qual_TA  \n",
       "2051                0              1  \n",
       "2052                1              1  \n",
       "2053                0              0  \n",
       "2054                1              0  \n",
       "2055                1              1  "
      ]
     },
     "execution_count": 427,
     "metadata": {},
     "output_type": "execute_result"
    }
   ],
   "source": [
    "proc_test.head()"
   ]
  },
  {
   "cell_type": "code",
   "execution_count": 428,
   "metadata": {},
   "outputs": [
    {
     "data": {
      "text/html": [
       "<div>\n",
       "<style scoped>\n",
       "    .dataframe tbody tr th:only-of-type {\n",
       "        vertical-align: middle;\n",
       "    }\n",
       "\n",
       "    .dataframe tbody tr th {\n",
       "        vertical-align: top;\n",
       "    }\n",
       "\n",
       "    .dataframe thead th {\n",
       "        text-align: right;\n",
       "    }\n",
       "</style>\n",
       "<table border=\"1\" class=\"dataframe\">\n",
       "  <thead>\n",
       "    <tr style=\"text-align: right;\">\n",
       "      <th></th>\n",
       "      <th>Id</th>\n",
       "      <th>PID</th>\n",
       "      <th>MS SubClass</th>\n",
       "      <th>MS Zoning</th>\n",
       "      <th>Lot Frontage</th>\n",
       "      <th>Lot Area</th>\n",
       "      <th>Street</th>\n",
       "      <th>Alley</th>\n",
       "      <th>Lot Shape</th>\n",
       "      <th>Land Contour</th>\n",
       "      <th>...</th>\n",
       "      <th>Screen Porch</th>\n",
       "      <th>Pool Area</th>\n",
       "      <th>Pool QC</th>\n",
       "      <th>Fence</th>\n",
       "      <th>Misc Feature</th>\n",
       "      <th>Misc Val</th>\n",
       "      <th>Mo Sold</th>\n",
       "      <th>Yr Sold</th>\n",
       "      <th>Sale Type</th>\n",
       "      <th>y_hat</th>\n",
       "    </tr>\n",
       "  </thead>\n",
       "  <tbody>\n",
       "    <tr>\n",
       "      <th>0</th>\n",
       "      <td>2658</td>\n",
       "      <td>902301120</td>\n",
       "      <td>190</td>\n",
       "      <td>RM</td>\n",
       "      <td>69.0</td>\n",
       "      <td>9142</td>\n",
       "      <td>Pave</td>\n",
       "      <td>Grvl</td>\n",
       "      <td>Reg</td>\n",
       "      <td>Lvl</td>\n",
       "      <td>...</td>\n",
       "      <td>0</td>\n",
       "      <td>0</td>\n",
       "      <td>NaN</td>\n",
       "      <td>NaN</td>\n",
       "      <td>NaN</td>\n",
       "      <td>0</td>\n",
       "      <td>4</td>\n",
       "      <td>2006</td>\n",
       "      <td>WD</td>\n",
       "      <td>194056.415877</td>\n",
       "    </tr>\n",
       "    <tr>\n",
       "      <th>1</th>\n",
       "      <td>2718</td>\n",
       "      <td>905108090</td>\n",
       "      <td>90</td>\n",
       "      <td>RL</td>\n",
       "      <td>NaN</td>\n",
       "      <td>9662</td>\n",
       "      <td>Pave</td>\n",
       "      <td>NaN</td>\n",
       "      <td>IR1</td>\n",
       "      <td>Lvl</td>\n",
       "      <td>...</td>\n",
       "      <td>0</td>\n",
       "      <td>0</td>\n",
       "      <td>NaN</td>\n",
       "      <td>NaN</td>\n",
       "      <td>NaN</td>\n",
       "      <td>0</td>\n",
       "      <td>8</td>\n",
       "      <td>2006</td>\n",
       "      <td>WD</td>\n",
       "      <td>153832.184670</td>\n",
       "    </tr>\n",
       "    <tr>\n",
       "      <th>2</th>\n",
       "      <td>2414</td>\n",
       "      <td>528218130</td>\n",
       "      <td>60</td>\n",
       "      <td>RL</td>\n",
       "      <td>58.0</td>\n",
       "      <td>17104</td>\n",
       "      <td>Pave</td>\n",
       "      <td>NaN</td>\n",
       "      <td>IR1</td>\n",
       "      <td>Lvl</td>\n",
       "      <td>...</td>\n",
       "      <td>0</td>\n",
       "      <td>0</td>\n",
       "      <td>NaN</td>\n",
       "      <td>NaN</td>\n",
       "      <td>NaN</td>\n",
       "      <td>0</td>\n",
       "      <td>9</td>\n",
       "      <td>2006</td>\n",
       "      <td>New</td>\n",
       "      <td>169383.985674</td>\n",
       "    </tr>\n",
       "    <tr>\n",
       "      <th>3</th>\n",
       "      <td>1989</td>\n",
       "      <td>902207150</td>\n",
       "      <td>30</td>\n",
       "      <td>RM</td>\n",
       "      <td>60.0</td>\n",
       "      <td>8520</td>\n",
       "      <td>Pave</td>\n",
       "      <td>NaN</td>\n",
       "      <td>Reg</td>\n",
       "      <td>Lvl</td>\n",
       "      <td>...</td>\n",
       "      <td>0</td>\n",
       "      <td>0</td>\n",
       "      <td>NaN</td>\n",
       "      <td>NaN</td>\n",
       "      <td>NaN</td>\n",
       "      <td>0</td>\n",
       "      <td>7</td>\n",
       "      <td>2007</td>\n",
       "      <td>WD</td>\n",
       "      <td>134334.000989</td>\n",
       "    </tr>\n",
       "    <tr>\n",
       "      <th>4</th>\n",
       "      <td>625</td>\n",
       "      <td>535105100</td>\n",
       "      <td>20</td>\n",
       "      <td>RL</td>\n",
       "      <td>NaN</td>\n",
       "      <td>9500</td>\n",
       "      <td>Pave</td>\n",
       "      <td>NaN</td>\n",
       "      <td>IR1</td>\n",
       "      <td>Lvl</td>\n",
       "      <td>...</td>\n",
       "      <td>185</td>\n",
       "      <td>0</td>\n",
       "      <td>NaN</td>\n",
       "      <td>NaN</td>\n",
       "      <td>NaN</td>\n",
       "      <td>0</td>\n",
       "      <td>7</td>\n",
       "      <td>2009</td>\n",
       "      <td>WD</td>\n",
       "      <td>183664.946074</td>\n",
       "    </tr>\n",
       "  </tbody>\n",
       "</table>\n",
       "<p>5 rows × 81 columns</p>\n",
       "</div>"
      ],
      "text/plain": [
       "     Id        PID  MS SubClass MS Zoning  Lot Frontage  Lot Area Street  \\\n",
       "0  2658  902301120          190        RM          69.0      9142   Pave   \n",
       "1  2718  905108090           90        RL           NaN      9662   Pave   \n",
       "2  2414  528218130           60        RL          58.0     17104   Pave   \n",
       "3  1989  902207150           30        RM          60.0      8520   Pave   \n",
       "4   625  535105100           20        RL           NaN      9500   Pave   \n",
       "\n",
       "  Alley Lot Shape Land Contour  ... Screen Porch Pool Area Pool QC Fence  \\\n",
       "0  Grvl       Reg          Lvl  ...            0         0     NaN   NaN   \n",
       "1   NaN       IR1          Lvl  ...            0         0     NaN   NaN   \n",
       "2   NaN       IR1          Lvl  ...            0         0     NaN   NaN   \n",
       "3   NaN       Reg          Lvl  ...            0         0     NaN   NaN   \n",
       "4   NaN       IR1          Lvl  ...          185         0     NaN   NaN   \n",
       "\n",
       "  Misc Feature Misc Val Mo Sold Yr Sold  Sale Type          y_hat  \n",
       "0          NaN        0       4    2006        WD   194056.415877  \n",
       "1          NaN        0       8    2006        WD   153832.184670  \n",
       "2          NaN        0       9    2006        New  169383.985674  \n",
       "3          NaN        0       7    2007        WD   134334.000989  \n",
       "4          NaN        0       7    2009        WD   183664.946074  \n",
       "\n",
       "[5 rows x 81 columns]"
      ]
     },
     "execution_count": 428,
     "metadata": {},
     "output_type": "execute_result"
    }
   ],
   "source": [
    "df_test.head()"
   ]
  },
  {
   "cell_type": "code",
   "execution_count": 429,
   "metadata": {},
   "outputs": [],
   "source": [
    "df_submission = df_test[['Id','y_hat']]"
   ]
  },
  {
   "cell_type": "code",
   "execution_count": 430,
   "metadata": {},
   "outputs": [],
   "source": [
    "df_submission = df_submission.rename(columns={'y_hat':'SalePrice'})"
   ]
  },
  {
   "cell_type": "code",
   "execution_count": 431,
   "metadata": {},
   "outputs": [
    {
     "data": {
      "text/html": [
       "<div>\n",
       "<style scoped>\n",
       "    .dataframe tbody tr th:only-of-type {\n",
       "        vertical-align: middle;\n",
       "    }\n",
       "\n",
       "    .dataframe tbody tr th {\n",
       "        vertical-align: top;\n",
       "    }\n",
       "\n",
       "    .dataframe thead th {\n",
       "        text-align: right;\n",
       "    }\n",
       "</style>\n",
       "<table border=\"1\" class=\"dataframe\">\n",
       "  <thead>\n",
       "    <tr style=\"text-align: right;\">\n",
       "      <th></th>\n",
       "      <th>Id</th>\n",
       "      <th>SalePrice</th>\n",
       "    </tr>\n",
       "  </thead>\n",
       "  <tbody>\n",
       "    <tr>\n",
       "      <th>0</th>\n",
       "      <td>2658</td>\n",
       "      <td>194056.415877</td>\n",
       "    </tr>\n",
       "    <tr>\n",
       "      <th>1</th>\n",
       "      <td>2718</td>\n",
       "      <td>153832.184670</td>\n",
       "    </tr>\n",
       "    <tr>\n",
       "      <th>2</th>\n",
       "      <td>2414</td>\n",
       "      <td>169383.985674</td>\n",
       "    </tr>\n",
       "    <tr>\n",
       "      <th>3</th>\n",
       "      <td>1989</td>\n",
       "      <td>134334.000989</td>\n",
       "    </tr>\n",
       "    <tr>\n",
       "      <th>4</th>\n",
       "      <td>625</td>\n",
       "      <td>183664.946074</td>\n",
       "    </tr>\n",
       "    <tr>\n",
       "      <th>...</th>\n",
       "      <td>...</td>\n",
       "      <td>...</td>\n",
       "    </tr>\n",
       "    <tr>\n",
       "      <th>873</th>\n",
       "      <td>1662</td>\n",
       "      <td>179169.929057</td>\n",
       "    </tr>\n",
       "    <tr>\n",
       "      <th>874</th>\n",
       "      <td>1234</td>\n",
       "      <td>214430.485871</td>\n",
       "    </tr>\n",
       "    <tr>\n",
       "      <th>875</th>\n",
       "      <td>1373</td>\n",
       "      <td>141016.063303</td>\n",
       "    </tr>\n",
       "    <tr>\n",
       "      <th>876</th>\n",
       "      <td>1672</td>\n",
       "      <td>129022.544211</td>\n",
       "    </tr>\n",
       "    <tr>\n",
       "      <th>877</th>\n",
       "      <td>1939</td>\n",
       "      <td>132617.984484</td>\n",
       "    </tr>\n",
       "  </tbody>\n",
       "</table>\n",
       "<p>878 rows × 2 columns</p>\n",
       "</div>"
      ],
      "text/plain": [
       "       Id      SalePrice\n",
       "0    2658  194056.415877\n",
       "1    2718  153832.184670\n",
       "2    2414  169383.985674\n",
       "3    1989  134334.000989\n",
       "4     625  183664.946074\n",
       "..    ...            ...\n",
       "873  1662  179169.929057\n",
       "874  1234  214430.485871\n",
       "875  1373  141016.063303\n",
       "876  1672  129022.544211\n",
       "877  1939  132617.984484\n",
       "\n",
       "[878 rows x 2 columns]"
      ]
     },
     "execution_count": 431,
     "metadata": {},
     "output_type": "execute_result"
    }
   ],
   "source": [
    "df_submission"
   ]
  },
  {
   "cell_type": "markdown",
   "metadata": {},
   "source": [
    "### Export as CSV"
   ]
  },
  {
   "cell_type": "code",
   "execution_count": 432,
   "metadata": {},
   "outputs": [],
   "source": [
    "df_submission.to_csv('my_submission_v7.csv', index=False)"
   ]
  },
  {
   "cell_type": "code",
   "execution_count": null,
   "metadata": {},
   "outputs": [],
   "source": []
  }
 ],
 "metadata": {
  "kernelspec": {
   "display_name": "Python 3",
   "language": "python",
   "name": "python3"
  },
  "language_info": {
   "codemirror_mode": {
    "name": "ipython",
    "version": 3
   },
   "file_extension": ".py",
   "mimetype": "text/x-python",
   "name": "python",
   "nbconvert_exporter": "python",
   "pygments_lexer": "ipython3",
   "version": "3.8.3"
  }
 },
 "nbformat": 4,
 "nbformat_minor": 4
}
